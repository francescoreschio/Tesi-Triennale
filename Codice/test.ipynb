{
 "cells": [
  {
   "cell_type": "code",
   "execution_count": 1,
   "metadata": {},
   "outputs": [],
   "source": [
    "import numpy as np\n",
    "import matplotlib.pyplot as plt\n",
    "from mpl_toolkits.axes_grid1 import make_axes_locatable\n",
    "from matplotlib import ticker\n",
    "import awkward as ak\n",
    "import uproot \n",
    "import mplhep as hep\n",
    "import hist\n",
    "import os\n",
    "import time\n",
    "from numba import njit\n",
    "from scipy.optimize import curve_fit\n",
    "from scipy.optimize import linear_sum_assignment\n",
    "import tqdm\n",
    "\n",
    "\n",
    "\n",
    "from UtilityAndConst import *\n",
    "from Functions import *\n",
    "\n",
    "dir = \"/Users/francescolarovere/Documents/Tesi-Triennale/Dati\"\n",
    "os.chdir(dir)\n",
    "\n",
    "hep.style.use(\"CMS\")\n",
    "np.set_printoptions(threshold=np.inf)"
   ]
  },
  {
   "cell_type": "code",
   "execution_count": 2,
   "metadata": {},
   "outputs": [],
   "source": [
    "LS133 = \"./ntupleStubsBmtfGmt_LS133.root\"\n",
    "gmt_awk_LS133 = OpenRootFile(LS133, gmt_features)\n",
    "bmtf_awk_LS133 = OpenRootFile(LS133, bmtf_features)"
   ]
  },
  {
   "cell_type": "code",
   "execution_count": null,
   "metadata": {},
   "outputs": [],
   "source": []
  },
  {
   "cell_type": "code",
   "execution_count": 33,
   "metadata": {},
   "outputs": [
    {
     "name": "stdout",
     "output_type": "stream",
     "text": [
      "[1, 3]\n",
      "[[3, 5], [4, 6], [5, 7]]\n"
     ]
    },
    {
     "ename": "TypeError",
     "evalue": "int() argument must be a string, a bytes-like object or a real number, not 'Array'",
     "output_type": "error",
     "traceback": [
      "\u001b[0;31m---------------------------------------------------------------------------\u001b[0m",
      "\u001b[0;31mTypeError\u001b[0m                                 Traceback (most recent call last)",
      "Cell \u001b[0;32mIn[33], line 27\u001b[0m\n\u001b[1;32m     25\u001b[0m \u001b[38;5;28mprint\u001b[39m(array_new)\n\u001b[1;32m     26\u001b[0m \u001b[38;5;28mprint\u001b[39m(new_array)\n\u001b[0;32m---> 27\u001b[0m right \u001b[38;5;241m=\u001b[39m ak\u001b[38;5;241m.\u001b[39mconcatenate(new_array, array[\u001b[38;5;241m1\u001b[39m:])\n",
      "File \u001b[0;32m/opt/anaconda3/lib/python3.12/site-packages/awkward/_dispatch.py:64\u001b[0m, in \u001b[0;36mnamed_high_level_function.<locals>.dispatch\u001b[0;34m(*args, **kwargs)\u001b[0m\n\u001b[1;32m     62\u001b[0m \u001b[38;5;66;03m# Failed to find a custom overload, so resume the original function\u001b[39;00m\n\u001b[1;32m     63\u001b[0m \u001b[38;5;28;01mtry\u001b[39;00m:\n\u001b[0;32m---> 64\u001b[0m     \u001b[38;5;28mnext\u001b[39m(gen_or_result)\n\u001b[1;32m     65\u001b[0m \u001b[38;5;28;01mexcept\u001b[39;00m \u001b[38;5;167;01mStopIteration\u001b[39;00m \u001b[38;5;28;01mas\u001b[39;00m err:\n\u001b[1;32m     66\u001b[0m     \u001b[38;5;28;01mreturn\u001b[39;00m err\u001b[38;5;241m.\u001b[39mvalue\n",
      "File \u001b[0;32m/opt/anaconda3/lib/python3.12/site-packages/awkward/operations/ak_concatenate.py:64\u001b[0m, in \u001b[0;36mconcatenate\u001b[0;34m(arrays, axis, mergebool, highlevel, behavior, attrs)\u001b[0m\n\u001b[1;32m     61\u001b[0m     \u001b[38;5;28;01myield\u001b[39;00m arrays\n\u001b[1;32m     63\u001b[0m \u001b[38;5;66;03m# Implementation\u001b[39;00m\n\u001b[0;32m---> 64\u001b[0m \u001b[38;5;28;01mreturn\u001b[39;00m _impl(arrays, axis, mergebool, highlevel, behavior, attrs)\n",
      "File \u001b[0;32m/opt/anaconda3/lib/python3.12/site-packages/awkward/operations/ak_concatenate.py:95\u001b[0m, in \u001b[0;36m_impl\u001b[0;34m(arrays, axis, mergebool, highlevel, behavior, attrs)\u001b[0m\n\u001b[1;32m     94\u001b[0m \u001b[38;5;28;01mdef\u001b[39;00m \u001b[38;5;21m_impl\u001b[39m(arrays, axis, mergebool, highlevel, behavior, attrs):\n\u001b[0;32m---> 95\u001b[0m     axis \u001b[38;5;241m=\u001b[39m regularize_axis(axis)\n\u001b[1;32m     96\u001b[0m     \u001b[38;5;66;03m# Simple single-array, axis=0 fast-path\u001b[39;00m\n\u001b[1;32m     97\u001b[0m     \u001b[38;5;28;01mif\u001b[39;00m (\n\u001b[1;32m     98\u001b[0m         \u001b[38;5;66;03m# Is an array with a known backend\u001b[39;00m\n\u001b[1;32m     99\u001b[0m         backend_of_obj(arrays, default\u001b[38;5;241m=\u001b[39m\u001b[38;5;28;01mNone\u001b[39;00m) \u001b[38;5;129;01mis\u001b[39;00m \u001b[38;5;129;01mnot\u001b[39;00m \u001b[38;5;28;01mNone\u001b[39;00m\n\u001b[1;32m    100\u001b[0m     ):\n\u001b[1;32m    101\u001b[0m         \u001b[38;5;66;03m# Convert the array to a layout object\u001b[39;00m\n",
      "File \u001b[0;32m/opt/anaconda3/lib/python3.12/site-packages/awkward/_regularize.py:58\u001b[0m, in \u001b[0;36mregularize_axis\u001b[0;34m(axis)\u001b[0m\n\u001b[1;32m     56\u001b[0m     \u001b[38;5;28;01mreturn\u001b[39;00m \u001b[38;5;28;01mNone\u001b[39;00m\n\u001b[1;32m     57\u001b[0m \u001b[38;5;28;01melse\u001b[39;00m:\n\u001b[0;32m---> 58\u001b[0m     \u001b[38;5;28;01mreturn\u001b[39;00m \u001b[38;5;28mint\u001b[39m(axis)\n",
      "\u001b[0;31mTypeError\u001b[0m: int() argument must be a string, a bytes-like object or a real number, not 'Array'",
      "\u001b[0m\nThis error occurred while calling\n\n    ak.concatenate(\n        <Array [[3, 5], [4, 6], [5, 7]] type='3 * var * int64'>\n        <Array [2, 3, 4] type='3 * union[var * int64, int64]'>\n    )"
     ]
    }
   ],
   "source": [
    "Gmt_Phi_LS133 = gmt_awk_LS133.gmtPhi\n",
    "Bmtf_Phi_LS133 = bmtf_awk_LS133.bmtfPhi\n",
    "\n",
    "Gmt_Eta_LS133 = gmt_awk_LS133.gmtEta\n",
    "Bmtf_Eta_LS133 = bmtf_awk_LS133.bmtfEta\n",
    "\n",
    "nGmtMuons_LS133 = gmt_awk_LS133.nGmtMuons\n",
    "nBmtfMuons_LS133 = bmtf_awk_LS133.nBmtfMuons\n",
    "\n",
    "\n",
    "\n",
    "# Definire l'array\n",
    "array = [[1, 2, 3], 2, 3, 4]\n",
    "array = ak.Array(array)\n",
    "\n",
    "i = 0\n",
    "j = 1\n",
    "\n",
    "# Crea una nuova versione di array[i] senza l'elemento j\n",
    "array_new = ak.concatenate([array[i][:j], array[i][j+1:]])\n",
    "\n",
    "# Ricostruisci l'intero array con la modifica\n",
    "new_array = ak.Array([array_new] + array[1:])\n",
    "\n",
    "print(array_new)\n",
    "print(new_array)\n",
    "right = ak.concatenate(new_array, array[1:])"
   ]
  },
  {
   "cell_type": "code",
   "execution_count": 4,
   "metadata": {},
   "outputs": [],
   "source": [
    "def Delta(BMTF, GMT):\n",
    "  return BMTF - GMT\n",
    "\n",
    "def DeltaR(BmtfPhi, GmtPhi, BmtfEta, GmtEta):\n",
    "  return np.sqrt((BmtfPhi - GmtPhi)**2 + (BmtfEta - GmtEta)**2)"
   ]
  },
  {
   "cell_type": "code",
   "execution_count": 21,
   "metadata": {},
   "outputs": [
    {
     "name": "stderr",
     "output_type": "stream",
     "text": [
      "100%|██████████| 50000/50000 [00:30<00:00, 1647.53it/s]\n"
     ]
    }
   ],
   "source": [
    "MuonsProperties = []\n",
    "\n",
    "use_Bmtf = True\n",
    "\n",
    "\n",
    "for i in tqdm.tqdm(range(50000)):\n",
    "\n",
    "  DeltaRDistBMTF = []\n",
    "  IndexMinBMTF = []\n",
    "  DeltaRDistGMT = []\n",
    "  IndexMinGMT = []\n",
    "\n",
    "  if nGmtMuons_LS133[i] == 0 and nBmtfMuons_LS133[i] == 0:\n",
    "    unmatched_Bmtf = []\n",
    "    unmatched_Gmt = []\n",
    "  \n",
    "  elif nBmtfMuons_LS133[i] == 0:\n",
    "    unmatched_Bmtf = []\n",
    "    unmatched_Gmt = [range(nGmtMuons_LS133[i])]\n",
    "\n",
    "  elif nGmtMuons_LS133[i] == 0:\n",
    "    unmatched_Bmtf = [range(nBmtfMuons_LS133[i])]\n",
    "    unmatched_Gmt = []\n",
    "\n",
    "  else:\n",
    "    #Primo metodo \n",
    "    for j in range(nBmtfMuons_LS133[i]):\n",
    "\n",
    "      DeltaRTemp = DeltaR(Bmtf_Phi_LS133[i, j], Gmt_Phi_LS133[i, :], Bmtf_Eta_LS133[i, j], Gmt_Eta_LS133[i, :])\n",
    "\n",
    "      minDeltaR = np.min(DeltaRTemp)\n",
    "\n",
    "      if minDeltaR < 0.4:\n",
    "\n",
    "        indexTempBMTF = np.argmin(DeltaRTemp)\n",
    "        DeltaRDistBMTF.append(minDeltaR)\n",
    "        IndexMinBMTF.append(indexTempBMTF)\n",
    "        DeltaPhi_BMTF = Delta(Bmtf_Phi_LS133[i, j], Gmt_Phi_LS133[i, indexTempBMTF])\n",
    "        DeltaEta_BMTF = Delta(Bmtf_Eta_LS133[i, j], Gmt_Eta_LS133[i, indexTempBMTF])\n",
    "\n",
    "      else:\n",
    "        #Se DeltaR > 0.4 (primo metodo) non c'è match con i muoni del GMT\n",
    "        unmatched_Gmt = [range(nGmtMuons_LS133[i])]\n",
    "  \n",
    "    \n",
    "      matched_Bmtf_Index = [i for i in IndexMinBMTF if IndexMinBMTF]\n",
    "      unmatched_Bmtf = [i for i in range(nBmtfMuons_LS133[i]) if i not in matched_Bmtf_Index]\n",
    "\n",
    "\n",
    "    \n",
    "    #Secondo metodo \n",
    "    for k in range(nGmtMuons_LS133[i]):\n",
    "      DeltaRTemp = DeltaR(Bmtf_Phi_LS133[i, :], Gmt_Phi_LS133[i, k], Bmtf_Eta_LS133[i, :], Gmt_Eta_LS133[i, k])\n",
    "\n",
    "      minDeltaR = np.min(DeltaRTemp)\n",
    "\n",
    "      if minDeltaR < 0.4:\n",
    "  \n",
    "        indexTempGMT = np.argmin(DeltaRTemp)\n",
    "        DeltaRDistGMT.append(minDeltaR)\n",
    "        IndexMinGMT.append(indexTempGMT)\n",
    "        DeltaPhi_GMT = Delta(Bmtf_Phi_LS133[i, indexTempGMT], Gmt_Phi_LS133[i, k])\n",
    "        DeltaEta_GMT = Delta(Bmtf_Eta_LS133[i, indexTempGMT], Gmt_Eta_LS133[i, k])\n",
    "      \n",
    "      else:\n",
    "        unmatched_Bmtf = [range(nBmtfMuons_LS133[i])]\n",
    "\n",
    "      matched_Gmt_Index = [k for k in IndexMinGMT if IndexMinGMT]\n",
    "      unmatched_Gmt = [k for k in range(nGmtMuons_LS133[i]) if k not in matched_Gmt_Index]\n",
    "\n",
    "\n",
    "      #Tolgo il valore \n",
    "\n",
    "  Events = {\n",
    "    'unmatched_Gmt_Events' : unmatched_Gmt,\n",
    "    'unmatched_Bmtf_Events': unmatched_Bmtf, \n",
    "    'DeltaR': DeltaRDistBMTF,\n",
    "  }\n",
    "\n",
    "  MuonsProperties.append(Events)\n"
   ]
  },
  {
   "cell_type": "code",
   "execution_count": 22,
   "metadata": {},
   "outputs": [
    {
     "name": "stdout",
     "output_type": "stream",
     "text": [
      "554\n",
      "94\n"
     ]
    }
   ],
   "source": [
    "MuonsProperties = ak.Array(MuonsProperties)\n",
    "print(ak.sum(ak.num(MuonsProperties.unmatched_Bmtf_Events)))\n",
    "print(ak.sum(ak.num(MuonsProperties.unmatched_Gmt_Events)))"
   ]
  },
  {
   "cell_type": "code",
   "execution_count": null,
   "metadata": {},
   "outputs": [],
   "source": []
  },
  {
   "cell_type": "code",
   "execution_count": null,
   "metadata": {},
   "outputs": [],
   "source": []
  },
  {
   "cell_type": "code",
   "execution_count": null,
   "metadata": {},
   "outputs": [],
   "source": []
  },
  {
   "cell_type": "code",
   "execution_count": null,
   "metadata": {},
   "outputs": [],
   "source": []
  }
 ],
 "metadata": {
  "kernelspec": {
   "display_name": "base",
   "language": "python",
   "name": "python3"
  },
  "language_info": {
   "codemirror_mode": {
    "name": "ipython",
    "version": 3
   },
   "file_extension": ".py",
   "mimetype": "text/x-python",
   "name": "python",
   "nbconvert_exporter": "python",
   "pygments_lexer": "ipython3",
   "version": "3.12.2"
  }
 },
 "nbformat": 4,
 "nbformat_minor": 2
}
