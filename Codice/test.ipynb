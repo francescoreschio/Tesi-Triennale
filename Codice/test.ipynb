{
 "cells": [
  {
   "cell_type": "code",
   "execution_count": 1,
   "metadata": {},
   "outputs": [],
   "source": [
    "import numpy as np\n",
    "import matplotlib.pyplot as plt\n",
    "from mpl_toolkits.axes_grid1 import make_axes_locatable\n",
    "from matplotlib import ticker\n",
    "import awkward as ak\n",
    "import uproot \n",
    "import mplhep as hep\n",
    "import hist\n",
    "import os\n",
    "import time\n",
    "from numba import njit\n",
    "from scipy.optimize import curve_fit\n",
    "from scipy.optimize import linear_sum_assignment\n",
    "import tqdm\n",
    "\n",
    "\n",
    "\n",
    "from UtilityAndConst import *\n",
    "from Functions import *\n",
    "\n",
    "dir = \"/Users/francescolarovere/Documents/Tesi-Triennale/Dati\"\n",
    "os.chdir(dir)\n",
    "\n",
    "hep.style.use(\"CMS\")\n",
    "np.set_printoptions(threshold=np.inf)"
   ]
  },
  {
   "cell_type": "code",
   "execution_count": 84,
   "metadata": {},
   "outputs": [],
   "source": [
    "LS133 = \"./ntupleStubsBmtfGmt_LS133.root\"\n",
    "gmt_awk_LS133 = OpenRootFile(LS133, gmt_features)\n",
    "bmtf_awk_LS133 = OpenRootFile(LS133, bmtf_features)"
   ]
  },
  {
   "cell_type": "code",
   "execution_count": null,
   "metadata": {},
   "outputs": [],
   "source": []
  },
  {
   "cell_type": "code",
   "execution_count": 85,
   "metadata": {},
   "outputs": [],
   "source": [
    "Gmt_Phi_LS133 = gmt_awk_LS133.gmtPhi\n",
    "Bmtf_Phi_LS133 = bmtf_awk_LS133.bmtfPhi\n",
    "\n",
    "Gmt_Eta_LS133 = gmt_awk_LS133.gmtEta\n",
    "Bmtf_Eta_LS133 = bmtf_awk_LS133.bmtfEta\n",
    "\n",
    "nGmtMuons_LS133 = gmt_awk_LS133.nGmtMuons\n",
    "nBmtfMuons_LS133 = bmtf_awk_LS133.nBmtfMuons"
   ]
  },
  {
   "cell_type": "code",
   "execution_count": 92,
   "metadata": {},
   "outputs": [],
   "source": [
    "def Delta(BMTF, GMT):\n",
    "  return BMTF - GMT\n",
    "\n",
    "def DeltaR(BmtfPhi, GmtPhi, BmtfEta, GmtEta):\n",
    "  return np.sqrt((BmtfPhi - GmtPhi)**2 + (BmtfEta - GmtEta)**2)"
   ]
  },
  {
   "cell_type": "code",
   "execution_count": 107,
   "metadata": {},
   "outputs": [
    {
     "name": "stderr",
     "output_type": "stream",
     "text": [
      "  0%|          | 0/50000 [00:00<?, ?it/s]"
     ]
    },
    {
     "name": "stderr",
     "output_type": "stream",
     "text": [
      "100%|██████████| 50000/50000 [00:46<00:00, 1077.62it/s]\n"
     ]
    }
   ],
   "source": [
    "MuonsProperties = []\n",
    "\n",
    "use_Bmtf = True\n",
    "\n",
    "\n",
    "for i in tqdm.tqdm(range(50000)):\n",
    "\n",
    "  DeltaRDistBMTF = []\n",
    "  IndexMinBMTF = []\n",
    "  DeltaRDistGMT = []\n",
    "  IndexMinGMT = []\n",
    "\n",
    "  if nGmtMuons_LS133[i] == 0 and nBmtfMuons_LS133[i] == 0:\n",
    "    unmatched_Bmtf = []\n",
    "    unmatched_Gmt = []\n",
    "  \n",
    "  elif nBmtfMuons_LS133[i] == 0:\n",
    "    unmatched_Bmtf = []\n",
    "    unmatched_Gmt = [range(nGmtMuons_LS133[i])]\n",
    "\n",
    "  elif nGmtMuons_LS133[i] == 0:\n",
    "    unmatched_Bmtf = [range(nBmtfMuons_LS133[i])]\n",
    "    unmatched_Gmt = []\n",
    "\n",
    "  else:\n",
    "    #Primo metodo \n",
    "    for j in range(nBmtfMuons_LS133[i]):\n",
    "\n",
    "      DeltaRTemp = DeltaR(Bmtf_Phi_LS133[i, j], Gmt_Phi_LS133[i, :], Bmtf_Eta_LS133[i, j], Gmt_Eta_LS133[i, :])\n",
    "\n",
    "      minDeltaR = np.min(DeltaRTemp)\n",
    "  \n",
    "      indexTempBMTF = np.argmin(DeltaRTemp)\n",
    "      DeltaRDistBMTF.append(minDeltaR)\n",
    "\n",
    "      #Tolgo il valore che corrisponde al più basso deltaR in modo che non venga ripetuto\n",
    "\n",
    "\n",
    "\n",
    "\n",
    "      if minDeltaR < 0.4:\n",
    "        DeltaPhi = Delta(Bmtf_Phi_LS133[i, j], Gmt_Phi_LS133[i, indexTempBMTF])\n",
    "        DeltaEta = Delta(Bmtf_Eta_LS133[i, j], Gmt_Eta_LS133[i, indexTempBMTF])\n",
    "\n",
    "      else:\n",
    "        #Se DeltaR > 0.4 (primo metodo) non c'è match con i muoni del GMT\n",
    "        unmatched_Gmt = [range(nGmtMuons_LS133[i])]\n",
    "\n",
    "    \n",
    "    #Secondo metodo \n",
    "    for k in range(nGmtMuons_LS133[i]):\n",
    "      DeltaRTemp = DeltaR(Bmtf_Phi_LS133[i, :], Gmt_Phi_LS133[i, k], Bmtf_Eta_LS133[i, :], Gmt_Eta_LS133[i, k])\n",
    "\n",
    "      minDeltaR = np.min(DeltaRTemp)\n",
    "  \n",
    "      indexTempGMT = np.argmin(DeltaRTemp)\n",
    "      DeltaRDistGMT.append(minDeltaR)\n",
    "\n",
    "\n",
    "      #Tolgo il valore\n",
    "\n",
    "      if minDeltaR < 0.4:\n",
    "        DeltaPhi = Delta(Bmtf_Phi_LS133[i, indexTempGMT], Gmt_Phi_LS133[i, k])\n",
    "        DeltaEta = Delta(Bmtf_Eta_LS133[i, indexTempGMT], Gmt_Eta_LS133[i, k])\n",
    "\n",
    "      else:\n",
    "        unmatched_Bmtf = [range(nBmtfMuons_LS133[i])]\n",
    "\n",
    "   \n",
    "\n",
    "  Events = {\n",
    "    'unmatched_Gmt_Events' : unmatched_Gmt,\n",
    "    'unmatched_Bmtf_Events': unmatched_Bmtf, \n",
    "    'DeltaR': DeltaRDistBMTF,\n",
    "  }\n",
    "\n",
    "  MuonsProperties.append(Events)\n"
   ]
  },
  {
   "cell_type": "code",
   "execution_count": 108,
   "metadata": {},
   "outputs": [
    {
     "name": "stdout",
     "output_type": "stream",
     "text": [
      "2\n",
      "32\n"
     ]
    }
   ],
   "source": [
    "MuonsProperties = ak.Array(MuonsProperties)\n",
    "print(ak.sum(ak.num(MuonsProperties.unmatched_Bmtf_Events)))\n",
    "print(ak.sum(ak.num(MuonsProperties.unmatched_Gmt_Events)))"
   ]
  },
  {
   "cell_type": "code",
   "execution_count": null,
   "metadata": {},
   "outputs": [],
   "source": []
  }
 ],
 "metadata": {
  "kernelspec": {
   "display_name": "base",
   "language": "python",
   "name": "python3"
  },
  "language_info": {
   "codemirror_mode": {
    "name": "ipython",
    "version": 3
   },
   "file_extension": ".py",
   "mimetype": "text/x-python",
   "name": "python",
   "nbconvert_exporter": "python",
   "pygments_lexer": "ipython3",
   "version": "3.12.2"
  }
 },
 "nbformat": 4,
 "nbformat_minor": 2
}
