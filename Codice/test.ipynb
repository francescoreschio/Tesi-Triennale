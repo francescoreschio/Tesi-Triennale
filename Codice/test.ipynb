{
 "cells": [
  {
   "cell_type": "code",
   "execution_count": 1,
   "metadata": {},
   "outputs": [],
   "source": [
    "import numpy as np\n",
    "import matplotlib.pyplot as plt\n",
    "from mpl_toolkits.axes_grid1 import make_axes_locatable\n",
    "from matplotlib import ticker\n",
    "import awkward as ak\n",
    "import uproot \n",
    "import mplhep as hep\n",
    "import hist\n",
    "import os\n",
    "import time\n",
    "from numba import njit\n",
    "from scipy.optimize import curve_fit\n",
    "from scipy.optimize import linear_sum_assignment\n",
    "import tqdm\n",
    "\n",
    "\n",
    "\n",
    "from UtilityAndConst import *\n",
    "from Functions import *\n",
    "\n",
    "dir = \"/Users/francescolarovere/Documents/Tesi-Triennale/Dati\"\n",
    "os.chdir(dir)\n",
    "\n",
    "hep.style.use(\"CMS\")\n",
    "np.set_printoptions(threshold=np.inf)"
   ]
  },
  {
   "cell_type": "code",
   "execution_count": 2,
   "metadata": {},
   "outputs": [],
   "source": [
    "LS133 = \"./ntupleStubsBmtfGmt_LS133.root\"\n",
    "gmt_awk_LS133 = OpenRootFile(LS133, gmt_features)\n",
    "bmtf_awk_LS133 = OpenRootFile(LS133, bmtf_features)"
   ]
  },
  {
   "cell_type": "code",
   "execution_count": null,
   "metadata": {},
   "outputs": [],
   "source": []
  },
  {
   "cell_type": "code",
   "execution_count": 57,
   "metadata": {},
   "outputs": [
    {
     "data": {
      "text/plain": [
       "2"
      ]
     },
     "execution_count": 57,
     "metadata": {},
     "output_type": "execute_result"
    }
   ],
   "source": [
    "Gmt_Phi_LS133 = gmt_awk_LS133.gmtPhi\n",
    "Bmtf_Phi_LS133 = bmtf_awk_LS133.bmtfPhi\n",
    "\n",
    "Gmt_Eta_LS133 = gmt_awk_LS133.gmtEta\n",
    "Bmtf_Eta_LS133 = bmtf_awk_LS133.bmtfEta\n",
    "\n",
    "nGmtMuons_LS133 = gmt_awk_LS133.nGmtMuons\n",
    "nBmtfMuons_LS133 = bmtf_awk_LS133.nBmtfMuons\n",
    "\n",
    "\n",
    "nBmtfMuons_LS133[192]\n"
   ]
  },
  {
   "cell_type": "code",
   "execution_count": null,
   "metadata": {},
   "outputs": [],
   "source": []
  },
  {
   "cell_type": "code",
   "execution_count": 116,
   "metadata": {},
   "outputs": [
    {
     "name": "stdout",
     "output_type": "stream",
     "text": [
      "[2, 3, 4, 4]\n"
     ]
    }
   ],
   "source": [
    "arr = [1, 2, 3, 4, 4]\n",
    "\n",
    "min = np.min(arr)\n",
    "\n",
    "arr = [x for x in arr if x!= min]\n",
    "    \n",
    "\n",
    "print(arr)"
   ]
  },
  {
   "cell_type": "code",
   "execution_count": null,
   "metadata": {},
   "outputs": [],
   "source": []
  },
  {
   "cell_type": "code",
   "execution_count": 4,
   "metadata": {},
   "outputs": [],
   "source": [
    "def Delta(BMTF, GMT):\n",
    "  return BMTF - GMT\n",
    "\n",
    "def DeltaR(BmtfPhi, GmtPhi, BmtfEta, GmtEta):\n",
    "  return np.sqrt((BmtfPhi - GmtPhi)**2 + (BmtfEta - GmtEta)**2)"
   ]
  },
  {
   "cell_type": "code",
   "execution_count": 118,
   "metadata": {},
   "outputs": [
    {
     "name": "stdout",
     "output_type": "stream",
     "text": [
      "InizialeBMTF:  [-0.435       0.22837499]   [0.89448124 1.1562806 ]\n",
      "InizialeGMT:  [-0.435       0.22837499]   [0.89448124 1.1562806 ]\n",
      "Minimo:  [0.         0.71316576]\n",
      "Indice del Minimo [0]\n",
      "Minimo:  [0.71316576 0.        ]\n",
      "Indice del Minimo [0, 1]\n"
     ]
    }
   ],
   "source": [
    "i = 530\n",
    "#192\n",
    "\n",
    "\n",
    "DeltaRDistBMTF = []\n",
    "IndexMinBMTF = []\n",
    "DeltaRDistGMT = []\n",
    "IndexMinGMT = []\n",
    "\n",
    "ArrBmtfPhi, ArrBmtfEta = ak.to_numpy(Bmtf_Phi_LS133[i]), ak.to_numpy(Bmtf_Eta_LS133[i])\n",
    "ArrGmtPhi, ArrGmtEta = ak.to_numpy(Gmt_Phi_LS133[i]), ak.to_numpy(Gmt_Eta_LS133[i])\n",
    "\n",
    "print(\"InizialeBMTF: \", ArrBmtfEta, \" \", ArrBmtfPhi)\n",
    "print(\"InizialeGMT: \", ArrGmtEta, \" \", ArrGmtPhi)\n",
    "\n",
    "\n",
    "for j in range(nBmtfMuons_LS133[i]):\n",
    "\n",
    "                \n",
    "  #Calcolo il DeltaR\n",
    "  DeltaRTemp = DeltaR(ArrBmtfPhi[j], ArrGmtPhi[:], ArrBmtfEta[j], ArrGmtEta[:])\n",
    "\n",
    "  minDeltaR = np.min(DeltaRTemp)\n",
    "  indexTempGMT = np.argmin(DeltaRTemp)\n",
    "  IndexMinGMT.append(indexTempGMT)\n",
    "\n",
    "  if minDeltaR < 0.4:\n",
    "\n",
    "    if IndexMinGMT[j] in IndexMinGMT[:j]:\n",
    "      IndexMinGMT.pop(j)\n",
    "      DeltaRTemp = [x for x in DeltaRTemp if x != minDeltaR]\n",
    "\n",
    "      minDeltaR = np.min(DeltaRTemp)\n",
    "      DeltaRDistBMTF.append(minDeltaR)\n",
    "      IndexMinGMT.append(indexTempGMT)\n",
    "\n",
    "    else:\n",
    "      DeltaRDistBMTF.append(minDeltaR)\n",
    "\n",
    "\n",
    "  print(\"Minimo: \", DeltaRTemp)\n",
    "  print(\"Indice del Minimo\", IndexMinGMT)\n",
    "\n",
    "  \n"
   ]
  },
  {
   "cell_type": "code",
   "execution_count": null,
   "metadata": {},
   "outputs": [],
   "source": []
  },
  {
   "cell_type": "code",
   "execution_count": 119,
   "metadata": {},
   "outputs": [
    {
     "name": "stdout",
     "output_type": "stream",
     "text": [
      "[0, 1, 2, 3, 4] [range(0, 5)]\n"
     ]
    }
   ],
   "source": []
  },
  {
   "cell_type": "code",
   "execution_count": null,
   "metadata": {},
   "outputs": [],
   "source": []
  },
  {
   "cell_type": "code",
   "execution_count": null,
   "metadata": {},
   "outputs": [],
   "source": []
  },
  {
   "cell_type": "code",
   "execution_count": 81,
   "metadata": {},
   "outputs": [
    {
     "name": "stderr",
     "output_type": "stream",
     "text": [
      "100%|██████████| 50000/50000 [00:05<00:00, 8886.66it/s]\n"
     ]
    }
   ],
   "source": [
    "MuonsProperties = []\n",
    "\n",
    "use_Bmtf = True\n",
    "\n",
    "\n",
    "for i in tqdm.tqdm(range(50000)):\n",
    "\n",
    "  \n",
    "  DeltaRDistBMTF = []\n",
    "  IndexMinBMTF = []\n",
    "  DeltaRDistGMT = []\n",
    "  IndexMinGMT = []\n",
    "\n",
    "  if nGmtMuons_LS133[i] == 0 and nBmtfMuons_LS133[i] == 0:\n",
    "    unmatched_Bmtf = []\n",
    "    unmatched_Gmt = []\n",
    "  \n",
    "  elif nBmtfMuons_LS133[i] == 0:\n",
    "    unmatched_Bmtf = []\n",
    "    unmatched_Gmt = [range(nGmtMuons_LS133[i])]\n",
    "\n",
    "  elif nGmtMuons_LS133[i] == 0:\n",
    "    unmatched_Bmtf = [range(nBmtfMuons_LS133[i])]\n",
    "    unmatched_Gmt = []\n",
    "\n",
    "  else:\n",
    "    #Fare in questo modo ottimizza enormemente il processo!\n",
    "    ArrBmtfPhi, ArrBmtfEta = ak.to_numpy(Bmtf_Phi_LS133[i]), ak.to_numpy(Bmtf_Eta_LS133[i])\n",
    "    ArrGmtPhi, ArrGmtEta = ak.to_numpy(Gmt_Phi_LS133[i]), ak.to_numpy(Gmt_Eta_LS133[i])\n",
    "\n",
    "    #Primo metodo \n",
    "    for j in range(nBmtfMuons_LS133[i]):\n",
    "\n",
    "      #Calcolo il DeltaR\n",
    "      DeltaRTemp = DeltaR(ArrBmtfPhi[j], ArrGmtPhi[:], ArrBmtfEta[j], ArrGmtEta[:])\n",
    "\n",
    "      minDeltaR = np.min(DeltaRTemp)\n",
    "\n",
    "      if minDeltaR < 0.4:\n",
    "\n",
    "        #Attento a come sono definiti IndexMin nei vari casi! Nel primo caso è confronto con tutti i muoni del GMT!\n",
    "        indexTempGMT = np.argmin(DeltaRTemp)\n",
    "        DeltaRDistBMTF.append(minDeltaR)\n",
    "        IndexMinGMT.append(indexTempGMT)\n",
    "        DeltaPhi_BMTF = Delta(ArrBmtfPhi[j], ArrGmtPhi[indexTempGMT])\n",
    "        DeltaEta_BMTF = Delta(ArrBmtfEta[j], ArrGmtEta[indexTempGMT])\n",
    "        #ArrGmtPhi, ArrGmtEta = np.delete(ArrGmtPhi, indexTempGMT), np.delete(ArrGmtEta, indexTempGMT)\n",
    "\n",
    "      else:\n",
    "        #Se DeltaR > 0.4 (primo metodo) non c'è match con i muoni del GMT\n",
    "        unmatched_Gmt = [i for i in range(nGmtMuons_LS133[i])]\n",
    "  \n",
    "    \n",
    "      matched_Bmtf_Index = [i for i in IndexMinGMT if IndexMinGMT]\n",
    "      unmatched_Bmtf = [i for i in range(nBmtfMuons_LS133[i]) if i not in matched_Bmtf_Index]\n",
    "\n",
    "\n",
    "      #Tolgo gli elementi del GMT (quelli che vengono confrontati) già matchati\n",
    "      \n",
    "\n",
    "    \n",
    "    #Riassegno per ripristinare il valore iniziale in ogni BX\n",
    "    ArrBmtfPhi, ArrBmtfEta = ak.to_numpy(Bmtf_Phi_LS133[i]), ak.to_numpy(Bmtf_Eta_LS133[i])\n",
    "    ArrGmtPhi, ArrGmtEta = ak.to_numpy(Gmt_Phi_LS133[i]), ak.to_numpy(Gmt_Eta_LS133[i])\n",
    "\n",
    "    #Secondo metodo \n",
    "    for k in range(nGmtMuons_LS133[i]):\n",
    "      DeltaRTemp = DeltaR(ArrBmtfPhi[:], ArrGmtPhi[k], ArrBmtfEta[:], ArrGmtEta[k])\n",
    "\n",
    "      minDeltaR = np.min(DeltaRTemp)\n",
    "\n",
    "      if minDeltaR < 0.4:\n",
    "  \n",
    "        indexTempBMTF = np.argmin(DeltaRTemp)\n",
    "        DeltaRDistGMT.append(minDeltaR)\n",
    "        IndexMinBMTF.append(indexTempBMTF)\n",
    "        DeltaPhi_GMT = Delta(ArrBmtfPhi[indexTempBMTF], ArrGmtPhi[k])\n",
    "        DeltaEta_GMT = Delta(ArrBmtfEta[indexTempBMTF], ArrGmtEta[k])\n",
    "        #ArrBmtfPhi, ArrBmtfEta = np.delete(ArrBmtfPhi, indexTempGMT), np.delete(ArrBmtfEta, indexTempGMT)\n",
    "      \n",
    "      else:\n",
    "        unmatched_Bmtf = [i for i in range(nBmtfMuons_LS133[i])]\n",
    "\n",
    "      matched_Gmt_Index = [k for k in IndexMinBMTF if IndexMinBMTF]\n",
    "      unmatched_Gmt = [k for k in range(nGmtMuons_LS133[i]) if k not in matched_Gmt_Index]\n",
    "\n",
    "      #Tolgo il valore \n",
    "\n",
    "\n",
    "\n",
    "\n",
    "  Events = {\n",
    "    'unmatched_Gmt_Events' : unmatched_Gmt,\n",
    "    'unmatched_Bmtf_Events': unmatched_Bmtf, \n",
    "  }\n",
    "\n",
    "  MuonsProperties.append(Events)\n"
   ]
  },
  {
   "cell_type": "code",
   "execution_count": 82,
   "metadata": {},
   "outputs": [
    {
     "name": "stdout",
     "output_type": "stream",
     "text": [
      "554\n",
      "94\n"
     ]
    }
   ],
   "source": [
    "MuonsProperties = ak.Array(MuonsProperties)\n",
    "print(ak.sum(ak.num(MuonsProperties.unmatched_Bmtf_Events)))\n",
    "print(ak.sum(ak.num(MuonsProperties.unmatched_Gmt_Events)))"
   ]
  },
  {
   "cell_type": "code",
   "execution_count": null,
   "metadata": {},
   "outputs": [],
   "source": []
  },
  {
   "cell_type": "code",
   "execution_count": null,
   "metadata": {},
   "outputs": [],
   "source": []
  },
  {
   "cell_type": "code",
   "execution_count": null,
   "metadata": {},
   "outputs": [],
   "source": []
  }
 ],
 "metadata": {
  "kernelspec": {
   "display_name": "base",
   "language": "python",
   "name": "python3"
  },
  "language_info": {
   "codemirror_mode": {
    "name": "ipython",
    "version": 3
   },
   "file_extension": ".py",
   "mimetype": "text/x-python",
   "name": "python",
   "nbconvert_exporter": "python",
   "pygments_lexer": "ipython3",
   "version": "3.12.2"
  }
 },
 "nbformat": 4,
 "nbformat_minor": 2
}
