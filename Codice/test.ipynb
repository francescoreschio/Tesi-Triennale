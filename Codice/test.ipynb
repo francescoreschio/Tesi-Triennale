{
 "cells": [
  {
   "cell_type": "code",
   "execution_count": 1,
   "metadata": {},
   "outputs": [],
   "source": [
    "import numpy as np\n",
    "import matplotlib.pyplot as plt\n",
    "from mpl_toolkits.axes_grid1 import make_axes_locatable\n",
    "from matplotlib import ticker\n",
    "import awkward as ak\n",
    "import uproot \n",
    "import mplhep as hep\n",
    "import hist\n",
    "import os\n",
    "import time\n",
    "from numba import njit\n",
    "from scipy.optimize import curve_fit\n",
    "from scipy.optimize import linear_sum_assignment\n",
    "import tqdm\n",
    "\n",
    "\n",
    "\n",
    "from UtilityAndConst import *\n",
    "from Functions import *\n",
    "\n",
    "dir = \"/Users/francescolarovere/Documents/Tesi-Triennale/Dati\"\n",
    "os.chdir(dir)\n",
    "\n",
    "hep.style.use(\"CMS\")\n",
    "np.set_printoptions(threshold=np.inf)"
   ]
  },
  {
   "cell_type": "code",
   "execution_count": 2,
   "metadata": {},
   "outputs": [],
   "source": [
    "LS133 = \"./ntupleStubsBmtfGmt_LS133.root\"\n",
    "gmt_awk_LS133 = OpenRootFile(LS133, gmt_features)\n",
    "bmtf_awk_LS133 = OpenRootFile(LS133, bmtf_features)"
   ]
  },
  {
   "cell_type": "code",
   "execution_count": null,
   "metadata": {},
   "outputs": [],
   "source": []
  },
  {
   "cell_type": "code",
   "execution_count": 3,
   "metadata": {},
   "outputs": [
    {
     "data": {
      "text/plain": [
       "2"
      ]
     },
     "execution_count": 3,
     "metadata": {},
     "output_type": "execute_result"
    }
   ],
   "source": [
    "Gmt_Phi_LS133 = gmt_awk_LS133.gmtPhi\n",
    "Bmtf_Phi_LS133 = bmtf_awk_LS133.bmtfPhi\n",
    "\n",
    "Gmt_Eta_LS133 = gmt_awk_LS133.gmtEta\n",
    "Bmtf_Eta_LS133 = bmtf_awk_LS133.bmtfEta\n",
    "\n",
    "nGmtMuons_LS133 = gmt_awk_LS133.nGmtMuons\n",
    "nBmtfMuons_LS133 = bmtf_awk_LS133.nBmtfMuons\n",
    "\n",
    "\n",
    "nBmtfMuons_LS133[192]\n"
   ]
  },
  {
   "cell_type": "code",
   "execution_count": null,
   "metadata": {},
   "outputs": [],
   "source": []
  },
  {
   "cell_type": "code",
   "execution_count": 4,
   "metadata": {},
   "outputs": [
    {
     "name": "stdout",
     "output_type": "stream",
     "text": [
      "[2, 3, 4, 4]\n"
     ]
    }
   ],
   "source": [
    "arr = [1, 2, 3, 4, 4]\n",
    "\n",
    "min = np.min(arr)\n",
    "\n",
    "arr = [x for x in arr if x!= min]\n",
    "    \n",
    "\n",
    "print(arr)"
   ]
  },
  {
   "cell_type": "code",
   "execution_count": null,
   "metadata": {},
   "outputs": [],
   "source": []
  },
  {
   "cell_type": "code",
   "execution_count": 5,
   "metadata": {},
   "outputs": [],
   "source": [
    "def Delta(BMTF, GMT):\n",
    "  return BMTF - GMT\n",
    "\n",
    "def DeltaR(BmtfPhi, GmtPhi, BmtfEta, GmtEta):\n",
    "  return np.sqrt((BmtfPhi - GmtPhi)**2 + (BmtfEta - GmtEta)**2)"
   ]
  },
  {
   "cell_type": "code",
   "execution_count": 18,
   "metadata": {},
   "outputs": [
    {
     "name": "stdout",
     "output_type": "stream",
     "text": [
      "InizialeBMTF:  [0.51112497 0.52199996]   [-2.8907015 -2.8907015]\n",
      "InizialeGMT:  [0.52199996]   [-2.8907015]\n",
      "Minimo:  [0.01087499]\n",
      "Indice del Minimo [0]\n"
     ]
    },
    {
     "ename": "ValueError",
     "evalue": "zero-size array to reduction operation minimum which has no identity",
     "output_type": "error",
     "traceback": [
      "\u001b[0;31m---------------------------------------------------------------------------\u001b[0m",
      "\u001b[0;31mValueError\u001b[0m                                Traceback (most recent call last)",
      "Cell \u001b[0;32mIn[18], line 33\u001b[0m\n\u001b[1;32m     30\u001b[0m IndexMinGMT\u001b[38;5;241m.\u001b[39mpop(j)\n\u001b[1;32m     31\u001b[0m DeltaRTemp \u001b[38;5;241m=\u001b[39m [x \u001b[38;5;28;01mfor\u001b[39;00m x \u001b[38;5;129;01min\u001b[39;00m DeltaRTemp \u001b[38;5;28;01mif\u001b[39;00m x \u001b[38;5;241m!=\u001b[39m minDeltaR]\n\u001b[0;32m---> 33\u001b[0m minDeltaR \u001b[38;5;241m=\u001b[39m np\u001b[38;5;241m.\u001b[39mmin(DeltaRTemp)\n\u001b[1;32m     34\u001b[0m DeltaRDistBMTF\u001b[38;5;241m.\u001b[39mappend(minDeltaR)\n\u001b[1;32m     35\u001b[0m IndexMinGMT\u001b[38;5;241m.\u001b[39mappend(indexTempGMT)\n",
      "File \u001b[0;32m/opt/anaconda3/lib/python3.12/site-packages/numpy/core/fromnumeric.py:2953\u001b[0m, in \u001b[0;36mmin\u001b[0;34m(a, axis, out, keepdims, initial, where)\u001b[0m\n\u001b[1;32m   2836\u001b[0m \u001b[38;5;129m@array_function_dispatch\u001b[39m(_min_dispatcher)\n\u001b[1;32m   2837\u001b[0m \u001b[38;5;28;01mdef\u001b[39;00m \u001b[38;5;21mmin\u001b[39m(a, axis\u001b[38;5;241m=\u001b[39m\u001b[38;5;28;01mNone\u001b[39;00m, out\u001b[38;5;241m=\u001b[39m\u001b[38;5;28;01mNone\u001b[39;00m, keepdims\u001b[38;5;241m=\u001b[39mnp\u001b[38;5;241m.\u001b[39m_NoValue, initial\u001b[38;5;241m=\u001b[39mnp\u001b[38;5;241m.\u001b[39m_NoValue,\n\u001b[1;32m   2838\u001b[0m         where\u001b[38;5;241m=\u001b[39mnp\u001b[38;5;241m.\u001b[39m_NoValue):\n\u001b[1;32m   2839\u001b[0m \u001b[38;5;250m    \u001b[39m\u001b[38;5;124;03m\"\"\"\u001b[39;00m\n\u001b[1;32m   2840\u001b[0m \u001b[38;5;124;03m    Return the minimum of an array or minimum along an axis.\u001b[39;00m\n\u001b[1;32m   2841\u001b[0m \n\u001b[0;32m   (...)\u001b[0m\n\u001b[1;32m   2951\u001b[0m \u001b[38;5;124;03m    6\u001b[39;00m\n\u001b[1;32m   2952\u001b[0m \u001b[38;5;124;03m    \"\"\"\u001b[39;00m\n\u001b[0;32m-> 2953\u001b[0m     \u001b[38;5;28;01mreturn\u001b[39;00m _wrapreduction(a, np\u001b[38;5;241m.\u001b[39mminimum, \u001b[38;5;124m'\u001b[39m\u001b[38;5;124mmin\u001b[39m\u001b[38;5;124m'\u001b[39m, axis, \u001b[38;5;28;01mNone\u001b[39;00m, out,\n\u001b[1;32m   2954\u001b[0m                           keepdims\u001b[38;5;241m=\u001b[39mkeepdims, initial\u001b[38;5;241m=\u001b[39minitial, where\u001b[38;5;241m=\u001b[39mwhere)\n",
      "File \u001b[0;32m/opt/anaconda3/lib/python3.12/site-packages/numpy/core/fromnumeric.py:88\u001b[0m, in \u001b[0;36m_wrapreduction\u001b[0;34m(obj, ufunc, method, axis, dtype, out, **kwargs)\u001b[0m\n\u001b[1;32m     85\u001b[0m         \u001b[38;5;28;01melse\u001b[39;00m:\n\u001b[1;32m     86\u001b[0m             \u001b[38;5;28;01mreturn\u001b[39;00m reduction(axis\u001b[38;5;241m=\u001b[39maxis, out\u001b[38;5;241m=\u001b[39mout, \u001b[38;5;241m*\u001b[39m\u001b[38;5;241m*\u001b[39mpasskwargs)\n\u001b[0;32m---> 88\u001b[0m \u001b[38;5;28;01mreturn\u001b[39;00m ufunc\u001b[38;5;241m.\u001b[39mreduce(obj, axis, dtype, out, \u001b[38;5;241m*\u001b[39m\u001b[38;5;241m*\u001b[39mpasskwargs)\n",
      "\u001b[0;31mValueError\u001b[0m: zero-size array to reduction operation minimum which has no identity"
     ]
    }
   ],
   "source": [
    "i = 192\n",
    "#192\n",
    "#530\n",
    "\n",
    "\n",
    "DeltaRDistBMTF = []\n",
    "IndexMinBMTF = []\n",
    "DeltaRDistGMT = []\n",
    "IndexMinGMT = []\n",
    "\n",
    "ArrBmtfPhi, ArrBmtfEta = ak.to_numpy(Bmtf_Phi_LS133[i]), ak.to_numpy(Bmtf_Eta_LS133[i])\n",
    "ArrGmtPhi, ArrGmtEta = ak.to_numpy(Gmt_Phi_LS133[i]), ak.to_numpy(Gmt_Eta_LS133[i])\n",
    "\n",
    "print(\"InizialeBMTF: \", ArrBmtfEta, \" \", ArrBmtfPhi)\n",
    "print(\"InizialeGMT: \", ArrGmtEta, \" \", ArrGmtPhi)\n",
    "\n",
    "\n",
    "for j in range(nBmtfMuons_LS133[i]):\n",
    "\n",
    "                \n",
    "  #Calcolo il DeltaR\n",
    "  DeltaRTemp = DeltaR(ArrBmtfPhi[j], ArrGmtPhi[:], ArrBmtfEta[j], ArrGmtEta[:])\n",
    "\n",
    "  minDeltaR = np.min(DeltaRTemp)\n",
    "  indexTempGMT = np.argmin(DeltaRTemp)\n",
    "  IndexMinGMT.append(indexTempGMT)\n",
    "\n",
    "  if minDeltaR < 0.4:\n",
    "\n",
    "    if IndexMinGMT[j] in IndexMinGMT[:j]:\n",
    "      IndexMinGMT.pop(j)\n",
    "      DeltaRTemp = [x for x in DeltaRTemp if x != minDeltaR]\n",
    "\n",
    "      minDeltaR = np.min(DeltaRTemp)\n",
    "      DeltaRDistBMTF.append(minDeltaR)\n",
    "      IndexMinGMT.append(indexTempGMT)\n",
    "\n",
    "    else:\n",
    "      DeltaRDistBMTF.append(minDeltaR)\n",
    "\n",
    "\n",
    "  print(\"Minimo: \", DeltaRTemp)\n",
    "  print(\"Indice del Minimo\", IndexMinGMT)\n",
    "\n",
    "  \n"
   ]
  },
  {
   "cell_type": "code",
   "execution_count": null,
   "metadata": {},
   "outputs": [],
   "source": []
  },
  {
   "cell_type": "code",
   "execution_count": null,
   "metadata": {},
   "outputs": [],
   "source": []
  },
  {
   "cell_type": "code",
   "execution_count": null,
   "metadata": {},
   "outputs": [],
   "source": []
  },
  {
   "cell_type": "markdown",
   "metadata": {},
   "source": [
    "## CODICE VERO!"
   ]
  },
  {
   "cell_type": "code",
   "execution_count": 13,
   "metadata": {},
   "outputs": [
    {
     "name": "stderr",
     "output_type": "stream",
     "text": [
      "  0%|          | 192/50000 [00:00<00:05, 9410.42it/s]\n"
     ]
    },
    {
     "ename": "ValueError",
     "evalue": "zero-size array to reduction operation minimum which has no identity",
     "output_type": "error",
     "traceback": [
      "\u001b[0;31m---------------------------------------------------------------------------\u001b[0m",
      "\u001b[0;31mValueError\u001b[0m                                Traceback (most recent call last)",
      "Cell \u001b[0;32mIn[13], line 48\u001b[0m\n\u001b[1;32m     45\u001b[0m IndexMinGMT\u001b[38;5;241m.\u001b[39mpop(j)\n\u001b[1;32m     46\u001b[0m DeltaRTemp \u001b[38;5;241m=\u001b[39m [x \u001b[38;5;28;01mfor\u001b[39;00m x \u001b[38;5;129;01min\u001b[39;00m DeltaRTemp \u001b[38;5;28;01mif\u001b[39;00m x \u001b[38;5;241m!=\u001b[39m minDeltaR]\n\u001b[0;32m---> 48\u001b[0m minDeltaR \u001b[38;5;241m=\u001b[39m np\u001b[38;5;241m.\u001b[39mmin(DeltaRTemp)\n\u001b[1;32m     49\u001b[0m DeltaRDistBMTF\u001b[38;5;241m.\u001b[39mappend(minDeltaR)\n\u001b[1;32m     50\u001b[0m IndexMinGMT\u001b[38;5;241m.\u001b[39mappend(indexTempGMT)\n",
      "File \u001b[0;32m/opt/anaconda3/lib/python3.12/site-packages/numpy/core/fromnumeric.py:2953\u001b[0m, in \u001b[0;36mmin\u001b[0;34m(a, axis, out, keepdims, initial, where)\u001b[0m\n\u001b[1;32m   2836\u001b[0m \u001b[38;5;129m@array_function_dispatch\u001b[39m(_min_dispatcher)\n\u001b[1;32m   2837\u001b[0m \u001b[38;5;28;01mdef\u001b[39;00m \u001b[38;5;21mmin\u001b[39m(a, axis\u001b[38;5;241m=\u001b[39m\u001b[38;5;28;01mNone\u001b[39;00m, out\u001b[38;5;241m=\u001b[39m\u001b[38;5;28;01mNone\u001b[39;00m, keepdims\u001b[38;5;241m=\u001b[39mnp\u001b[38;5;241m.\u001b[39m_NoValue, initial\u001b[38;5;241m=\u001b[39mnp\u001b[38;5;241m.\u001b[39m_NoValue,\n\u001b[1;32m   2838\u001b[0m         where\u001b[38;5;241m=\u001b[39mnp\u001b[38;5;241m.\u001b[39m_NoValue):\n\u001b[1;32m   2839\u001b[0m \u001b[38;5;250m    \u001b[39m\u001b[38;5;124;03m\"\"\"\u001b[39;00m\n\u001b[1;32m   2840\u001b[0m \u001b[38;5;124;03m    Return the minimum of an array or minimum along an axis.\u001b[39;00m\n\u001b[1;32m   2841\u001b[0m \n\u001b[0;32m   (...)\u001b[0m\n\u001b[1;32m   2951\u001b[0m \u001b[38;5;124;03m    6\u001b[39;00m\n\u001b[1;32m   2952\u001b[0m \u001b[38;5;124;03m    \"\"\"\u001b[39;00m\n\u001b[0;32m-> 2953\u001b[0m     \u001b[38;5;28;01mreturn\u001b[39;00m _wrapreduction(a, np\u001b[38;5;241m.\u001b[39mminimum, \u001b[38;5;124m'\u001b[39m\u001b[38;5;124mmin\u001b[39m\u001b[38;5;124m'\u001b[39m, axis, \u001b[38;5;28;01mNone\u001b[39;00m, out,\n\u001b[1;32m   2954\u001b[0m                           keepdims\u001b[38;5;241m=\u001b[39mkeepdims, initial\u001b[38;5;241m=\u001b[39minitial, where\u001b[38;5;241m=\u001b[39mwhere)\n",
      "File \u001b[0;32m/opt/anaconda3/lib/python3.12/site-packages/numpy/core/fromnumeric.py:88\u001b[0m, in \u001b[0;36m_wrapreduction\u001b[0;34m(obj, ufunc, method, axis, dtype, out, **kwargs)\u001b[0m\n\u001b[1;32m     85\u001b[0m         \u001b[38;5;28;01melse\u001b[39;00m:\n\u001b[1;32m     86\u001b[0m             \u001b[38;5;28;01mreturn\u001b[39;00m reduction(axis\u001b[38;5;241m=\u001b[39maxis, out\u001b[38;5;241m=\u001b[39mout, \u001b[38;5;241m*\u001b[39m\u001b[38;5;241m*\u001b[39mpasskwargs)\n\u001b[0;32m---> 88\u001b[0m \u001b[38;5;28;01mreturn\u001b[39;00m ufunc\u001b[38;5;241m.\u001b[39mreduce(obj, axis, dtype, out, \u001b[38;5;241m*\u001b[39m\u001b[38;5;241m*\u001b[39mpasskwargs)\n",
      "\u001b[0;31mValueError\u001b[0m: zero-size array to reduction operation minimum which has no identity"
     ]
    }
   ],
   "source": [
    "MuonsProperties = []\n",
    "\n",
    "use_Bmtf = True\n",
    "\n",
    "\n",
    "for i in tqdm.tqdm(range(50000)):\n",
    "\n",
    "  nBmtfM, nGmtM = nBmtfMuons_LS133[i], nGmtMuons_LS133[i]\n",
    "  DeltaRDistBMTF = []\n",
    "  IndexMinBMTF = []\n",
    "  DeltaRDistGMT = []\n",
    "  IndexMinGMT = []\n",
    "\n",
    "  if nGmtM == 0 and nBmtfM == 0:\n",
    "    unmatched_Bmtf = []\n",
    "    unmatched_Gmt = []\n",
    "  \n",
    "  elif nBmtfM == 0:\n",
    "    unmatched_Bmtf = []\n",
    "    unmatched_Gmt = [i for i in range(nGmtM)]\n",
    "\n",
    "  elif nGmtM == 0:\n",
    "    unmatched_Bmtf = [i for i in range(nBmtfM)]\n",
    "    unmatched_Gmt = []\n",
    "\n",
    "  else:\n",
    "    #Fare in questo modo ottimizza enormemente il processo!\n",
    "    ArrBmtfPhi, ArrBmtfEta = ak.to_numpy(Bmtf_Phi_LS133[i]), ak.to_numpy(Bmtf_Eta_LS133[i])\n",
    "    ArrGmtPhi, ArrGmtEta = ak.to_numpy(Gmt_Phi_LS133[i]), ak.to_numpy(Gmt_Eta_LS133[i])\n",
    "\n",
    "    #Primo metodo \n",
    "    for j in range(nBmtfM):\n",
    "\n",
    "      #Calcolo il DeltaR\n",
    "      DeltaRTemp = DeltaR(ArrBmtfPhi[j], ArrGmtPhi[:], ArrBmtfEta[j], ArrGmtEta[:])\n",
    "\n",
    "      #Attento a come sono definiti IndexMin nei vari casi! Nel primo caso è confronto con tutti i muoni del GMT!\n",
    "      minDeltaR = np.min(DeltaRTemp)\n",
    "      indexTempGMT = np.argmin(DeltaRTemp)\n",
    "      IndexMinGMT.append(indexTempGMT)\n",
    "\n",
    "      if minDeltaR < 0.4:\n",
    "        \n",
    "        #Controllo che non vengano assegnati gli stessi indici dei minimi a muoni diversi\n",
    "        if IndexMinGMT[j] in IndexMinGMT[:j]:\n",
    "          IndexMinGMT.pop(j)\n",
    "          DeltaRTemp = [x for x in DeltaRTemp if x != minDeltaR]\n",
    "\n",
    "          minDeltaR = np.min(DeltaRTemp)\n",
    "          DeltaRDistBMTF.append(minDeltaR)\n",
    "          IndexMinGMT.append(indexTempGMT)\n",
    "\n",
    "        else:\n",
    "          DeltaRDistBMTF.append(minDeltaR)\n",
    "\n",
    "\n",
    "        DeltaPhi_BMTF = Delta(ArrBmtfPhi[j], ArrGmtPhi[IndexMinGMT[j]])\n",
    "        DeltaEta_BMTF = Delta(ArrBmtfEta[j], ArrGmtEta[IndexMinGMT[j]])\n",
    "        \n",
    "        \n",
    "\n",
    "      else:\n",
    "        #Se DeltaR > 0.4 (primo metodo) non c'è match con i muoni del GMT\n",
    "        unmatched_Gmt = [i for i in range(nGmtM)]\n",
    "  \n",
    "    \n",
    "      matched_Bmtf_Index = [i for i in IndexMinGMT if IndexMinGMT]\n",
    "      unmatched_Bmtf = [i for i in range(nBmtfM) if i not in matched_Bmtf_Index]\n",
    "      \n",
    "\n",
    "    #Secondo metodo \n",
    "    for k in range(nGmtM):\n",
    "      DeltaRTemp = DeltaR(ArrBmtfPhi[:], ArrGmtPhi[k], ArrBmtfEta[:], ArrGmtEta[k])\n",
    "\n",
    "      minDeltaR = np.min(DeltaRTemp)\n",
    "      indexTempBMTF = np.argmin(DeltaRTemp)\n",
    "      IndexMinBMTF.append(indexTempBMTF)\n",
    "\n",
    "      if minDeltaR < 0.4:\n",
    "        \n",
    "        if IndexMinBMTF[k] in IndexMinBMTF[:k]:\n",
    "\n",
    "          IndexMinBMTF.pop(k)\n",
    "          DeltaRTemp = [y for y in DeltaRTemp if y != minDeltaR]\n",
    "\n",
    "          minDeltaR = np.min(DeltaRTemp)\n",
    "          DeltaRDistGMT.append(minDeltaR)\n",
    "          IndexMinBMTF.append(indexTempBMTF)\n",
    "        \n",
    "        else:\n",
    "          DeltaRDistGMT.append(minDeltaR)\n",
    "\n",
    "          \n",
    "        DeltaPhi_GMT = Delta(ArrBmtfPhi[IndexMinBMTF[k]], ArrGmtPhi[k])\n",
    "        DeltaEta_GMT = Delta(ArrBmtfEta[IndexMinBMTF[k]], ArrGmtEta[k])\n",
    "        \n",
    "\n",
    "      \n",
    "      else:\n",
    "        unmatched_Bmtf = [i for i in range(nBmtfM)]\n",
    "\n",
    "      matched_Gmt_Index = [k for k in IndexMinBMTF if IndexMinBMTF]\n",
    "      unmatched_Gmt = [k for k in range(nGmtM) if k not in matched_Gmt_Index]\n",
    "\n",
    "\n",
    "\n",
    "  Events = {\n",
    "    'unmatched_Gmt_Events' : unmatched_Gmt,\n",
    "    'unmatched_Bmtf_Events': unmatched_Bmtf, \n",
    "  }\n",
    "\n",
    "  MuonsProperties.append(Events)\n"
   ]
  },
  {
   "cell_type": "code",
   "execution_count": 8,
   "metadata": {},
   "outputs": [
    {
     "name": "stdout",
     "output_type": "stream",
     "text": [
      "554\n",
      "94\n"
     ]
    }
   ],
   "source": [
    "MuonsProperties = ak.Array(MuonsProperties)\n",
    "print(ak.sum(ak.num(MuonsProperties.unmatched_Bmtf_Events)))\n",
    "print(ak.sum(ak.num(MuonsProperties.unmatched_Gmt_Events)))"
   ]
  },
  {
   "cell_type": "code",
   "execution_count": null,
   "metadata": {},
   "outputs": [],
   "source": []
  },
  {
   "cell_type": "code",
   "execution_count": null,
   "metadata": {},
   "outputs": [],
   "source": []
  },
  {
   "cell_type": "code",
   "execution_count": null,
   "metadata": {},
   "outputs": [],
   "source": []
  },
  {
   "cell_type": "code",
   "execution_count": null,
   "metadata": {},
   "outputs": [],
   "source": []
  },
  {
   "cell_type": "code",
   "execution_count": null,
   "metadata": {},
   "outputs": [],
   "source": []
  },
  {
   "cell_type": "code",
   "execution_count": null,
   "metadata": {},
   "outputs": [],
   "source": []
  },
  {
   "cell_type": "markdown",
   "metadata": {},
   "source": [
    "## PRIMA DELLA MODIFICA"
   ]
  },
  {
   "cell_type": "code",
   "execution_count": 16,
   "metadata": {},
   "outputs": [
    {
     "name": "stderr",
     "output_type": "stream",
     "text": [
      "100%|██████████| 50000/50000 [00:05<00:00, 8534.32it/s]\n"
     ]
    }
   ],
   "source": [
    "MuonsProperties = []\n",
    "\n",
    "use_Bmtf = True\n",
    "\n",
    "\n",
    "for i in tqdm.tqdm(range(50000)):\n",
    "\n",
    "  \n",
    "  DeltaRDistBMTF = []\n",
    "  IndexMinBMTF = []\n",
    "  DeltaRDistGMT = []\n",
    "  IndexMinGMT = []\n",
    "\n",
    "  if nGmtMuons_LS133[i] == 0 and nBmtfMuons_LS133[i] == 0:\n",
    "    unmatched_Bmtf = []\n",
    "    unmatched_Gmt = []\n",
    "  \n",
    "  elif nBmtfMuons_LS133[i] == 0:\n",
    "    unmatched_Bmtf = []\n",
    "    unmatched_Gmt = [i for i in range(nGmtMuons_LS133[i])]\n",
    "\n",
    "  elif nGmtMuons_LS133[i] == 0:\n",
    "    unmatched_Bmtf = [i for i in range(nBmtfMuons_LS133[i])]\n",
    "    unmatched_Gmt = []\n",
    "\n",
    "  else:\n",
    "    #Fare in questo modo ottimizza enormemente il processo!\n",
    "    ArrBmtfPhi, ArrBmtfEta = ak.to_numpy(Bmtf_Phi_LS133[i]), ak.to_numpy(Bmtf_Eta_LS133[i])\n",
    "    ArrGmtPhi, ArrGmtEta = ak.to_numpy(Gmt_Phi_LS133[i]), ak.to_numpy(Gmt_Eta_LS133[i])\n",
    "\n",
    "    #Primo metodo \n",
    "    for j in range(nBmtfMuons_LS133[i]):\n",
    "\n",
    "      #Calcolo il DeltaR\n",
    "      DeltaRTemp = DeltaR(ArrBmtfPhi[j], ArrGmtPhi[:], ArrBmtfEta[j], ArrGmtEta[:])\n",
    "\n",
    "      minDeltaR = np.min(DeltaRTemp)\n",
    "\n",
    "      if minDeltaR < 0.4:\n",
    "\n",
    "        #Attento a come sono definiti IndexMin nei vari casi! Nel primo caso è confronto con tutti i muoni del GMT!\n",
    "        indexTempGMT = np.argmin(DeltaRTemp)\n",
    "        DeltaRDistBMTF.append(minDeltaR)\n",
    "        IndexMinGMT.append(indexTempGMT)\n",
    "        DeltaPhi_BMTF = Delta(ArrBmtfPhi[j], ArrGmtPhi[indexTempGMT])\n",
    "        DeltaEta_BMTF = Delta(ArrBmtfEta[j], ArrGmtEta[indexTempGMT])\n",
    "        #ArrGmtPhi, ArrGmtEta = np.delete(ArrGmtPhi, indexTempGMT), np.delete(ArrGmtEta, indexTempGMT)\n",
    "\n",
    "      else:\n",
    "        #Se DeltaR > 0.4 (primo metodo) non c'è match con i muoni del GMT\n",
    "        unmatched_Gmt = [i for i in range(nGmtMuons_LS133[i])]\n",
    "  \n",
    "    \n",
    "      matched_Bmtf_Index = [i for i in IndexMinGMT if IndexMinGMT]\n",
    "      unmatched_Bmtf = [i for i in range(nBmtfMuons_LS133[i]) if i not in matched_Bmtf_Index]\n",
    "\n",
    "\n",
    "      #Tolgo gli elementi del GMT (quelli che vengono confrontati) già matchati\n",
    "      \n",
    "\n",
    "    \n",
    "    #Riassegno per ripristinare il valore iniziale in ogni BX\n",
    "    ArrBmtfPhi, ArrBmtfEta = ak.to_numpy(Bmtf_Phi_LS133[i]), ak.to_numpy(Bmtf_Eta_LS133[i])\n",
    "    ArrGmtPhi, ArrGmtEta = ak.to_numpy(Gmt_Phi_LS133[i]), ak.to_numpy(Gmt_Eta_LS133[i])\n",
    "\n",
    "    #Secondo metodo \n",
    "    for k in range(nGmtMuons_LS133[i]):\n",
    "      DeltaRTemp = DeltaR(ArrBmtfPhi[:], ArrGmtPhi[k], ArrBmtfEta[:], ArrGmtEta[k])\n",
    "\n",
    "      minDeltaR = np.min(DeltaRTemp)\n",
    "\n",
    "      if minDeltaR < 0.4:\n",
    "  \n",
    "        indexTempBMTF = np.argmin(DeltaRTemp)\n",
    "        DeltaRDistGMT.append(minDeltaR)\n",
    "        IndexMinBMTF.append(indexTempBMTF)\n",
    "        DeltaPhi_GMT = Delta(ArrBmtfPhi[indexTempBMTF], ArrGmtPhi[k])\n",
    "        DeltaEta_GMT = Delta(ArrBmtfEta[indexTempBMTF], ArrGmtEta[k])\n",
    "        #ArrBmtfPhi, ArrBmtfEta = np.delete(ArrBmtfPhi, indexTempGMT), np.delete(ArrBmtfEta, indexTempGMT)\n",
    "      \n",
    "      else:\n",
    "        unmatched_Bmtf = [i for i in range(nBmtfMuons_LS133[i])]\n",
    "\n",
    "      matched_Gmt_Index = [k for k in IndexMinBMTF if IndexMinBMTF]\n",
    "      unmatched_Gmt = [k for k in range(nGmtMuons_LS133[i]) if k not in matched_Gmt_Index]\n",
    "\n",
    "      #Tolgo il valore \n",
    "\n",
    "\n",
    "\n",
    "\n",
    "  Events = {\n",
    "    'unmatched_Gmt_Events' : unmatched_Gmt,\n",
    "    'unmatched_Bmtf_Events': unmatched_Bmtf, \n",
    "  }\n",
    "\n",
    "  MuonsProperties.append(Events)"
   ]
  },
  {
   "cell_type": "code",
   "execution_count": 17,
   "metadata": {},
   "outputs": [
    {
     "name": "stdout",
     "output_type": "stream",
     "text": [
      "554\n",
      "94\n"
     ]
    }
   ],
   "source": [
    "MuonsProperties = ak.Array(MuonsProperties)\n",
    "print(ak.sum(ak.num(MuonsProperties.unmatched_Bmtf_Events)))\n",
    "print(ak.sum(ak.num(MuonsProperties.unmatched_Gmt_Events)))"
   ]
  },
  {
   "cell_type": "code",
   "execution_count": null,
   "metadata": {},
   "outputs": [],
   "source": []
  }
 ],
 "metadata": {
  "kernelspec": {
   "display_name": "base",
   "language": "python",
   "name": "python3"
  },
  "language_info": {
   "codemirror_mode": {
    "name": "ipython",
    "version": 3
   },
   "file_extension": ".py",
   "mimetype": "text/x-python",
   "name": "python",
   "nbconvert_exporter": "python",
   "pygments_lexer": "ipython3",
   "version": "3.12.2"
  }
 },
 "nbformat": 4,
 "nbformat_minor": 2
}
