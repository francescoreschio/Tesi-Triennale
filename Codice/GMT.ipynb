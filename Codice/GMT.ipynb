{
 "cells": [
  {
   "cell_type": "code",
   "execution_count": 3,
   "metadata": {},
   "outputs": [],
   "source": [
    "import numpy as np\n",
    "import matplotlib.pyplot as plt\n",
    "from mpl_toolkits.axes_grid1 import make_axes_locatable\n",
    "import awkward as ak\n",
    "import uproot \n",
    "import mplhep as hep\n",
    "import hist\n",
    "import os\n",
    "import time\n",
    "\n",
    "from UtilityAndConst import *\n",
    "from Functions import *\n",
    "\n",
    "dir = \"/Users/francescolarovere/Documents/Tesi-Triennale/Dati\"\n",
    "os.chdir(dir)\n",
    "\n",
    "hep.style.use(\"CMS\")\n",
    "np.set_printoptions(threshold=np.inf)"
   ]
  },
  {
   "cell_type": "code",
   "execution_count": 4,
   "metadata": {},
   "outputs": [],
   "source": [
    "LS133 = \"./ntupleStubsBmtfGmt_LS133.root\"\n",
    "LS263 = \"./ntupleStubsBmtfGmt_LS263.root\"\n",
    "LS264 = \"./ntupleStubsBmtfGmt_LS264.root\"\n",
    "LS306 = \"./ntupleStubsBmtfGmt_LS306.root\"\n",
    "\n",
    "#Open file\n",
    "stubs_awk_LS133 = OpenRootFile(LS133, stub_features)\n",
    "stubs_awk_LS263 = OpenRootFile(LS263, stub_features)\n",
    "stubs_awk_LS264 = OpenRootFile(LS264, stub_features)\n",
    "stubs_awk_LS306 = OpenRootFile(LS306, stub_features)\n",
    "\n",
    "gmt_awk_LS133 = OpenRootFile(LS133, gmt_features)\n",
    "gmt_awk_LS263 = OpenRootFile(LS263, gmt_features)\n",
    "gmt_awk_LS264 = OpenRootFile(LS264, gmt_features)\n",
    "gmt_awk_LS306 = OpenRootFile(LS306, gmt_features)\n",
    "\n",
    "bmtf_awk_LS133 = OpenRootFile(LS133, bmtf_features)\n",
    "bmtf_awk_LS263 = OpenRootFile(LS263, bmtf_features)\n",
    "bmtf_awk_LS264 = OpenRootFile(LS264, bmtf_features)\n",
    "bmtf_awk_LS306 = OpenRootFile(LS306, bmtf_features)"
   ]
  },
  {
   "cell_type": "markdown",
   "metadata": {},
   "source": [
    "# Molteplicità di Stub per GMT"
   ]
  },
  {
   "cell_type": "code",
   "execution_count": 5,
   "metadata": {},
   "outputs": [],
   "source": [
    "#Caricamenot BX delle stubs\n",
    "BX_LS133 = stubs_awk_LS133.bx\n",
    "BX_LS263 = stubs_awk_LS263.bx\n",
    "BX_LS264 = stubs_awk_LS264.bx\n",
    "BX_LS306 = stubs_awk_LS306.bx\n",
    "\n",
    "#Caricamento muoni di GMT\n",
    "nGmtMuons_LS133 = gmt_awk_LS133.nGmtMuons\n",
    "nGmtMuons_LS263 = gmt_awk_LS263.nGmtMuons\n",
    "nGmtMuons_LS264 = gmt_awk_LS264.nGmtMuons\n",
    "nGmtMuons_LS306 = gmt_awk_LS306.nGmtMuons\n",
    "\n",
    "nBmtfMuons_LS133 = bmtf_awk_LS133.nBmtfMuons\n",
    "nBmtfMuons_LS263 = bmtf_awk_LS263.nBmtfMuons\n",
    "nBmtfMuons_LS264 = bmtf_awk_LS264.nBmtfMuons\n",
    "nBmtfMuons_LS306 = bmtf_awk_LS306.nBmtfMuons"
   ]
  },
  {
   "cell_type": "code",
   "execution_count": 6,
   "metadata": {},
   "outputs": [],
   "source": [
    "nGmtLS133_count = ConvertToHz(np.bincount(nGmtMuons_LS133))\n",
    "nGmtLS263_count = ConvertToHz(np.bincount(nGmtMuons_LS263))\n",
    "nGmtLS264_count = ConvertToHz(np.bincount(nGmtMuons_LS264))\n",
    "nGmtLS306_count = ConvertToHz(np.bincount(nGmtMuons_LS306))\n",
    "\n",
    "nGmt_Array = ak.Array([nGmtLS133_count, nGmtLS263_count, nGmtLS264_count, nGmtLS306_count])\n",
    "\n",
    "MaxStubs = max(len(nGmt_Array[0]), len(nGmt_Array[1]), len(nGmt_Array[2]), len(nGmt_Array[3]))\n",
    "\n",
    "#Filled Array per eseguire una somma vettoriale dei 4 array\n",
    "FnGmtLS133 = ak.fill_none(ak.pad_none(nGmt_Array[0], MaxStubs, axis = 0, clip=True), 0)\n",
    "FnGmtLS263 = ak.fill_none(ak.pad_none(nGmt_Array[1], MaxStubs, axis = 0, clip=True), 0)\n",
    "FnGmtLS264 = ak.fill_none(ak.pad_none(nGmt_Array[2], MaxStubs, axis = 0, clip=True), 0)\n",
    "FnGmtLS306 = ak.fill_none(ak.pad_none(nGmt_Array[3], MaxStubs, axis = 0, clip=True), 0)\n",
    "\n",
    "nGmt = FnGmtLS133 + FnGmtLS263 + FnGmtLS264 + FnGmtLS306\n"
   ]
  },
  {
   "cell_type": "code",
   "execution_count": null,
   "metadata": {},
   "outputs": [],
   "source": [
    "fig, ax = plt.subplots(figsize=(12, 8), constrained_layout=True)\n",
    "\n",
    "set_label_font(ax, FONTSIZE)\n",
    "set_tick_font(ax, FONTSIZE - 2)\n",
    "draw_cms_label(ax, fontsize= FONTSIZE, label=\"Work in Progress\", rlabel=\"L1 Trigger Scouting 2024 (13.6 TeV)\")\n",
    "\n",
    "ax.bar(np.arange(len(nGmt[:])), nGmt[:])\n",
    "\n",
    "#ax.set_xticks(ticks=np.arange(9), labels=np.arange(1, 10, 1))\n",
    "ax.tick_params(axis='x', which='minor', length=0)\n",
    "ax.set_xlabel('BX number')\n",
    "ax.set_ylabel('Stub rate [Hz]')\n",
    "ax.set_xlim(-0.8, 6)\n",
    "ax.grid(visible=True, axis='y')\n",
    "ax.set_yscale('log')"
   ]
  },
  {
   "cell_type": "code",
   "execution_count": null,
   "metadata": {},
   "outputs": [],
   "source": []
  },
  {
   "cell_type": "markdown",
   "metadata": {},
   "source": [
    "# $\\Delta R$\n",
    "\n"
   ]
  },
  {
   "cell_type": "code",
   "execution_count": 39,
   "metadata": {},
   "outputs": [],
   "source": [
    "#Carico dati per GMT\n",
    "GmtPhi_LS133 = ak.flatten(gmt_awk_LS133.gmtPhi)\n",
    "GmtPhi_LS263 = ak.flatten(gmt_awk_LS263.gmtPhi)\n",
    "GmtPhi_LS264 = ak.flatten(gmt_awk_LS264.gmtPhi)\n",
    "GmtPhi_LS306 = ak.flatten(gmt_awk_LS306.gmtPhi)\n",
    "\n",
    "GmtEta_LS133 = ak.flatten(gmt_awk_LS133.gmtEta)\n",
    "GmtEta_LS263 = ak.flatten(gmt_awk_LS263.gmtEta)\n",
    "GmtEta_LS264 = ak.flatten(gmt_awk_LS264.gmtEta)\n",
    "GmtEta_LS306 = ak.flatten(gmt_awk_LS306.gmtEta)\n",
    "\n",
    "#Carico dati per BMTF\n",
    "\n",
    "BmtfEta_LS133 = ak.flatten(bmtf_awk_LS133.bmtfEta)\n",
    "BmtfEta_LS263 = ak.flatten(bmtf_awk_LS263.bmtfEta)\n",
    "BmtfEta_LS264 = ak.flatten(bmtf_awk_LS264.bmtfEta)\n",
    "BmtfEta_LS306 = ak.flatten(bmtf_awk_LS306.bmtfEta)\n",
    "\n",
    "BmtfPhi_LS133 = ak.flatten(bmtf_awk_LS133.bmtfPhi)\n",
    "BmtfPhi_LS263 = ak.flatten(bmtf_awk_LS263.bmtfPhi)\n",
    "BmtfPhi_LS264 = ak.flatten(bmtf_awk_LS264.bmtfPhi)\n",
    "BmtfPhi_LS306 = ak.flatten(bmtf_awk_LS306.bmtfPhi)\n"
   ]
  },
  {
   "cell_type": "markdown",
   "metadata": {},
   "source": [
    "Provo ad usare il primo metodo di confronto di un candidato muone verso tutti gli altri muoni del GMT"
   ]
  },
  {
   "cell_type": "code",
   "execution_count": 53,
   "metadata": {},
   "outputs": [],
   "source": [
    "def Deltar(BmtfPhi, GmtPhi, BmtfEta, GmtEta):\n",
    "  return np.sqrt((BmtfPhi - GmtPhi)**2 + (BmtfEta - GmtEta)**2)"
   ]
  },
  {
   "cell_type": "code",
   "execution_count": 85,
   "metadata": {},
   "outputs": [],
   "source": [
    "DeltaR = []\n",
    "\n",
    "for i in range(10000):\n",
    "    \n",
    "    DeltaRt = Deltar(BmtfPhi_LS133[i], GmtPhi_LS133[:], BmtfEta_LS133[i], GmtEta_LS133[:])    \n",
    "    \n",
    "    minDeltaR = np.min(DeltaRt)\n",
    "    \n",
    "    DeltaR.append(minDeltaR)\n",
    "\n"
   ]
  },
  {
   "cell_type": "code",
   "execution_count": 84,
   "metadata": {},
   "outputs": [
    {
     "name": "stdout",
     "output_type": "stream",
     "text": [
      "[0.0, 0.0, 0.0, 0.0, 0.0, 0.0, 0.0, 0.0, 0.0, 0.0, 0.0, 0.0, 0.010874987, 0.0, 0.0, 0.0, 0.0, 0.0, 0.0, 0.0, 0.0, 0.0, 0.0, 0.0, 0.0, 0.0, 0.0, 0.0, 0.0, 0.0, 0.0, 0.0, 0.0, 0.0, 0.0, 0.0, 0.0, 0.0, 0.0, 0.0, 0.0, 0.0, 0.0, 0.0, 0.0, 0.0, 0.0, 0.0, 0.0, 0.0, 0.0, 0.0, 0.0, 0.0, 0.0, 0.0, 0.0, 0.0, 0.0, 0.0, 0.0, 0.0, 0.0, 0.0, 0.0, 0.0, 0.0, 0.0, 0.0, 0.0, 0.0, 0.0, 0.0, 0.0, 0.0, 0.0, 0.0, 0.0, 0.0, 0.0, 0.0, 0.0, 0.0, 0.0, 0.0, 0.0, 0.0, 0.0, 0.0, 0.0, 0.0, 0.0, 0.0, 0.0, 0.0, 0.0, 0.0, 0.0, 0.0, 0.0, 0.0, 0.0, 0.0, 0.0, 0.0, 0.0, 0.0, 0.0, 0.0, 0.0, 0.0, 0.0, 0.0, 0.0, 0.0, 0.0, 0.0, 0.0, 0.010874987, 0.0, 0.0, 0.0, 0.0, 0.0, 0.0, 0.0, 0.0, 0.0, 0.0, 0.0, 0.0, 0.0, 0.0, 0.0, 0.0, 0.0, 0.0, 0.0, 0.0, 0.0, 0.0, 0.0, 0.0, 0.0, 0.0, 0.0, 0.0, 0.0, 0.0, 0.0, 0.0, 0.0, 0.0, 0.0, 0.0, 0.0, 0.0, 0.0, 0.0, 0.0, 0.0, 0.0, 0.0, 0.0, 0.0, 0.0, 0.0, 0.0, 0.0, 0.0, 0.0, 0.0, 0.0, 0.0, 0.0, 0.0, 0.0, 0.0, 0.0, 0.0, 0.0, 0.0, 0.0, 0.0, 0.0, 0.0, 0.0, 0.0, 0.0, 0.0, 0.0, 0.0, 0.0, 0.0, 0.0, 0.0, 0.0, 0.0, 0.0, 0.0, 0.0, 0.0, 0.0, 0.0, 0.0, 0.0, 0.0, 0.0, 0.0, 0.0, 0.0, 0.0, 0.0, 0.0, 0.0, 0.0, 0.0, 0.0, 0.0, 0.0, 0.0, 0.0, 0.0, 0.0, 0.0, 0.0, 0.0, 0.0, 0.0, 0.0, 0.0, 0.0, 0.0, 0.0, 0.0, 0.0, 0.0, 0.0, 0.0, 0.0, 0.0, 0.0, 0.0, 0.0, 0.0, 0.0, 0.0, 0.0, 0.0, 0.0, 0.010875002, 0.0, 0.0, 0.0, 0.0, 0.0, 0.0, 0.0, 0.0, 0.0, 0.0, 0.0, 0.0, 0.0, 0.0, 0.0, 0.0, 0.0, 0.0, 0.0, 0.0, 0.0, 0.0, 0.0, 0.0, 0.0, 0.0, 0.0, 0.0, 0.0, 0.0, 0.0, 0.0, 0.0, 0.0, 0.0, 0.0, 0.0, 0.0, 0.0, 0.0, 0.0, 0.0, 0.0, 0.0, 0.0, 0.0, 0.0, 0.0, 0.0, 0.0, 0.0, 0.0, 0.0, 0.0, 0.0, 0.0, 0.0, 0.0, 0.0, 0.0, 0.0, 0.0, 0.0, 0.0, 0.0, 0.0, 0.0, 0.0, 0.0, 0.0, 0.0, 0.0, 0.0, 0.0, 0.0, 0.0, 0.0, 0.0, 0.0, 0.0, 0.0, 0.0, 0.0, 0.0, 0.0, 0.0, 0.0, 0.0, 0.0, 0.0, 0.0, 0.0, 0.0, 0.0, 0.0, 0.0, 0.0, 0.0, 0.0, 0.0, 0.0, 0.0, 0.0, 0.0, 0.0, 0.0, 0.0, 0.0, 0.0, 0.0, 0.0, 0.0, 0.0, 0.0, 0.0, 0.0, 0.0, 0.0, 0.0, 0.0, 0.0, 0.0, 0.0, 0.0, 0.0, 0.0, 0.0, 0.0, 0.0, 0.0, 0.0, 0.0, 0.0, 0.0, 0.0, 0.0, 0.0, 0.0, 0.0, 0.0, 0.0, 0.0, 0.0, 0.0, 0.0, 0.0, 0.0, 0.0, 0.0, 0.0, 0.0, 0.0, 0.0, 0.0, 0.0, 0.0, 0.0, 0.0, 0.0, 0.0, 0.0, 0.0, 0.0, 0.0, 0.0, 0.0, 0.0, 0.0, 0.0, 0.0, 0.0, 0.0, 0.0, 0.0, 0.0, 0.0, 0.0, 0.0, 0.0, 0.0, 0.0, 0.0, 0.0, 0.0, 0.0, 0.0, 0.0, 0.0, 0.0, 0.0, 0.0, 0.0, 0.0, 0.0, 0.0, 0.0, 0.0, 0.0, 0.0, 0.0, 0.0, 0.0, 0.0, 0.0, 0.0, 0.0, 0.0, 0.0, 0.0, 0.0, 0.0, 0.0, 0.0, 0.0, 0.0, 0.0, 0.0, 0.0, 0.0, 0.010874987, 0.010874987, 0.0, 0.0, 0.0, 0.0, 0.0, 0.0, 0.0, 0.0, 0.0, 0.0, 0.0, 0.0, 0.0, 0.0, 0.0, 0.0, 0.0, 0.0, 0.0, 0.0, 0.0, 0.0, 0.0, 0.0, 0.0, 0.0, 0.0, 0.0, 0.0, 0.0, 0.0, 0.0, 0.0, 0.0, 0.0, 0.0, 0.0, 0.0, 0.0, 0.0, 0.0, 0.0, 0.0, 0.0, 0.0, 0.0, 0.0, 0.0, 0.0, 0.0, 0.0, 0.0, 0.0, 0.0, 0.0, 0.0, 0.0, 0.0, 0.0, 0.0, 0.0, 0.0, 0.0, 0.0, 0.0, 0.0, 0.0, 0.0, 0.0, 0.0, 0.0, 0.0, 0.0, 0.0, 0.0, 0.0, 0.0, 0.0, 0.0, 0.0, 0.0, 0.0, 0.0, 0.0, 0.0, 0.0, 0.0, 0.0, 0.0, 0.0, 0.0, 0.0, 0.0, 0.0, 0.0, 0.0, 0.0, 0.0, 0.0, 0.0, 0.0, 0.0, 0.0, 0.0, 0.0, 0.0, 0.0, 0.0, 0.0, 0.0, 0.0, 0.0, 0.0, 0.0, 0.0, 0.0, 0.0, 0.0, 0.0, 0.0, 0.0, 0.0, 0.0, 0.0, 0.0, 0.0, 0.0, 0.0, 0.0, 0.0, 0.0, 0.0, 0.0, 0.0, 0.0, 0.0, 0.0, 0.0, 0.0, 0.0, 0.0, 0.0, 0.0, 0.0, 0.0, 0.0, 0.0, 0.0, 0.0, 0.0, 0.0, 0.0, 0.0, 0.0, 0.0, 0.0, 0.0, 0.0, 0.0, 0.0, 0.0, 0.0, 0.0, 0.0, 0.0, 0.0, 0.0, 0.0, 0.0, 0.0, 0.0, 0.0, 0.0, 0.0, 0.0, 0.0, 0.0, 0.0, 0.0, 0.0, 0.0, 0.0, 0.0, 0.0, 0.0, 0.0, 0.0, 0.0, 0.0, 0.0, 0.0, 0.0, 0.0, 0.0, 0.0, 0.0, 0.0, 0.0, 0.0, 0.0, 0.0, 0.0, 0.0, 0.0, 0.0, 0.0, 0.0, 0.0, 0.0, 0.0, 0.0, 0.0, 0.0, 0.0, 0.0, 0.0, 0.0, 0.0, 0.0, 0.0, 0.0, 0.0, 0.0, 0.0, 0.0, 0.0, 0.0, 0.0, 0.0, 0.0, 0.0, 0.0, 0.0, 0.0, 0.0, 0.0, 0.0, 0.0, 0.0, 0.0, 0.0, 0.0, 0.0, 0.0, 0.0, 0.0, 0.0, 0.0, 0.0, 0.0, 0.0, 0.0, 0.0, 0.0, 0.0, 0.0, 0.0, 0.0, 0.0, 0.0, 0.0, 0.0, 0.0, 0.0, 0.0, 0.0, 0.0, 0.0, 0.0, 0.0, 0.0, 0.0, 0.0, 0.0, 0.0, 0.0, 0.0, 0.0, 0.0, 0.0, 0.0, 0.0, 0.0, 0.0, 0.0, 0.0, 0.0, 0.0, 0.0, 0.0, 0.0, 0.0, 0.0, 0.0, 0.0, 0.0, 0.0, 0.0, 0.0, 0.0, 0.0, 0.0, 0.0, 0.0, 0.0, 0.0, 0.0, 0.0, 0.0, 0.0, 0.0, 0.0, 0.0, 0.0, 0.0, 0.0, 0.0, 0.0, 0.0, 0.0, 0.0, 0.0, 0.0, 0.0, 0.0, 0.0, 0.0, 0.0, 0.0, 0.0, 0.0, 0.0, 0.0, 0.0, 0.0, 0.0, 0.0, 0.0, 0.0, 0.0, 0.0, 0.0, 0.0, 0.0, 0.0, 0.0, 0.0, 0.0, 0.0, 0.0, 0.0, 0.0, 0.0, 0.0, 0.0, 0.0, 0.0, 0.0, 0.0, 0.0, 0.0, 0.0, 0.0, 0.0, 0.0, 0.0, 0.0, 0.0, 0.0, 0.0, 0.0, 0.0, 0.0, 0.0, 0.0, 0.0, 0.0, 0.0, 0.0, 0.0, 0.0, 0.0, 0.0, 0.0, 0.0, 0.0, 0.0, 0.0, 0.0, 0.0, 0.0, 0.0, 0.0, 0.0, 0.0, 0.0, 0.0, 0.0, 0.0, 0.0, 0.0, 0.0, 0.0, 0.0, 0.0, 0.0, 0.0, 0.0, 0.0, 0.0, 0.0, 0.0, 0.0, 0.0, 0.0, 0.0, 0.0, 0.0, 0.0, 0.0, 0.0, 0.0, 0.0, 0.0, 0.0, 0.0, 0.0, 0.0, 0.0, 0.0, 0.0, 0.0, 0.0, 0.0, 0.0, 0.0, 0.0, 0.0, 0.0, 0.0, 0.0, 0.0, 0.0, 0.0, 0.0, 0.0, 0.0, 0.0, 0.0, 0.0, 0.0, 0.0, 0.0, 0.0, 0.0, 0.0, 0.0, 0.0, 0.0, 0.0, 0.0, 0.0, 0.0, 0.0, 0.0, 0.0, 0.0, 0.0, 0.0, 0.0, 0.0, 0.0, 0.0, 0.0, 0.0, 0.0, 0.0, 0.0, 0.0, 0.0, 0.0, 0.0, 0.0, 0.0, 0.0, 0.0, 0.0, 0.0, 0.0, 0.0, 0.0, 0.0, 0.0, 0.0, 0.0, 0.0, 0.0, 0.0, 0.0, 0.0, 0.0, 0.0, 0.0, 0.0, 0.0, 0.0, 0.0, 0.0, 0.0, 0.0, 0.0, 0.0, 0.0, 0.0, 0.0, 0.0, 0.0, 0.0, 0.0, 0.0, 0.0, 0.0, 0.0, 0.0, 0.0, 0.0, 0.0, 0.0]\n"
     ]
    }
   ],
   "source": [
    "print(DeltaR)"
   ]
  },
  {
   "cell_type": "markdown",
   "metadata": {},
   "source": [
    "Provo ad usare il secondo metodo nel CERNSummerSchoolReport"
   ]
  },
  {
   "cell_type": "code",
   "execution_count": null,
   "metadata": {},
   "outputs": [],
   "source": [
    "indexGMT = []\n",
    "\n",
    "for i in range(100):\n",
    "  if (nGmtMuons_LS263[i] > 0):\n",
    "    indexGMT.append(i)\n",
    "\n",
    "\n",
    "print(len(indexGMT))\n",
    "print(indexGMT)\n",
    "\n",
    "\n",
    "\n",
    "#for i in range(len(indexGMT)):\n",
    "i = 12\n",
    "print(BmtfEta_LS263[i], \"\\t\", GmtEta_LS263[i])\n"
   ]
  },
  {
   "cell_type": "code",
   "execution_count": null,
   "metadata": {},
   "outputs": [],
   "source": []
  },
  {
   "cell_type": "code",
   "execution_count": null,
   "metadata": {},
   "outputs": [],
   "source": [
    "for i in range(100):\n",
    "  for j in range(nGmtMuons_LS133[i]):\n",
    "    print(i, \"\\t\", j, \"\\t\", GmtPhi_LS133[i][j])"
   ]
  },
  {
   "cell_type": "code",
   "execution_count": null,
   "metadata": {},
   "outputs": [],
   "source": []
  },
  {
   "cell_type": "code",
   "execution_count": 10,
   "metadata": {},
   "outputs": [],
   "source": [
    "DeltaR = [[] for _ in range(len(nGmtMuons_LS133))]\n",
    "\n",
    "for i in range(len(nGmtMuons_LS133)):\n",
    "  for j in range(nGmtMuons_LS133[i]):\n",
    "    for k in range(len(BmtfPhi_LS133[i])):\n",
    "\n",
    "      DeltaPhi = GmtPhi_LS133[i][j] - BmtfPhi_LS133[i][k]\n",
    "      DeltaEta = GmtEta_LS133[i][j] - BmtfEta_LS133[i][k]\n",
    "      deltar = np.sqrt(DeltaPhi**2 + DeltaEta**2)\n",
    "\n",
    "      DeltaR[i].append(deltar)\n",
    "\n",
    "\n",
    "      #print(i, \"\\t\", j, \"\\t\", k, \"\\t\", GmtPhi_LS133[i][j], \"\\t\", BmtfPhi_LS133[i][k], \"\\t\", DeltaPhi)\n",
    "      #print(i, \"\\t\", j, \"\\t\", k, \"\\t\", GmtEta_LS133[i][j], \"\\t\", BmtfEta_LS133[i][k], \"\\t\", DeltaEta)\n",
    "\n",
    "  if(len(DeltaR[i]) > 0):\n",
    "    DeltaR[i] = [np.min(DeltaR[i])]\n",
    "    \n",
    "AKDeltaR = ak.flatten(ak.Array(DeltaR))\n",
    "  "
   ]
  },
  {
   "cell_type": "code",
   "execution_count": 11,
   "metadata": {},
   "outputs": [],
   "source": [
    "array = np.array(AKDeltaR)"
   ]
  },
  {
   "cell_type": "code",
   "execution_count": null,
   "metadata": {},
   "outputs": [],
   "source": [
    "plt.hist(array, bins=100)\n",
    "plt.yscale('log')\n",
    "plt.xlim(0, 0.5)\n",
    "plt.show()\n"
   ]
  },
  {
   "cell_type": "code",
   "execution_count": null,
   "metadata": {},
   "outputs": [],
   "source": []
  }
 ],
 "metadata": {
  "kernelspec": {
   "display_name": "base",
   "language": "python",
   "name": "python3"
  },
  "language_info": {
   "codemirror_mode": {
    "name": "ipython",
    "version": 3
   },
   "file_extension": ".py",
   "mimetype": "text/x-python",
   "name": "python",
   "nbconvert_exporter": "python",
   "pygments_lexer": "ipython3",
   "version": "3.12.2"
  }
 },
 "nbformat": 4,
 "nbformat_minor": 2
}
