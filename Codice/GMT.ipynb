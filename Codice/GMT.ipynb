{
 "cells": [
  {
   "cell_type": "code",
   "execution_count": 1,
   "metadata": {},
   "outputs": [],
   "source": [
    "import numpy as np\n",
    "import matplotlib.pyplot as plt\n",
    "from mpl_toolkits.axes_grid1 import make_axes_locatable\n",
    "from matplotlib import ticker\n",
    "import awkward as ak\n",
    "import uproot \n",
    "import mplhep as hep\n",
    "import hist\n",
    "import os\n",
    "import time\n",
    "from numba import njit\n",
    "from scipy.optimize import curve_fit\n",
    "\n",
    "from UtilityAndConst import *\n",
    "from Functions import *\n",
    "\n",
    "dir = \"/Users/francescolarovere/Documents/Tesi-Triennale/Dati\"\n",
    "os.chdir(dir)\n",
    "\n",
    "hep.style.use(\"CMS\")\n",
    "np.set_printoptions(threshold=np.inf)"
   ]
  },
  {
   "cell_type": "code",
   "execution_count": 2,
   "metadata": {},
   "outputs": [],
   "source": [
    "LS133 = \"./ntupleStubsBmtfGmt_LS133.root\"\n",
    "LS263 = \"./ntupleStubsBmtfGmt_LS263.root\"\n",
    "LS264 = \"./ntupleStubsBmtfGmt_LS264.root\"\n",
    "LS306 = \"./ntupleStubsBmtfGmt_LS306.root\"\n",
    "\n",
    "#Open file\n",
    "stubs_awk_LS133 = OpenRootFile(LS133, stub_features)\n",
    "stubs_awk_LS263 = OpenRootFile(LS263, stub_features)\n",
    "stubs_awk_LS264 = OpenRootFile(LS264, stub_features)\n",
    "stubs_awk_LS306 = OpenRootFile(LS306, stub_features)\n",
    "\n",
    "gmt_awk_LS133 = OpenRootFile(LS133, gmt_features)\n",
    "gmt_awk_LS263 = OpenRootFile(LS263, gmt_features)\n",
    "gmt_awk_LS264 = OpenRootFile(LS264, gmt_features)\n",
    "gmt_awk_LS306 = OpenRootFile(LS306, gmt_features)\n",
    "\n",
    "bmtf_awk_LS133 = OpenRootFile(LS133, bmtf_features)\n",
    "bmtf_awk_LS263 = OpenRootFile(LS263, bmtf_features)\n",
    "bmtf_awk_LS264 = OpenRootFile(LS264, bmtf_features)\n",
    "bmtf_awk_LS306 = OpenRootFile(LS306, bmtf_features)"
   ]
  },
  {
   "cell_type": "markdown",
   "metadata": {},
   "source": [
    "# Molteplicità di Stub per GMT"
   ]
  },
  {
   "cell_type": "code",
   "execution_count": 3,
   "metadata": {},
   "outputs": [],
   "source": [
    "#Caricamenot BX delle stubs\n",
    "BX_LS133 = stubs_awk_LS133.bx\n",
    "BX_LS263 = stubs_awk_LS263.bx\n",
    "BX_LS264 = stubs_awk_LS264.bx\n",
    "BX_LS306 = stubs_awk_LS306.bx\n",
    "\n",
    "#Caricamento muoni di GMT\n",
    "nGmtMuons_LS133 = gmt_awk_LS133.nGmtMuons\n",
    "nGmtMuons_LS263 = gmt_awk_LS263.nGmtMuons\n",
    "nGmtMuons_LS264 = gmt_awk_LS264.nGmtMuons\n",
    "nGmtMuons_LS306 = gmt_awk_LS306.nGmtMuons\n",
    "\n",
    "nBmtfMuons_LS133 = bmtf_awk_LS133.nBmtfMuons\n",
    "nBmtfMuons_LS263 = bmtf_awk_LS263.nBmtfMuons\n",
    "nBmtfMuons_LS264 = bmtf_awk_LS264.nBmtfMuons\n",
    "nBmtfMuons_LS306 = bmtf_awk_LS306.nBmtfMuons"
   ]
  },
  {
   "cell_type": "code",
   "execution_count": null,
   "metadata": {},
   "outputs": [],
   "source": [
    "#GMT\n",
    "bx_range = np.arange(ONE_ORBIT_IN_BX + 2)\n",
    "\n",
    "bx_gmt_counts_LS133 = np.bincount(BX_LS133, weights=nGmtMuons_LS133)\n",
    "bx_gmt_counts_LS263 = np.bincount(BX_LS263, weights=nGmtMuons_LS263)\n",
    "bx_gmt_counts_LS264 = np.bincount(BX_LS264, weights=nGmtMuons_LS264)\n",
    "bx_gmt_counts_LS306 = np.bincount(BX_LS306, weights=nGmtMuons_LS306)\n",
    "\n",
    "bx_gmt_counts = (bx_gmt_counts_LS133 + bx_gmt_counts_LS263 + bx_gmt_counts_LS264 + bx_gmt_counts_LS306)/4\n",
    "\n",
    "\n",
    "#BMTF\n",
    "bx_bmtf_counts_LS133 = np.bincount(BX_LS133, weights=nBmtfMuons_LS133)\n",
    "bx_bmtf_counts_LS263 = np.bincount(BX_LS263, weights=nBmtfMuons_LS263)\n",
    "bx_bmtf_counts_LS264 = np.bincount(BX_LS264, weights=nBmtfMuons_LS264)\n",
    "bx_bmtf_counts_LS306 = np.bincount(BX_LS306, weights=nBmtfMuons_LS306)\n",
    "\n",
    "bx_bmtf_counts = (bx_bmtf_counts_LS133 + bx_bmtf_counts_LS263 + bx_bmtf_counts_LS264 + bx_bmtf_counts_LS306)/4\n",
    "\n",
    "print(bx_bmtf_counts_LS133[71])"
   ]
  },
  {
   "cell_type": "code",
   "execution_count": null,
   "metadata": {},
   "outputs": [],
   "source": [
    "#Plot con i quattro file uniti\n",
    "fig, ax = plt.subplots(figsize=FIGSIZE, constrained_layout=True)\n",
    "\n",
    "set_label_font(ax, FONTSIZE)\n",
    "set_tick_font(ax, FONTSIZE - 2)\n",
    "draw_cms_label(ax, fontsize= FONTSIZE, label=\"Work in Progress\", rlabel=\"L1 Trigger Scouting 2024 (13.6 TeV)\")\n",
    "\n",
    "ax.hist(bx_range[:-1], bins=bx_range, weights=ConvertToHz(bx_gmt_counts), histtype='step')\n",
    "#ax.hist(bx_range[:-1], bins=bx_range, weights=ConvertToHz(bx_bmtf_counts), histtype='step')\n",
    "\n",
    "ax.set_xlabel('BX number')\n",
    "ax.set_ylabel('GMT Muons [Hz]')\n",
    "ax.set_xlim(0, ONE_ORBIT_IN_BX)\n",
    "ax.set_yscale('log')\n",
    "\n",
    "plt.savefig(\"../Immagini/GMT.pdf\")\n",
    "plt.savefig(\"../Immagini/ImmaginiPNG/GMT.png\")"
   ]
  },
  {
   "cell_type": "code",
   "execution_count": null,
   "metadata": {},
   "outputs": [],
   "source": [
    "fig, ax = plt.subplots(figsize=FIGSIZE, constrained_layout=True)\n",
    "\n",
    "set_label_font(ax, FONTSIZE)\n",
    "set_tick_font(ax, FONTSIZE - 2)\n",
    "draw_cms_label(ax, fontsize= FONTSIZE, label=\"Work in Progress\", rlabel=\"L1 Trigger Scouting 2024 (13.6 TeV)\")\n",
    "\n",
    "bx_left = 1840\n",
    "bx_right = 2260\n",
    "\n",
    "ax.hist(bx_range[bx_left:bx_right], bins=bx_range[bx_left:bx_right+1], weights=ConvertToHz(bx_gmt_counts[bx_left:bx_right]), histtype='step')\n",
    "#ax.hist(bx_range[bx_left:bx_right], bins=bx_range[bx_left:bx_right+1], weights=ConvertToHz(bx_bmtf_counts[bx_left:bx_right]), histtype='step')\n",
    "\n",
    "ax.set_xlabel('BX number')\n",
    "ax.set_ylabel('GMT Muons [Hz]')\n",
    "ax.set_xlim(bx_left, bx_right)\n",
    "ax.set_yscale('log')\n",
    "\n"
   ]
  },
  {
   "cell_type": "code",
   "execution_count": 7,
   "metadata": {},
   "outputs": [],
   "source": [
    "nGmtLS133_count = ConvertToHz(np.bincount(nGmtMuons_LS133))\n",
    "nGmtLS263_count = ConvertToHz(np.bincount(nGmtMuons_LS263))\n",
    "nGmtLS264_count = ConvertToHz(np.bincount(nGmtMuons_LS264))\n",
    "nGmtLS306_count = ConvertToHz(np.bincount(nGmtMuons_LS306))\n",
    "\n",
    "nGmt_Array = ak.Array([nGmtLS133_count, nGmtLS263_count, nGmtLS264_count, nGmtLS306_count])\n",
    "\n",
    "MaxStubs = max(len(nGmt_Array[0]), len(nGmt_Array[1]), len(nGmt_Array[2]), len(nGmt_Array[3]))\n",
    "\n",
    "#Filled Array per eseguire una somma vettoriale dei 4 array\n",
    "FnGmtLS133 = ak.fill_none(ak.pad_none(nGmt_Array[0], MaxStubs, axis = 0, clip=True), 0)\n",
    "FnGmtLS263 = ak.fill_none(ak.pad_none(nGmt_Array[1], MaxStubs, axis = 0, clip=True), 0)\n",
    "FnGmtLS264 = ak.fill_none(ak.pad_none(nGmt_Array[2], MaxStubs, axis = 0, clip=True), 0)\n",
    "FnGmtLS306 = ak.fill_none(ak.pad_none(nGmt_Array[3], MaxStubs, axis = 0, clip=True), 0)\n",
    "\n",
    "nGmt = FnGmtLS133 + FnGmtLS263 + FnGmtLS264 + FnGmtLS306\n"
   ]
  },
  {
   "cell_type": "code",
   "execution_count": null,
   "metadata": {},
   "outputs": [],
   "source": [
    "fig, ax = plt.subplots(figsize=(12, 8), constrained_layout=True)\n",
    "\n",
    "set_label_font(ax, FONTSIZE)\n",
    "set_tick_font(ax, FONTSIZE - 2)\n",
    "draw_cms_label(ax, fontsize= FONTSIZE, label=\"Work in Progress\", rlabel=\"L1 Trigger Scouting 2024 (13.6 TeV)\")\n",
    "\n",
    "ax.bar(np.arange(len(nGmt[:])), nGmt[:])\n",
    "\n",
    "#ax.set_xticks(ticks=np.arange(9), labels=np.arange(1, 10, 1))\n",
    "ax.tick_params(axis='x', which='minor', length=0)\n",
    "ax.set_xlabel('BX number')\n",
    "ax.set_ylabel('Stub rate [Hz]')\n",
    "ax.set_xlim(-0.8, 6)\n",
    "ax.grid(visible=True, axis='y')\n",
    "ax.set_yscale('log')"
   ]
  },
  {
   "cell_type": "markdown",
   "metadata": {},
   "source": [
    "# $\\Delta R$\n",
    "\n"
   ]
  },
  {
   "cell_type": "code",
   "execution_count": 9,
   "metadata": {},
   "outputs": [],
   "source": [
    "#Permette di trovare gli indici dei muoni BMTF e GMT in ogni bin del BX \n",
    "def BX_OPT(BX, nMuons):\n",
    "\n",
    "    BX_counts_max = int(np.max(np.bincount(BX, weights=nMuons)))\n",
    "    BX_Matrix = np.zeros((ONE_ORBIT_IN_BX, BX_counts_max), dtype=int)\n",
    "    Temp = np.zeros(ONE_ORBIT_IN_BX, dtype=int)\n",
    "    \n",
    "    for j in range(len(BX)):\n",
    "        BX_Val = BX[j]\n",
    "        if nMuons[j] > 0:\n",
    "            BX_Matrix[BX_Val, Temp[BX_Val]:Temp[BX_Val] + nMuons[j]] = np.arange(j, j + nMuons[j])\n",
    "            Temp[BX_Val] += nMuons[j]\n",
    "\n",
    "    BX_Matrix = ak.Array(BX_Matrix)\n",
    "\n",
    "    return  ak.drop_none(ak.mask(BX_Matrix, BX_Matrix != 0))\n",
    "    "
   ]
  },
  {
   "cell_type": "code",
   "execution_count": 10,
   "metadata": {},
   "outputs": [],
   "source": [
    "#BX_BMTF_LS133 = BX_OPT(BX_LS133, nBmtfMuons_LS133)\n",
    "#BX_GMT_LS133 = BX_OPT(BX_LS133, nGmtMuons_LS133)"
   ]
  },
  {
   "cell_type": "code",
   "execution_count": null,
   "metadata": {},
   "outputs": [],
   "source": [
    "'''ak.to_parquet(BX_BMTF_LS133, 'BX_BMTF_LS133.parquet')\n",
    "ak.to_parquet(BX_GMT_LS133, 'BX_GMT_LS133.parquet')'''"
   ]
  },
  {
   "cell_type": "code",
   "execution_count": 12,
   "metadata": {},
   "outputs": [],
   "source": [
    "#Carico dati per GMT\n",
    "GmtPhi_LS133 = gmt_awk_LS133.gmtPhi\n",
    "GmtPhi_LS263 = np.array(ak.flatten(gmt_awk_LS263.gmtPhi))\n",
    "GmtPhi_LS264 = np.array(ak.flatten(gmt_awk_LS264.gmtPhi))\n",
    "GmtPhi_LS306 = np.array(ak.flatten(gmt_awk_LS306.gmtPhi))\n",
    "\n",
    "GmtEta_LS133 = gmt_awk_LS133.gmtEta\n",
    "GmtEta_LS263 = np.array(ak.flatten(gmt_awk_LS263.gmtEta))\n",
    "GmtEta_LS264 = np.array(ak.flatten(gmt_awk_LS264.gmtEta))\n",
    "GmtEta_LS306 = np.array(ak.flatten(gmt_awk_LS306.gmtEta))\n",
    "\n",
    "#Carico dati per BMTF\n",
    "\n",
    "BmtfEta_LS133 = bmtf_awk_LS133.bmtfEta\n",
    "BmtfEta_LS263 = np.array(ak.flatten(bmtf_awk_LS263.bmtfEta))\n",
    "BmtfEta_LS264 = np.array(ak.flatten(bmtf_awk_LS264.bmtfEta))\n",
    "BmtfEta_LS306 = np.array(ak.flatten(bmtf_awk_LS306.bmtfEta))\n",
    "\n",
    "BmtfPhi_LS133 = bmtf_awk_LS133.bmtfPhi\n",
    "BmtfPhi_LS263 = np.array(ak.flatten(bmtf_awk_LS263.bmtfPhi))\n",
    "BmtfPhi_LS264 = np.array(ak.flatten(bmtf_awk_LS264.bmtfPhi))\n",
    "BmtfPhi_LS306 = np.array(ak.flatten(bmtf_awk_LS306.bmtfPhi))\n",
    "\n",
    "\n",
    "#Trova tutti gli elementi nulli dell'array di array e li sostituisce con degli zero. Poi viene flattato\n",
    "GmtEta_LS133 = ak.flatten(ak.where(ak.num(GmtEta_LS133) == 0, ak.Array([[0]]), GmtEta_LS133))\n",
    "GmtPhi_LS133 = ak.flatten(ak.where(ak.num(GmtPhi_LS133) == 0, ak.Array([[0]]), GmtPhi_LS133))\n",
    "BmtfEta_LS133 = ak.flatten(ak.where(ak.num(BmtfEta_LS133) == 0, ak.Array([[0]]), BmtfEta_LS133))\n",
    "BmtfPhi_LS133 = ak.flatten(ak.where(ak.num(BmtfPhi_LS133) == 0, ak.Array([[0]]), BmtfPhi_LS133))\n",
    "\n"
   ]
  },
  {
   "cell_type": "markdown",
   "metadata": {},
   "source": [
    "Usiamo il primo metodo, ovvero cerchiamo la discrepanza tra candidati muoni del BMTF e muoni del GMT"
   ]
  },
  {
   "cell_type": "code",
   "execution_count": 35,
   "metadata": {},
   "outputs": [],
   "source": [
    "def Delta(BMTF, GMT):\n",
    "  return BMTF - GMT\n",
    "\n",
    "def DeltaR(BmtfPhi, GmtPhi, BmtfEta, GmtEta):\n",
    "\n",
    "  return np.sqrt((BmtfPhi - GmtPhi)**2 + (BmtfEta - GmtEta)**2)\n",
    "\n",
    "\n",
    "def DeltaRDistribution(BX_BMTF, BX_GMT, BmtfPhi, GmtPhi, BmtfEta, GmtEta, use_Bmtf = True):\n",
    "\n",
    "  DeltaDist = [[] for _ in range(ONE_ORBIT_IN_BX)]\n",
    "  IndexMin = [[] for _ in range(ONE_ORBIT_IN_BX)]\n",
    "\n",
    "\n",
    "  #usa il primo metodo del CernSummerSchool\n",
    "  if use_Bmtf: \n",
    "    for i in range(ONE_ORBIT_IN_BX):\n",
    "\n",
    "      NestedArrayDeltaR = []\n",
    "      NestedArrayIndex = []\n",
    "\n",
    "      for j in range(len(BX_BMTF[i])):\n",
    "        DeltaRTemp = DeltaR(BmtfPhi[BX_BMTF[i][j]], GmtPhi[BX_GMT[i][:]], BmtfEta[BX_BMTF[i][j]], GmtEta[BX_GMT[i][:]])    #DelraR > 0.4 == 3.5% \n",
    "\n",
    "        minDeltaR = np.min(DeltaRTemp)\n",
    "        indexTemp = np.argmin(DeltaRTemp)\n",
    "\n",
    "        NestedArrayDeltaR.append(minDeltaR)\n",
    "        NestedArrayIndex.append(indexTemp)\n",
    "\n",
    "      DeltaDist[i].extend(NestedArrayDeltaR)\n",
    "      IndexMin[i].extend(NestedArrayIndex)\n",
    "\n",
    "\n",
    "  #Usa il secondo metodo del CernSummerSchool\n",
    "  else:\n",
    "    for i in range(ONE_ORBIT_IN_BX):\n",
    "\n",
    "      NestedArrayDeltaR = []\n",
    "      NestedArrayIndex = []\n",
    "\n",
    "      for j in range(len(BX_GMT[i])):\n",
    "        DeltaRTemp = DeltaR(BmtfPhi[BX_BMTF[i][:]], GmtPhi[BX_GMT[i][j]], BmtfEta[BX_BMTF[i][:]], GmtEta[BX_GMT[i][j]])     #DeltaR > 0.4 == 0.03%\n",
    "\n",
    "        minDeltaR = np.min(DeltaRTemp)\n",
    "        indexTemp = np.argmin(DeltaRTemp)\n",
    "\n",
    "        NestedArrayDeltaR.append(minDeltaR)\n",
    "        NestedArrayIndex.append(indexTemp)\n",
    "\n",
    "      DeltaDist[i].extend(NestedArrayDeltaR)\n",
    "      IndexMin[i].extend(NestedArrayIndex)\n",
    "\n",
    "    \n",
    "\n",
    "  return ak.Array(DeltaDist), ak.Array(IndexMin)\n",
    "\n",
    "def Distribution(DeltaR, Index, BX_BMTF, BX_GMT, BmtfPhi, GmtPhi, BmtfEta, GmtEta, use_Bmtf = True):\n",
    "  \n",
    "  DistPhi = []\n",
    "  DistEta = []\n",
    "\n",
    "  if use_Bmtf:\n",
    "    for i in range(ONE_ORBIT_IN_BX):\n",
    "      for j in range(len(BX_BMTF[i])):\n",
    "        #if (DeltaR[i, j] < treshold):\n",
    "\n",
    "        DeltaPhi = Delta(BmtfPhi[BX_BMTF[i, j]], GmtPhi[BX_GMT[i, Index[i, j]]])\n",
    "        DeltaEta = Delta(BmtfEta[BX_BMTF[i, j]], GmtEta[BX_GMT[i, Index[i, j]]])\n",
    "\n",
    "\n",
    "        DistPhi.append(DeltaPhi)\n",
    "        DistEta.append(DeltaEta)\n",
    "\n",
    "  else:\n",
    "    for i in range(ONE_ORBIT_IN_BX):\n",
    "      for j in range(len(BX_GMT[i])):\n",
    "        #if (DeltaR[i, j] < treshold):\n",
    "\n",
    "        DeltaPhi = Delta(BmtfPhi[BX_BMTF[i, Index[i, j]]], GmtPhi[BX_GMT[i, j]])\n",
    "        DeltaEta = Delta(BmtfEta[BX_BMTF[i, Index[i, j]]], GmtEta[BX_GMT[i, j]])\n",
    "\n",
    "\n",
    "        DistPhi.append(DeltaPhi)\n",
    "        DistEta.append(DeltaEta)\n",
    "  \n",
    "  return np.array(DistPhi), np.array(DistEta)"
   ]
  },
  {
   "cell_type": "code",
   "execution_count": 27,
   "metadata": {},
   "outputs": [],
   "source": [
    "RDistSecond, IndexSecond = DeltaRDistribution(BX_BMTF_LS133, BX_GMT_LS133, BmtfPhi_LS133, GmtPhi_LS133, BmtfEta_LS133, GmtEta_LS133, True)"
   ]
  },
  {
   "cell_type": "code",
   "execution_count": null,
   "metadata": {},
   "outputs": [],
   "source": []
  },
  {
   "cell_type": "code",
   "execution_count": 55,
   "metadata": {},
   "outputs": [
    {
     "name": "stdout",
     "output_type": "stream",
     "text": [
      "0.0 1.0\n"
     ]
    }
   ],
   "source": [
    "'''for a in range(100):\n",
    "  print(BX_BMTF_LS133[a], \" \", BX_GMT_LS133[a])'''\n",
    "\n",
    "print(bx_bmtf_counts_LS133[20], bx_gmt_counts_LS133[20])"
   ]
  },
  {
   "cell_type": "code",
   "execution_count": null,
   "metadata": {},
   "outputs": [],
   "source": [
    "'''ak.to_parquet(RDist, 'RDist_LS133.parquet')\n",
    "ak.to_parquet(Index, 'Index_LS133.parquet')'''"
   ]
  },
  {
   "cell_type": "code",
   "execution_count": null,
   "metadata": {},
   "outputs": [],
   "source": [
    "DistPhiSecond, DistEtaSecond = Distribution(RDistSecond, IndexSecond, BX_BMTF_LS133, BX_GMT_LS133, BmtfPhi_LS133, GmtPhi_LS133, BmtfEta_LS133, GmtEta_LS133, False)"
   ]
  },
  {
   "cell_type": "code",
   "execution_count": null,
   "metadata": {},
   "outputs": [],
   "source": [
    "'''ak.to_parquet(DistPhi, 'DistPhi_LS133.parquet')\n",
    "ak.to_parquet(DistEta, 'DistEta_LS133.parquet')'''"
   ]
  },
  {
   "cell_type": "code",
   "execution_count": null,
   "metadata": {},
   "outputs": [],
   "source": [
    "a = 1\n",
    "DeltaPhiRange = np.arange(-a, a, 0.05)\n",
    "DeltaEtaRange = np.arange(-a, a, 0.05)\n",
    "\n",
    "hist2d = hist.Hist(\n",
    "    hist.axis.Variable(DeltaPhiRange, name='Phi'),\n",
    "    hist.axis.Variable(DeltaEtaRange, name='Eta')\n",
    "\n",
    ")\n",
    "hist2d.fill(Phi=DistPhi_LS133, Eta=DistEta_LS133)\n",
    "\n",
    "from matplotlib.colors import LogNorm\n",
    "\n",
    "fig, ax = plt.subplots(figsize=(12, 8), constrained_layout=True)\n",
    "set_label_font(ax, FONTSIZE)\n",
    "set_tick_font(ax, FONTSIZE-2)\n",
    "draw_grid(ax, axis=\"y\")\n",
    "draw_cms_label(ax, fontsize=FONTSIZE, label=\"Work in Progress\", rlabel=\"L1 Trigger Scouting 2024 (13.6 TeV)\")\n",
    "\n",
    "hep.hist2dplot(ConvertToKHz(hist2d), cbar=True, cmap='Blues', ax=ax,  norm = LogNorm())\n",
    "\n",
    "cbar = ax.collections[0].colorbar\n",
    "cbar.set_label('Rate [KHz]', fontsize=FONTSIZE)\n",
    "\n",
    "ax.set_xlabel(r'$\\Delta \\phi$ [rad]')\n",
    "ax.set_ylabel(r'$\\Delta \\eta$')\n",
    "\n",
    "ax.tick_params(axis='both', which='both', length=0, labelsize = FONTSIZE - 5)\n",
    "\n",
    "\n",
    "'''plt.savefig(\"../Immagini/BMTFPhiEta.pdf\")\n",
    "plt.savefig(\"../Immagini/ImmaginiPNG/BMTFPhiEta.png\")'''\n",
    "\n",
    "plt.show()"
   ]
  },
  {
   "cell_type": "code",
   "execution_count": null,
   "metadata": {},
   "outputs": [],
   "source": []
  },
  {
   "cell_type": "code",
   "execution_count": null,
   "metadata": {},
   "outputs": [],
   "source": []
  },
  {
   "cell_type": "code",
   "execution_count": null,
   "metadata": {},
   "outputs": [],
   "source": []
  },
  {
   "cell_type": "code",
   "execution_count": null,
   "metadata": {},
   "outputs": [],
   "source": []
  },
  {
   "cell_type": "code",
   "execution_count": null,
   "metadata": {},
   "outputs": [],
   "source": [
    "print(\"Check for the first 200 BX: \", np.sum(bx_bmtf_counts_LS133[:200]),\" \", len(DistEta))\n",
    "\n",
    "NA = [x for x in ak.flatten(RDist) if x > 0.4]\n",
    "print(\"Non Acceptable value for the first 200 BX: \", len(NA))"
   ]
  },
  {
   "cell_type": "code",
   "execution_count": null,
   "metadata": {},
   "outputs": [],
   "source": [
    "'''ak.to_parquet(RDist, 'RDistTest.parquet')\n",
    "ak.to_parquet(INDEX, 'INDEXTest.parquet')'''"
   ]
  },
  {
   "cell_type": "code",
   "execution_count": 21,
   "metadata": {},
   "outputs": [],
   "source": [
    "#DeltaRAccettable = [x for x in RDist if x < 0.4]"
   ]
  },
  {
   "cell_type": "code",
   "execution_count": 22,
   "metadata": {},
   "outputs": [],
   "source": [
    "#print(len(DeltaRAccettable))"
   ]
  },
  {
   "cell_type": "markdown",
   "metadata": {},
   "source": [
    "## Phi ed Eta GMT"
   ]
  },
  {
   "cell_type": "code",
   "execution_count": 23,
   "metadata": {},
   "outputs": [],
   "source": [
    "#-----------------------------------------------GMT-----------------------------------------------\n",
    "GmtQualLS133 = ak.flatten(gmt_awk_LS133.gmtQual)\n",
    "GmtQualLS263 = ak.flatten(gmt_awk_LS263.gmtQual)\n",
    "GmtQualLS264 = ak.flatten(gmt_awk_LS264.gmtQual)\n",
    "GmtQualLS306 = ak.flatten(gmt_awk_LS306.gmtQual)\n",
    "\n",
    "GmtEtaLS133 = ak.flatten(gmt_awk_LS133.gmtEta)\n",
    "GmtEtaLS263 = ak.flatten(gmt_awk_LS263.gmtEta)\n",
    "GmtEtaLS264 = ak.flatten(gmt_awk_LS264.gmtEta)\n",
    "GmtEtaLS306 = ak.flatten(gmt_awk_LS306.gmtEta)\n",
    "\n",
    "GmtPhiLS133 = ak.flatten(gmt_awk_LS133.gmtPhi)\n",
    "GmtPhiLS263 = ak.flatten(gmt_awk_LS263.gmtPhi)\n",
    "GmtPhiLS264 = ak.flatten(gmt_awk_LS264.gmtPhi)\n",
    "GmtPhiLS306 = ak.flatten(gmt_awk_LS306.gmtPhi)\n",
    "\n",
    "GmtQual = ak.concatenate([GmtQualLS133, GmtQualLS263, GmtQualLS264, GmtQualLS306])\n",
    "GmtPhi = ak.concatenate([GmtPhiLS133, GmtPhiLS263, GmtPhiLS264, GmtPhiLS306])\n",
    "GmtEta = np.array(ak.concatenate([GmtEtaLS133, GmtEtaLS263, GmtEtaLS264, GmtEtaLS306]))\n",
    "\n",
    "#-----------------------------------------------BMTF-----------------------------------------------\n",
    "\n",
    "BmtfHwQualLS133 = ak.flatten(bmtf_awk_LS133.bmtfHwQual)\n",
    "BmtfHwQualLS263 = ak.flatten(bmtf_awk_LS263.bmtfHwQual)\n",
    "BmtfHwQualLS264 = ak.flatten(bmtf_awk_LS264.bmtfHwQual)\n",
    "BmtfHwQualLS306 = ak.flatten(bmtf_awk_LS306.bmtfHwQual)\n",
    "\n",
    "BmtfEtaLS133 = ak.flatten(bmtf_awk_LS133.bmtfEta)\n",
    "BmtfEtaLS263 = ak.flatten(bmtf_awk_LS263.bmtfEta)\n",
    "BmtfEtaLS264 = ak.flatten(bmtf_awk_LS264.bmtfEta)\n",
    "BmtfEtaLS306 = ak.flatten(bmtf_awk_LS306.bmtfEta)\n",
    "\n",
    "BmtfPhiLS133 = ak.flatten(bmtf_awk_LS133.bmtfPhi)\n",
    "BmtfPhiLS263 = ak.flatten(bmtf_awk_LS263.bmtfPhi)\n",
    "BmtfPhiLS264 = ak.flatten(bmtf_awk_LS264.bmtfPhi)\n",
    "BmtfPhiLS306 = ak.flatten(bmtf_awk_LS306.bmtfPhi)\n",
    "\n",
    "BmtfPhi = ak.concatenate([BmtfPhiLS133, BmtfPhiLS263, BmtfPhiLS264, BmtfPhiLS306])\n",
    "BmtfEta = ak.concatenate([BmtfEtaLS133, BmtfEtaLS263, BmtfEtaLS264, BmtfEtaLS306])\n",
    "BmtfWeights = np.array(ak.concatenate([BmtfHwQualLS133, BmtfHwQualLS263, BmtfHwQualLS264, BmtfHwQualLS306]))"
   ]
  },
  {
   "cell_type": "code",
   "execution_count": null,
   "metadata": {},
   "outputs": [],
   "source": [
    "#Plot Eta \n",
    "fig, ax = plt.subplots(figsize=(12, 8), constrained_layout=True)\n",
    "\n",
    "set_label_font(ax, FONTSIZE)\n",
    "set_tick_font(ax, FONTSIZE - 2)\n",
    "draw_cms_label(ax, fontsize= FONTSIZE, label=\"Work in Progress\", rlabel=\"L1 Trigger Scouting 2024 (13.6 TeV)\")\n",
    "\n",
    "ax.hist(GmtEta, bins = 100, alpha = 0.85, label=r'GMT $\\eta$')\n",
    "#ax.hist(BmtfEta, bins = 100, alpha = 0.85, label='BMTF $\\eta$')\n",
    "\n",
    "ax.set_xlabel(r'$\\eta$')\n",
    "ax.set_ylabel('Counts')\n",
    "ax.legend()\n",
    "\n",
    "ax.grid(visible=True, axis='y')\n",
    "ax.set_yscale('log')\n",
    "\n",
    "plt.show()"
   ]
  },
  {
   "cell_type": "code",
   "execution_count": null,
   "metadata": {},
   "outputs": [],
   "source": [
    "#Grafico bidimensionale per i GMT\n",
    "\n",
    "BinPhi = 15\n",
    "BinEta = 15\n",
    "\n",
    "\n",
    "PhiRange, PhiIndicies = Bins(ak.min(BmtfPhi), ak.max(BmtfPhi), BinPhi, BmtfPhi)\n",
    "EtaRange, EtaIndicies = Bins(ak.min(BmtfEta), ak.max(BmtfEta), BinEta, BmtfEta)\n",
    "\n",
    "hist2d = hist.Hist(\n",
    "    hist.axis.Variable(np.round(EtaRange, 2), name='Eta', label='Eta number'),\n",
    "    hist.axis.Variable(np.round(PhiRange, 2), name='Phi', label='Phi number'),\n",
    ")\n",
    "hist2d.fill(Phi=GmtPhi, Eta=GmtEta)\n",
    "\n",
    "fig, ax = plt.subplots(figsize=(12, 8), constrained_layout=True)\n",
    "set_label_font(ax, FONTSIZE)\n",
    "set_tick_font(ax, FONTSIZE-2)\n",
    "draw_grid(ax, axis=\"y\")\n",
    "draw_cms_label(ax, fontsize=FONTSIZE, label=\"Work in Progress\", rlabel=\"L1 Trigger Scouting 2024 (13.6 TeV)\")\n",
    "\n",
    "hep.hist2dplot(hist2d, cbar=True, cmap='Blues', ax=ax)\n",
    "\n",
    "cbar = ax.collections[0].colorbar\n",
    "cbar.set_label('GMT counts', fontsize=FONTSIZE)\n",
    "\n",
    "ax.set_xlabel(r'$\\eta$ [rad]')\n",
    "ax.set_ylabel(r'$\\phi$')\n",
    "\n",
    "ax.tick_params(axis='both', which='both', length=0, labelsize = FONTSIZE - 5)"
   ]
  },
  {
   "cell_type": "code",
   "execution_count": null,
   "metadata": {},
   "outputs": [],
   "source": []
  },
  {
   "cell_type": "code",
   "execution_count": null,
   "metadata": {},
   "outputs": [],
   "source": []
  },
  {
   "cell_type": "code",
   "execution_count": null,
   "metadata": {},
   "outputs": [],
   "source": []
  }
 ],
 "metadata": {
  "kernelspec": {
   "display_name": "base",
   "language": "python",
   "name": "python3"
  },
  "language_info": {
   "codemirror_mode": {
    "name": "ipython",
    "version": 3
   },
   "file_extension": ".py",
   "mimetype": "text/x-python",
   "name": "python",
   "nbconvert_exporter": "python",
   "pygments_lexer": "ipython3",
   "version": "3.12.2"
  }
 },
 "nbformat": 4,
 "nbformat_minor": 2
}
