{
 "cells": [
  {
   "cell_type": "code",
   "execution_count": 1,
   "metadata": {},
   "outputs": [],
   "source": [
    "import numpy as np\n",
    "import matplotlib.pyplot as plt\n",
    "from mpl_toolkits.axes_grid1 import make_axes_locatable\n",
    "import awkward as ak\n",
    "import uproot \n",
    "import mplhep as hep\n",
    "import hist\n",
    "import os\n",
    "import time\n",
    "from numba import njit\n",
    "from scipy.optimize import curve_fit\n",
    "\n",
    "from UtilityAndConst import *\n",
    "from Functions import *\n",
    "\n",
    "dir = \"/Users/francescolarovere/Documents/Tesi-Triennale/Dati\"\n",
    "os.chdir(dir)\n",
    "\n",
    "hep.style.use(\"CMS\")\n",
    "np.set_printoptions(threshold=np.inf)"
   ]
  },
  {
   "cell_type": "code",
   "execution_count": 2,
   "metadata": {},
   "outputs": [],
   "source": [
    "LS133 = \"./ntupleStubsBmtfGmt_LS133.root\"\n",
    "LS263 = \"./ntupleStubsBmtfGmt_LS263.root\"\n",
    "LS264 = \"./ntupleStubsBmtfGmt_LS264.root\"\n",
    "LS306 = \"./ntupleStubsBmtfGmt_LS306.root\"\n",
    "\n",
    "#Open file\n",
    "stubs_awk_LS133 = OpenRootFile(LS133, stub_features)\n",
    "stubs_awk_LS263 = OpenRootFile(LS263, stub_features)\n",
    "stubs_awk_LS264 = OpenRootFile(LS264, stub_features)\n",
    "stubs_awk_LS306 = OpenRootFile(LS306, stub_features)\n",
    "\n",
    "gmt_awk_LS133 = OpenRootFile(LS133, gmt_features)\n",
    "gmt_awk_LS263 = OpenRootFile(LS263, gmt_features)\n",
    "gmt_awk_LS264 = OpenRootFile(LS264, gmt_features)\n",
    "gmt_awk_LS306 = OpenRootFile(LS306, gmt_features)\n",
    "\n",
    "bmtf_awk_LS133 = OpenRootFile(LS133, bmtf_features)\n",
    "bmtf_awk_LS263 = OpenRootFile(LS263, bmtf_features)\n",
    "bmtf_awk_LS264 = OpenRootFile(LS264, bmtf_features)\n",
    "bmtf_awk_LS306 = OpenRootFile(LS306, bmtf_features)"
   ]
  },
  {
   "cell_type": "markdown",
   "metadata": {},
   "source": [
    "# Molteplicità di Stub per GMT"
   ]
  },
  {
   "cell_type": "code",
   "execution_count": 3,
   "metadata": {},
   "outputs": [],
   "source": [
    "#Caricamenot BX delle stubs\n",
    "BX_LS133 = stubs_awk_LS133.bx\n",
    "BX_LS263 = stubs_awk_LS263.bx\n",
    "BX_LS264 = stubs_awk_LS264.bx\n",
    "BX_LS306 = stubs_awk_LS306.bx\n",
    "\n",
    "#Caricamento muoni di GMT\n",
    "nGmtMuons_LS133 = gmt_awk_LS133.nGmtMuons\n",
    "nGmtMuons_LS263 = gmt_awk_LS263.nGmtMuons\n",
    "nGmtMuons_LS264 = gmt_awk_LS264.nGmtMuons\n",
    "nGmtMuons_LS306 = gmt_awk_LS306.nGmtMuons\n",
    "\n",
    "nBmtfMuons_LS133 = bmtf_awk_LS133.nBmtfMuons\n",
    "nBmtfMuons_LS263 = bmtf_awk_LS263.nBmtfMuons\n",
    "nBmtfMuons_LS264 = bmtf_awk_LS264.nBmtfMuons\n",
    "nBmtfMuons_LS306 = bmtf_awk_LS306.nBmtfMuons"
   ]
  },
  {
   "cell_type": "code",
   "execution_count": 4,
   "metadata": {},
   "outputs": [],
   "source": [
    "def zero_one_array(input_array):\n",
    "    return np.where(input_array == 0, 0, 1)"
   ]
  },
  {
   "cell_type": "code",
   "execution_count": 5,
   "metadata": {},
   "outputs": [],
   "source": [
    "#GMT\n",
    "bx_range = np.arange(ONE_ORBIT_IN_BX + 2)\n",
    "\n",
    "bx_gmt_counts_LS133 = np.bincount(BX_LS133, weights=nGmtMuons_LS133)\n",
    "bx_gmt_counts_LS263 = np.bincount(BX_LS263, weights=nGmtMuons_LS263)\n",
    "bx_gmt_counts_LS264 = np.bincount(BX_LS264, weights=nGmtMuons_LS264)\n",
    "bx_gmt_counts_LS306 = np.bincount(BX_LS306, weights=nGmtMuons_LS306)\n",
    "\n",
    "bx_gmt_counts = (bx_gmt_counts_LS133 + bx_gmt_counts_LS263 + bx_gmt_counts_LS264 + bx_gmt_counts_LS306)/4\n",
    "\n",
    "\n",
    "#BMTF\n",
    "bx_bmtf_counts_LS133 = np.bincount(BX_LS133, weights=nBmtfMuons_LS133)\n",
    "bx_bmtf_counts_LS263 = np.bincount(BX_LS263, weights=nBmtfMuons_LS263)\n",
    "bx_bmtf_counts_LS264 = np.bincount(BX_LS264, weights=nBmtfMuons_LS264)\n",
    "bx_bmtf_counts_LS306 = np.bincount(BX_LS306, weights=nBmtfMuons_LS306)\n",
    "\n",
    "bx_bmtf_counts = (bx_bmtf_counts_LS133 + bx_bmtf_counts_LS263 + bx_bmtf_counts_LS264 + bx_bmtf_counts_LS306)/4\n",
    "\n"
   ]
  },
  {
   "cell_type": "code",
   "execution_count": null,
   "metadata": {},
   "outputs": [],
   "source": [
    "#Plot con i quattro file uniti\n",
    "fig, ax = plt.subplots(figsize=FIGSIZE, constrained_layout=True)\n",
    "\n",
    "set_label_font(ax, FONTSIZE)\n",
    "set_tick_font(ax, FONTSIZE - 2)\n",
    "draw_cms_label(ax, fontsize= FONTSIZE, label=\"Work in Progress\", rlabel=\"L1 Trigger Scouting 2024 (13.6 TeV)\")\n",
    "\n",
    "ax.hist(bx_range[:-1], bins=bx_range, weights=ConvertToHz(bx_gmt_counts), histtype='step')\n",
    "#ax.hist(bx_range[:-1], bins=bx_range, weights=ConvertToHz(bx_bmtf_counts), histtype='step')\n",
    "\n",
    "ax.set_xlabel('BX number')\n",
    "ax.set_ylabel('GMT Muons [Hz]')\n",
    "ax.set_xlim(0, ONE_ORBIT_IN_BX)\n",
    "ax.set_yscale('log')\n",
    "\n",
    "plt.savefig(\"../Immagini/GMT.pdf\")\n",
    "plt.savefig(\"../Immagini/ImmaginiPNG/GMT.png\")"
   ]
  },
  {
   "cell_type": "code",
   "execution_count": null,
   "metadata": {},
   "outputs": [],
   "source": [
    "fig, ax = plt.subplots(figsize=FIGSIZE, constrained_layout=True)\n",
    "\n",
    "set_label_font(ax, FONTSIZE)\n",
    "set_tick_font(ax, FONTSIZE - 2)\n",
    "draw_cms_label(ax, fontsize= FONTSIZE, label=\"Work in Progress\", rlabel=\"L1 Trigger Scouting 2024 (13.6 TeV)\")\n",
    "\n",
    "bx_left = 1840\n",
    "bx_right = 2260\n",
    "\n",
    "ax.hist(bx_range[bx_left:bx_right], bins=bx_range[bx_left:bx_right+1], weights=ConvertToHz(bx_gmt_counts[bx_left:bx_right]), histtype='step')\n",
    "#ax.hist(bx_range[bx_left:bx_right], bins=bx_range[bx_left:bx_right+1], weights=ConvertToHz(bx_bmtf_counts[bx_left:bx_right]), histtype='step')\n",
    "\n",
    "ax.set_xlabel('BX number')\n",
    "ax.set_ylabel('GMT Muons [Hz]')\n",
    "ax.set_xlim(bx_left, bx_right)\n",
    "ax.set_yscale('log')\n",
    "\n"
   ]
  },
  {
   "cell_type": "code",
   "execution_count": 8,
   "metadata": {},
   "outputs": [],
   "source": [
    "nGmtLS133_count = ConvertToHz(np.bincount(nGmtMuons_LS133))\n",
    "nGmtLS263_count = ConvertToHz(np.bincount(nGmtMuons_LS263))\n",
    "nGmtLS264_count = ConvertToHz(np.bincount(nGmtMuons_LS264))\n",
    "nGmtLS306_count = ConvertToHz(np.bincount(nGmtMuons_LS306))\n",
    "\n",
    "nGmt_Array = ak.Array([nGmtLS133_count, nGmtLS263_count, nGmtLS264_count, nGmtLS306_count])\n",
    "\n",
    "MaxStubs = max(len(nGmt_Array[0]), len(nGmt_Array[1]), len(nGmt_Array[2]), len(nGmt_Array[3]))\n",
    "\n",
    "#Filled Array per eseguire una somma vettoriale dei 4 array\n",
    "FnGmtLS133 = ak.fill_none(ak.pad_none(nGmt_Array[0], MaxStubs, axis = 0, clip=True), 0)\n",
    "FnGmtLS263 = ak.fill_none(ak.pad_none(nGmt_Array[1], MaxStubs, axis = 0, clip=True), 0)\n",
    "FnGmtLS264 = ak.fill_none(ak.pad_none(nGmt_Array[2], MaxStubs, axis = 0, clip=True), 0)\n",
    "FnGmtLS306 = ak.fill_none(ak.pad_none(nGmt_Array[3], MaxStubs, axis = 0, clip=True), 0)\n",
    "\n",
    "nGmt = FnGmtLS133 + FnGmtLS263 + FnGmtLS264 + FnGmtLS306\n"
   ]
  },
  {
   "cell_type": "code",
   "execution_count": null,
   "metadata": {},
   "outputs": [],
   "source": [
    "fig, ax = plt.subplots(figsize=(12, 8), constrained_layout=True)\n",
    "\n",
    "set_label_font(ax, FONTSIZE)\n",
    "set_tick_font(ax, FONTSIZE - 2)\n",
    "draw_cms_label(ax, fontsize= FONTSIZE, label=\"Work in Progress\", rlabel=\"L1 Trigger Scouting 2024 (13.6 TeV)\")\n",
    "\n",
    "ax.bar(np.arange(len(nGmt[:])), nGmt[:])\n",
    "\n",
    "#ax.set_xticks(ticks=np.arange(9), labels=np.arange(1, 10, 1))\n",
    "ax.tick_params(axis='x', which='minor', length=0)\n",
    "ax.set_xlabel('BX number')\n",
    "ax.set_ylabel('Stub rate [Hz]')\n",
    "ax.set_xlim(-0.8, 6)\n",
    "ax.grid(visible=True, axis='y')\n",
    "ax.set_yscale('log')"
   ]
  },
  {
   "cell_type": "markdown",
   "metadata": {},
   "source": [
    "# $\\Delta R$\n",
    "\n"
   ]
  },
  {
   "cell_type": "code",
   "execution_count": 79,
   "metadata": {
    "notebookRunGroups": {
     "groupValue": "1"
    }
   },
   "outputs": [],
   "source": [
    "#Deprecated\n",
    "'''def BX_indexTEST(BX, nMuons):\n",
    "  BX_list = [[] for _ in range(ONE_ORBIT_IN_BX)]\n",
    "\n",
    "  #Test\n",
    "  BX = BX[:50000]\n",
    "  nMuons = nMuons[:50000]\n",
    "\n",
    "  NonZero = np.where(nMuons != 0)[0]\n",
    "\n",
    "  for i in range(ONE_ORBIT_IN_BX):\n",
    "    for j in range(len(NonZero)):\n",
    "      if(BX[NonZero[j]] == i):\n",
    "        BX_list[i].append(j) \n",
    "\n",
    "  return ak.Array(BX_list)\n",
    "\n",
    "\n",
    "\n",
    "\n",
    "def BX_index(BX, nMuons):\n",
    "  BX_list = [[] for _ in range(ONE_ORBIT_IN_BX)]\n",
    "\n",
    "  BX = BX[:50000]\n",
    "  nMuons = nMuons[:50000]\n",
    "\n",
    "  NonZero = np.where(nMuons != 0)[0]\n",
    "  \n",
    "  for i in range(ONE_ORBIT_IN_BX):\n",
    "    BX_list[i].extend(np.where(BX[NonZero] == i)[0])\n",
    "\n",
    "  return ak.Array(BX_list)'''"
   ]
  },
  {
   "cell_type": "code",
   "execution_count": 63,
   "metadata": {},
   "outputs": [],
   "source": [
    "'''BX_testLS133 = BX_indexTEST(np.array(BX_LS133), np.array(nBmtfMuons_LS133))\n",
    "\n",
    "BX_BmtfList_LS133 = BX_index(np.array(BX_LS133), np.array(nBmtfMuons_LS133))\n",
    "#BX_GmtList_LS133 = BX_index(np.array(BX_LS133), np.array(nGmtMuons_LS133))'''"
   ]
  },
  {
   "cell_type": "code",
   "execution_count": 135,
   "metadata": {},
   "outputs": [],
   "source": [
    "#Da ottimizzare\n",
    "\n",
    "def BX_Fanculo(BX, nMuons):\n",
    "  BX_list = [[] for _ in range(ONE_ORBIT_IN_BX)]\n",
    "\n",
    "  BX = BX[:5000]\n",
    "  nMuons = nMuons[:5000]\n",
    "\n",
    "#Parte da 1 e arriva a 3564\n",
    "  for i in range(1, ONE_ORBIT_IN_BX + 1):\n",
    "    for j in range(len(nMuons)):\n",
    "      if((BX[j] == i) and (nMuons[j] > 0)):\n",
    "        BX_list[i].extend([(j+k) for k in range(nMuons[j])])\n",
    "          \n",
    "  return BX_list"
   ]
  },
  {
   "cell_type": "code",
   "execution_count": 136,
   "metadata": {},
   "outputs": [],
   "source": [
    "BX_fuck = BX_Fanculo(BX_LS133, nBmtfMuons_LS133)"
   ]
  },
  {
   "cell_type": "code",
   "execution_count": 145,
   "metadata": {},
   "outputs": [
    {
     "name": "stdout",
     "output_type": "stream",
     "text": [
      "[1665, 1666]\n",
      "349 380\n"
     ]
    }
   ],
   "source": []
  },
  {
   "cell_type": "code",
   "execution_count": null,
   "metadata": {},
   "outputs": [],
   "source": [
    "test = []\n",
    "for i in range(10):\n",
    "  test.append(i)\n",
    "  test.extend([i for i in range(1, 5)]) #OK\n",
    "\n",
    "test"
   ]
  },
  {
   "cell_type": "code",
   "execution_count": 101,
   "metadata": {},
   "outputs": [],
   "source": [
    "test = []\n",
    "for i in range(10000):\n",
    "  if(BX_LS133[i] == 100):\n",
    "    test.append(i)\n",
    "\n",
    "NonZero = np.where(nBmtfMuons_LS133 != 0)[0]\n",
    "\n",
    "testNZ = []\n",
    "for i in range(10000):\n",
    "  if(BX_LS133[NonZero[i]] == 100):\n",
    "    testNZ.append(i)"
   ]
  },
  {
   "cell_type": "code",
   "execution_count": null,
   "metadata": {},
   "outputs": [],
   "source": [
    "print(\"NZ: \", len(NonZero), NonZero)\n",
    "print(\"test: \",BX_LS133[test])\n",
    "print(\"testNZ: \",BX_LS133[NonZero[test]])\n",
    "\n",
    "print(\"test: \",test)\n",
    "print(\"testNZ: \",testNZ)\n"
   ]
  },
  {
   "cell_type": "code",
   "execution_count": null,
   "metadata": {},
   "outputs": [],
   "source": []
  },
  {
   "cell_type": "code",
   "execution_count": null,
   "metadata": {},
   "outputs": [],
   "source": []
  },
  {
   "cell_type": "code",
   "execution_count": null,
   "metadata": {},
   "outputs": [],
   "source": []
  },
  {
   "cell_type": "code",
   "execution_count": null,
   "metadata": {},
   "outputs": [],
   "source": [
    "#Carico dati per GMT\n",
    "'''GmtPhi_LS133 = np.array(ak.flatten(gmt_awk_LS133.gmtPhi))\n",
    "GmtPhi_LS263 = np.array(ak.flatten(gmt_awk_LS263.gmtPhi))\n",
    "GmtPhi_LS264 = np.array(ak.flatten(gmt_awk_LS264.gmtPhi))\n",
    "GmtPhi_LS306 = np.array(ak.flatten(gmt_awk_LS306.gmtPhi))\n",
    "\n",
    "GmtEta_LS133 = np.array(ak.flatten(gmt_awk_LS133.gmtEta))\n",
    "GmtEta_LS263 = np.array(ak.flatten(gmt_awk_LS263.gmtEta))\n",
    "GmtEta_LS264 = np.array(ak.flatten(gmt_awk_LS264.gmtEta))\n",
    "GmtEta_LS306 = np.array(ak.flatten(gmt_awk_LS306.gmtEta))\n",
    "\n",
    "#Carico dati per BMTF\n",
    "\n",
    "BmtfEta_LS133 = np.array(ak.flatten(bmtf_awk_LS133.bmtfEta))\n",
    "BmtfEta_LS263 = np.array(ak.flatten(bmtf_awk_LS263.bmtfEta))\n",
    "BmtfEta_LS264 = np.array(ak.flatten(bmtf_awk_LS264.bmtfEta))\n",
    "BmtfEta_LS306 = np.array(ak.flatten(bmtf_awk_LS306.bmtfEta))\n",
    "\n",
    "BmtfPhi_LS133 = np.array(ak.flatten(bmtf_awk_LS133.bmtfPhi))\n",
    "BmtfPhi_LS263 = np.array(ak.flatten(bmtf_awk_LS263.bmtfPhi))\n",
    "BmtfPhi_LS264 = np.array(ak.flatten(bmtf_awk_LS264.bmtfPhi))\n",
    "BmtfPhi_LS306 = np.array(ak.flatten(bmtf_awk_LS306.bmtfPhi))'''\n",
    "\n",
    "\n",
    "print(len(BmtfPhi_LS133))"
   ]
  },
  {
   "cell_type": "markdown",
   "metadata": {},
   "source": [
    "Provo ad usare il primo metodo di confronto di un candidato muone verso tutti gli altri muoni del GMT"
   ]
  },
  {
   "cell_type": "code",
   "execution_count": 10,
   "metadata": {},
   "outputs": [],
   "source": [
    "@njit(parallel = True)\n",
    "def DeltaRArray(BmtfPhi, GmtPhi, BmtfEta, GmtEta):\n",
    "\n",
    "  a = len(BmtfPhi)\n",
    "  DeltaR = np.zeros(a)\n",
    "  #DeltaPhi = np.zeros(a)\n",
    "  #DeltaEta = np.zeros(a)\n",
    "\n",
    "  for i in range(a):\n",
    "\n",
    "    DeltaRt = np.sqrt((BmtfPhi[i] - GmtPhi[:])**2 + (BmtfEta[i] - GmtEta[:])**2)\n",
    "    minDeltaR = np.min(DeltaRt)\n",
    "    #ArgMin = np.argmin(DeltaRt)\n",
    "\n",
    "    #DeltaPhi[i] = BmtfPhi[i] - GmtPhi[ArgMin]\n",
    "    #DeltaEta[i] = BmtfEta[i] - GmtEta[ArgMin]\n",
    "\n",
    "    DeltaR[i] = minDeltaR\n",
    "\n",
    "  return DeltaR, #DeltaPhi, DeltaEta\n"
   ]
  },
  {
   "cell_type": "code",
   "execution_count": null,
   "metadata": {},
   "outputs": [],
   "source": [
    "'''\n",
    "DeltaR_LS133, DeltaPhi_LS133, DeltaEta_LS133 = DeltaRArray(BmtfPhi_LS133, GmtPhi_LS133, BmtfEta_LS133, GmtEta_LS133)\n",
    "DeltaR_LS263 = DeltaRArray(BmtfPhi_LS263, GmtPhi_LS263, BmtfEta_LS263, GmtEta_LS263))\n",
    "DeltaR_LS264 = DeltaRArray(BmtfPhi_LS264, GmtPhi_LS264, BmtfEta_LS264, GmtEta_LS264)\n",
    "DeltaR_LS306 = DeltaRArray(BmtfPhi_LS306, GmtPhi_LS306, BmtfEta_LS306, GmtEta_LS306)'''"
   ]
  },
  {
   "cell_type": "code",
   "execution_count": 12,
   "metadata": {},
   "outputs": [],
   "source": [
    "test = np.array(DeltaR_LS133)"
   ]
  },
  {
   "cell_type": "code",
   "execution_count": null,
   "metadata": {},
   "outputs": [],
   "source": [
    "'''BinPhiR = 50\n",
    "BinEtaR = 50\n",
    "\n",
    "a = 0.05\n",
    "PhiRange, PhiIndicies = Bins(-a, a, BinPhiR, 1)\n",
    "EtaRange, EtaIndicies = Bins(-a, a, BinEtaR, 1)\n",
    "\n",
    "hist2d = hist.Hist(\n",
    "    hist.axis.Variable(EtaRange, name='Eta', label='Eta number'),\n",
    "    hist.axis.Variable(PhiRange, name='Phi', label='Phi number'),\n",
    ")\n",
    "hist2d.fill(Phi=DeltaPhi_LS133, Eta=DeltaEta_LS133)\n",
    "\n",
    "fig, ax = plt.subplots(figsize=(12, 8), constrained_layout=True)\n",
    "set_label_font(ax, FONTSIZE)\n",
    "set_tick_font(ax, FONTSIZE-2)\n",
    "draw_grid(ax, axis=\"y\")\n",
    "draw_cms_label(ax, fontsize=FONTSIZE, label=\"Work in Progress\", rlabel=\"L1 Trigger Scouting 2024 (13.6 TeV)\")\n",
    "\n",
    "hep.hist2dplot(hist2d, cbar=True, cmap='Blues', ax=ax)\n",
    "\n",
    "cbar = ax.collections[0].colorbar\n",
    "cbar.set_label('GMT counts', fontsize=FONTSIZE)'''"
   ]
  },
  {
   "cell_type": "code",
   "execution_count": null,
   "metadata": {},
   "outputs": [],
   "source": [
    "#Vediamo come scala la complessità (usando solo numba)\n",
    "\n",
    "def Lin(x, a, b):\n",
    "  return a + b*x\n",
    "\n",
    "n = [100, 1000, 5000, 10000, 20000, 50000, 60000, 100000, 200000, len(BmtfPhi_LS133)]\n",
    "Time_Numba = [210e-3, 840e-3, 3.89, 7.7, 15.3, 37.1, 44, 75, 147, 416]\n",
    "Time_Parallel = [268e-3, 466e-3, 1.3, 2.2, 4.59, 11.2, 13.2, 21.7, 47.1, 120]\n",
    "\n",
    "\n",
    "Popt_Numba, Pcov_Numba = curve_fit(Lin, n, Time_Numba)\n",
    "Popt_Parallel, Pcov_Parallel = curve_fit(Lin, n, Time_Parallel)\n",
    "print(\"Numba standard\", Popt_Numba)\n",
    "print(\"Parallelizzato\", Popt_Parallel)\n",
    "\n",
    "plt.figure(figsize=(10, 5))\n",
    "plt.plot(n, Time_Numba, '--o')\n",
    "plt.plot(n, Time_Parallel, '--o')\n",
    "plt.xlabel(\"Numero di eventi\")\n",
    "plt.ylabel(\"Tempo (s)\")\n",
    "#plt.xscale('log')\n"
   ]
  },
  {
   "cell_type": "markdown",
   "metadata": {},
   "source": [
    "Provo ad usare il secondo metodo nel CERNSummerSchoolReport"
   ]
  },
  {
   "cell_type": "code",
   "execution_count": null,
   "metadata": {},
   "outputs": [],
   "source": [
    "indexGMT = []\n",
    "\n",
    "for i in range(100):\n",
    "  if (nGmtMuons_LS263[i] > 0):\n",
    "    indexGMT.append(i)\n",
    "\n",
    "\n",
    "print(len(indexGMT))\n",
    "print(indexGMT)\n",
    "\n",
    "\n",
    "\n",
    "#for i in range(len(indexGMT)):\n",
    "i = 12\n",
    "print(BmtfEta_LS263[i], \"\\t\", GmtEta_LS263[i])\n"
   ]
  },
  {
   "cell_type": "markdown",
   "metadata": {},
   "source": [
    "## Phi ed Eta GMT"
   ]
  },
  {
   "cell_type": "code",
   "execution_count": 16,
   "metadata": {},
   "outputs": [],
   "source": [
    "#-----------------------------------------------GMT-----------------------------------------------\n",
    "GmtQualLS133 = ak.flatten(gmt_awk_LS133.gmtQual)\n",
    "GmtQualLS263 = ak.flatten(gmt_awk_LS263.gmtQual)\n",
    "GmtQualLS264 = ak.flatten(gmt_awk_LS264.gmtQual)\n",
    "GmtQualLS306 = ak.flatten(gmt_awk_LS306.gmtQual)\n",
    "\n",
    "GmtEtaLS133 = ak.flatten(gmt_awk_LS133.gmtEta)\n",
    "GmtEtaLS263 = ak.flatten(gmt_awk_LS263.gmtEta)\n",
    "GmtEtaLS264 = ak.flatten(gmt_awk_LS264.gmtEta)\n",
    "GmtEtaLS306 = ak.flatten(gmt_awk_LS306.gmtEta)\n",
    "\n",
    "GmtPhiLS133 = ak.flatten(gmt_awk_LS133.gmtPhi)\n",
    "GmtPhiLS263 = ak.flatten(gmt_awk_LS263.gmtPhi)\n",
    "GmtPhiLS264 = ak.flatten(gmt_awk_LS264.gmtPhi)\n",
    "GmtPhiLS306 = ak.flatten(gmt_awk_LS306.gmtPhi)\n",
    "\n",
    "GmtQual = ak.concatenate([GmtQualLS133, GmtQualLS263, GmtQualLS264, GmtQualLS306])\n",
    "GmtPhi = ak.concatenate([GmtPhiLS133, GmtPhiLS263, GmtPhiLS264, GmtPhiLS306])\n",
    "GmtEta = np.array(ak.concatenate([GmtEtaLS133, GmtEtaLS263, GmtEtaLS264, GmtEtaLS306]))\n",
    "\n",
    "#-----------------------------------------------BMTF-----------------------------------------------\n",
    "\n",
    "BmtfHwQualLS133 = ak.flatten(bmtf_awk_LS133.bmtfHwQual)\n",
    "BmtfHwQualLS263 = ak.flatten(bmtf_awk_LS263.bmtfHwQual)\n",
    "BmtfHwQualLS264 = ak.flatten(bmtf_awk_LS264.bmtfHwQual)\n",
    "BmtfHwQualLS306 = ak.flatten(bmtf_awk_LS306.bmtfHwQual)\n",
    "\n",
    "BmtfEtaLS133 = ak.flatten(bmtf_awk_LS133.bmtfEta)\n",
    "BmtfEtaLS263 = ak.flatten(bmtf_awk_LS263.bmtfEta)\n",
    "BmtfEtaLS264 = ak.flatten(bmtf_awk_LS264.bmtfEta)\n",
    "BmtfEtaLS306 = ak.flatten(bmtf_awk_LS306.bmtfEta)\n",
    "\n",
    "BmtfPhiLS133 = ak.flatten(bmtf_awk_LS133.bmtfPhi)\n",
    "BmtfPhiLS263 = ak.flatten(bmtf_awk_LS263.bmtfPhi)\n",
    "BmtfPhiLS264 = ak.flatten(bmtf_awk_LS264.bmtfPhi)\n",
    "BmtfPhiLS306 = ak.flatten(bmtf_awk_LS306.bmtfPhi)\n",
    "\n",
    "BmtfPhi = ak.concatenate([BmtfPhiLS133, BmtfPhiLS263, BmtfPhiLS264, BmtfPhiLS306])\n",
    "BmtfEta = ak.concatenate([BmtfEtaLS133, BmtfEtaLS263, BmtfEtaLS264, BmtfEtaLS306])\n",
    "BmtfWeights = np.array(ak.concatenate([BmtfHwQualLS133, BmtfHwQualLS263, BmtfHwQualLS264, BmtfHwQualLS306]))"
   ]
  },
  {
   "cell_type": "code",
   "execution_count": null,
   "metadata": {},
   "outputs": [],
   "source": [
    "#Plot Eta \n",
    "fig, ax = plt.subplots(figsize=(12, 8), constrained_layout=True)\n",
    "\n",
    "set_label_font(ax, FONTSIZE)\n",
    "set_tick_font(ax, FONTSIZE - 2)\n",
    "draw_cms_label(ax, fontsize= FONTSIZE, label=\"Work in Progress\", rlabel=\"L1 Trigger Scouting 2024 (13.6 TeV)\")\n",
    "\n",
    "ax.hist(GmtEta, bins = 100, alpha = 0.85, label=r'GMT $\\eta$')\n",
    "#ax.hist(BmtfEta, bins = 100, alpha = 0.85, label='BMTF $\\eta$')\n",
    "\n",
    "ax.set_xlabel(r'$\\eta$')\n",
    "ax.set_ylabel('Counts')\n",
    "ax.legend()\n",
    "\n",
    "ax.grid(visible=True, axis='y')\n",
    "ax.set_yscale('log')\n",
    "\n",
    "plt.show()"
   ]
  },
  {
   "cell_type": "code",
   "execution_count": null,
   "metadata": {},
   "outputs": [],
   "source": [
    "#Grafico bidimensionale per i GMT\n",
    "\n",
    "BinPhi = 15\n",
    "BinEta = 15\n",
    "\n",
    "\n",
    "PhiRange, PhiIndicies = Bins(ak.min(BmtfPhi), ak.max(BmtfPhi), BinPhi, BmtfPhi)\n",
    "EtaRange, EtaIndicies = Bins(ak.min(BmtfEta), ak.max(BmtfEta), BinEta, BmtfEta)\n",
    "\n",
    "hist2d = hist.Hist(\n",
    "    hist.axis.Variable(np.round(EtaRange, 2), name='Eta', label='Eta number'),\n",
    "    hist.axis.Variable(np.round(PhiRange, 2), name='Phi', label='Phi number'),\n",
    ")\n",
    "hist2d.fill(Phi=GmtPhi, Eta=GmtEta)\n",
    "\n",
    "fig, ax = plt.subplots(figsize=(12, 8), constrained_layout=True)\n",
    "set_label_font(ax, FONTSIZE)\n",
    "set_tick_font(ax, FONTSIZE-2)\n",
    "draw_grid(ax, axis=\"y\")\n",
    "draw_cms_label(ax, fontsize=FONTSIZE, label=\"Work in Progress\", rlabel=\"L1 Trigger Scouting 2024 (13.6 TeV)\")\n",
    "\n",
    "hep.hist2dplot(hist2d, cbar=True, cmap='Blues', ax=ax)\n",
    "\n",
    "cbar = ax.collections[0].colorbar\n",
    "cbar.set_label('GMT counts', fontsize=FONTSIZE)\n",
    "\n",
    "ax.set_xlabel(r'$\\eta$ [rad]')\n",
    "ax.set_ylabel(r'$\\phi$')\n",
    "\n",
    "ax.tick_params(axis='both', which='both', length=0, labelsize = FONTSIZE - 5)"
   ]
  },
  {
   "cell_type": "code",
   "execution_count": null,
   "metadata": {},
   "outputs": [],
   "source": []
  },
  {
   "cell_type": "code",
   "execution_count": null,
   "metadata": {},
   "outputs": [],
   "source": []
  },
  {
   "cell_type": "code",
   "execution_count": null,
   "metadata": {},
   "outputs": [],
   "source": []
  }
 ],
 "metadata": {
  "kernelspec": {
   "display_name": "base",
   "language": "python",
   "name": "python3"
  },
  "language_info": {
   "codemirror_mode": {
    "name": "ipython",
    "version": 3
   },
   "file_extension": ".py",
   "mimetype": "text/x-python",
   "name": "python",
   "nbconvert_exporter": "python",
   "pygments_lexer": "ipython3",
   "version": "3.12.2"
  }
 },
 "nbformat": 4,
 "nbformat_minor": 2
}
