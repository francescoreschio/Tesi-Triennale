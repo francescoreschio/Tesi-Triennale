{
 "cells": [
  {
   "cell_type": "code",
   "execution_count": 1,
   "metadata": {},
   "outputs": [],
   "source": [
    "import numpy as np\n",
    "import matplotlib.pyplot as plt\n",
    "from mpl_toolkits.axes_grid1 import make_axes_locatable\n",
    "from matplotlib import ticker\n",
    "import awkward as ak\n",
    "import uproot \n",
    "import mplhep as hep\n",
    "import hist\n",
    "import os\n",
    "import time\n",
    "from numba import njit\n",
    "from matplotlib.colors import LogNorm\n",
    "import tqdm\n",
    "import pickle \n",
    "from numba import jit\n",
    "\n",
    "\n",
    "\n",
    "from UtilityAndConst import *\n",
    "from Functions import *\n",
    "\n",
    "dir = \"/Users/francescolarovere/Documents/Tesi-Triennale/Dati\"\n",
    "os.chdir(dir)\n",
    "\n",
    "hep.style.use(\"CMS\")\n",
    "np.set_printoptions(threshold=np.inf)"
   ]
  },
  {
   "cell_type": "code",
   "execution_count": 2,
   "metadata": {},
   "outputs": [],
   "source": [
    "files = [\n",
    "    \"./ntupleStubsBmtfGmt_LS133.root\",\n",
    "    \"./ntupleStubsBmtfGmt_LS263.root\",\n",
    "    \"./ntupleStubsBmtfGmt_LS264.root\",\n",
    "    \"./ntupleStubsBmtfGmt_LS306.root\",\n",
    "]\n",
    "\n",
    "stub_bmtf_gmt_features = [\n",
    "    'orbit', 'bx', 'nStubs', 'stubHwPhi', 'stubHwPhiB', 'stubHwQual', 'stubHwEta', 'stubHwQEta', 'stubStation', 'stubWheel', 'stubSector', 'stubTag',\n",
    "    'nBmtfMuons', 'bmtfHwPt', 'bmtfHwPtu', 'bmtfHwPhi', 'bmtfHwEta', 'bmtfPt', 'bmtfPtu', 'bmtfPhi', 'bmtfEta', 'bmtfHwSign', 'bmtfHwSignValid', \n",
    "    'bmtfHwDXY', 'bmtfHwQual', 'bmtfProcessor', \n",
    "    'nGmtMuons', 'gmtHwPt', 'gmtHwPtu', 'gmtHwPhi', 'gmtHwEta', 'gmtHwPhiAtVtx', 'gmtHwEtaAtVtx', 'gmtPt', 'gmtPtu', 'gmtPhi', 'gmtEta', \n",
    "    'gmtPhiAtVtx', 'gmtEtaAtVtx', 'gmtCharge', 'gmtDxy', 'gmtQual', 'gmtTfIndex']\n",
    "\n",
    "stub_bmtf_gmt_list = []\n",
    "for file in files:\n",
    "    with uproot.open(file) as f:\n",
    "        evs = f[\"bmtfNtuplizer/Events\"]\n",
    "        temp_awk = evs.arrays(stub_bmtf_gmt_features, library=\"ak\")\n",
    "        stub_bmtf_gmt_list.append(temp_awk)\n",
    "        \n",
    "bmtf_gmt = ak.concatenate(stub_bmtf_gmt_list, axis=0)\n",
    "\n"
   ]
  },
  {
   "cell_type": "code",
   "execution_count": 3,
   "metadata": {},
   "outputs": [],
   "source": [
    "bx = bmtf_gmt.bx\n",
    "nStubs = bmtf_gmt.nStubs\n",
    "stubsStation = bmtf_gmt.stubStation\n",
    "stubsSector = bmtf_gmt.stubSector\n",
    "stubsWheel = bmtf_gmt.stubWheel\n",
    "stubsPhiB = bmtf_gmt.stubHwPhiB\n",
    "stubsHwQual = bmtf_gmt.stubHwQual"
   ]
  },
  {
   "cell_type": "code",
   "execution_count": 11,
   "metadata": {},
   "outputs": [
    {
     "data": {
      "text/plain": [
       "'i, j = 123,124\\nprint(i, nStubs[i], stubsStation[i], stubsSector[i], stubsWheel[i])\\nprint(j, nStubs[j], stubsStation[j], stubsSector[j], stubsWheel[j])'"
      ]
     },
     "execution_count": 11,
     "metadata": {},
     "output_type": "execute_result"
    }
   ],
   "source": [
    "#123, 258, 287, \n",
    "'''for i in range(50):\n",
    "   print(i, nStubs[i], stubsStation[i], stubsSector[i], stubsWheel[i], stubsHwQual[i])'''\n",
    "\n",
    "'''i, j = 123,124\n",
    "print(i, nStubs[i], stubsStation[i], stubsSector[i], stubsWheel[i])\n",
    "print(j, nStubs[j], stubsStation[j], stubsSector[j], stubsWheel[j])'''"
   ]
  },
  {
   "cell_type": "code",
   "execution_count": 5,
   "metadata": {},
   "outputs": [],
   "source": [
    "Features = [nStubs, stubsStation, stubsSector, stubsWheel, stubsPhiB, stubsHwQual]"
   ]
  },
  {
   "cell_type": "code",
   "execution_count": 6,
   "metadata": {},
   "outputs": [],
   "source": [
    "#Controlla che la stub successiva si trovi nella stazione dopo\n",
    "def CheckStation(Station, StationP1):\n",
    "\n",
    "   Diff = Station - StationP1\n",
    "   Index = np.where(Diff == -1)[0]\n",
    "\n",
    "   return Index\n",
    "\n",
    "#Controlla che la Wheel successiva sia +- 1 della wheel corrente, tranne per le wheel estremali\n",
    "def CheckWheel(Wheel, WheelP1):\n",
    "   \n",
    "   IndexList = []\n",
    "\n",
    "   if (Wheel == -2):\n",
    "      Index = list(np.where((WheelP1 == -1) | (WheelP1 == -2))[0])\n",
    "      IndexList.extend(Index)\n",
    "\n",
    "   elif (Wheel == 2):\n",
    "      Index = list(np.where((WheelP1 == 1) | (WheelP1 == 2))[0])\n",
    "      IndexList.extend(Index)\n",
    "\n",
    "   else:\n",
    "      Diff = Wheel - WheelP1\n",
    "      Index = list(np.where((Diff == -1) | (Diff == 0) | (Diff == 1))[0])\n",
    "      IndexList.extend(Index)\n",
    "\n",
    "   return np.array(IndexList)\n",
    "\n",
    "#Controlla che il settore successivo sia adiacente al settore corrente. Applica operazione ciclica per settori 11 e 0\n",
    "def CheckSector(Sector, SectorP1):\n",
    "   \n",
    "   IndexList = []\n",
    "\n",
    "   if (Sector == 11):\n",
    "      Index = list(np.where((SectorP1 == 10) | (SectorP1 == 11) | (SectorP1 == 0))[0])\n",
    "      IndexList.extend(Index)\n",
    "\n",
    "   elif (Sector == 0):\n",
    "      Index = list(np.where((SectorP1 == 11) | (SectorP1 == 0)| (SectorP1 == 1))[0])\n",
    "      IndexList.extend(Index)\n",
    "\n",
    "   else:\n",
    "      Diff = Sector - SectorP1\n",
    "      Index = list(np.where((Diff == -1) | (Diff == 0) | (Diff == 1))[0])\n",
    "      IndexList.extend(Index)\n",
    "\n",
    "   return np.array(IndexList)"
   ]
  },
  {
   "cell_type": "code",
   "execution_count": null,
   "metadata": {},
   "outputs": [],
   "source": [
    "def SearchHSCP_StationLevel(Features, Number):\n",
    "   \n",
    "   Property = []\n",
    "\n",
    "   #Feature: 0 == Stubs, 1 == Station, 2 == Sector, 3 == Wheel, 4 == PhiB, 5 == Quality\n",
    "\n",
    "   for i in tqdm.tqdm(range(Number - 1)):\n",
    "\n",
    "      Station, Sector, Wheel, PhiB, Quality  = [], [], [], [], []\n",
    "      StationP1, SectorP1, WheelP1, PhiBP1, QualityP1 = [], [], [], [], []\n",
    "      \n",
    "\n",
    "      Dic = {}\n",
    "      DicP1 = {}\n",
    "\n",
    "      #Inizializzo dizionari\n",
    "      for feature in ['Station', 'Sector', 'Wheel', 'PhiB', 'Quality']:\n",
    "         Dic[feature] = []\n",
    "         DicP1[feature] = []\n",
    "\n",
    "      \n",
    "      if ((Features[0][i] == 1 and Features[0][i+1] == 1) and Features[1][i+1] != Features[1][i]+1):\n",
    "         continue\n",
    "      \n",
    "      #Caso in cui ci sia solo 1 elemento nell'iesimo BX e 1 elemento nel BX successivo\n",
    "      elif ((Features[0][i] == 1 and Features[0][i+1] == 1) and Features[1][i+1] == Features[1][i]+1):\n",
    "         nStubs = [Features[0][i], Features[0][i+1]]    \n",
    "\n",
    "         Dic['Station'].extend(Features[1][i])\n",
    "         Dic['Sector'].extend(Features[2][i])\n",
    "         Dic['Wheel'].extend(Features[3][i])\n",
    "         Dic['PhiB'].extend(Features[4][i])\n",
    "         Dic['Quality'].extend(Features[5][i])\n",
    "\n",
    "         DicP1['Station'].extend(Features[1][i+1])\n",
    "         DicP1['Sector'].extend(Features[2][i+1])\n",
    "         DicP1['Wheel'].extend(Features[3][i+1])\n",
    "         DicP1['PhiB'].extend(Features[4][i+1])\n",
    "         DicP1['Quality'].extend(Features[5][i+1])\n",
    "\n",
    "\n",
    "      #Controllo duplicati viene fatto più avanti per ridurre i missmatch\n",
    "      else:\n",
    "         #Tutti gli altri casi\n",
    "         for j in range(Features[0][i]):\n",
    "            ChkStation = CheckStation(Features[1][i][j], Features[1][i+1])\n",
    "            nStubs = [Features[0][i], Features[0][i+1]] \n",
    "            \n",
    "            Station.append(Features[1][i][j])\n",
    "            Sector.append(Features[2][i][j])\n",
    "            Wheel.append(Features[3][i][j])\n",
    "            PhiB.append(Features[4][i][j])\n",
    "            Quality.append(Features[5][i][j])\n",
    "\n",
    "            StationP1.append([Features[1][i+1][k] for k in ChkStation])\n",
    "            SectorP1.append([Features[2][i+1][k] for k in ChkStation])\n",
    "            WheelP1.append([Features[3][i+1][k] for k in ChkStation])\n",
    "            PhiBP1.append([Features[4][i+1][k] for k in ChkStation])\n",
    "            QualityP1.append([Features[5][i+1][k] for k in ChkStation])\n",
    "\n",
    "\n",
    "         Dic['Station'].extend(Station)\n",
    "         Dic['Sector'].extend(Sector)\n",
    "         Dic['Wheel'].extend(Wheel)\n",
    "         Dic['PhiB'].extend(PhiB)\n",
    "         Dic['Quality'].extend(Quality)\n",
    "\n",
    "         DicP1['Station'].extend(StationP1)\n",
    "         DicP1['Sector'].extend(SectorP1)\n",
    "         DicP1['Wheel'].extend(WheelP1)   \n",
    "         DicP1['PhiB'].extend(PhiBP1)\n",
    "         DicP1['Quality'].extend(QualityP1)\n",
    "\n",
    "\n",
    "\n",
    "      Dictionary = {\n",
    "         'i': i,\n",
    "         'nStubs': nStubs,\n",
    "         'property': Dic,\n",
    "         'propertyP1': DicP1\n",
    "      }\n",
    "\n",
    "      Property.append(Dictionary)\n",
    "\n",
    "   return ak.Array(Property)\n",
    "   "
   ]
  },
  {
   "cell_type": "code",
   "execution_count": 8,
   "metadata": {},
   "outputs": [],
   "source": [
    "#StationFiltered = SearchHSCP_StationLevel(Features, len(Features[0]))"
   ]
  },
  {
   "cell_type": "code",
   "execution_count": 9,
   "metadata": {},
   "outputs": [],
   "source": [
    "# with open('StationFiltered.pkl', 'wb') as f:\n",
    "#     pickle.dump(StationFiltered, f)\n",
    "\n",
    "\n",
    "\n",
    "with open('StationFiltered.pkl', 'rb') as f:\n",
    "    StationFiltered = pickle.load(f)"
   ]
  },
  {
   "cell_type": "code",
   "execution_count": 23,
   "metadata": {},
   "outputs": [
    {
     "data": {
      "text/plain": [
       "6209154"
      ]
     },
     "execution_count": 23,
     "metadata": {},
     "output_type": "execute_result"
    }
   ],
   "source": [
    "len(StationFiltered)"
   ]
  },
  {
   "cell_type": "code",
   "execution_count": null,
   "metadata": {},
   "outputs": [],
   "source": []
  }
 ],
 "metadata": {
  "kernelspec": {
   "display_name": "base",
   "language": "python",
   "name": "python3"
  },
  "language_info": {
   "codemirror_mode": {
    "name": "ipython",
    "version": 3
   },
   "file_extension": ".py",
   "mimetype": "text/x-python",
   "name": "python",
   "nbconvert_exporter": "python",
   "pygments_lexer": "ipython3",
   "version": "3.12.2"
  }
 },
 "nbformat": 4,
 "nbformat_minor": 2
}
