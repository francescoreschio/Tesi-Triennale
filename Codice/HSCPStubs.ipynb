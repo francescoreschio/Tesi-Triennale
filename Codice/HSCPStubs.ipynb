{
 "cells": [
  {
   "cell_type": "code",
   "execution_count": 1,
   "metadata": {},
   "outputs": [],
   "source": [
    "import numpy as np\n",
    "import matplotlib.pyplot as plt\n",
    "from mpl_toolkits.axes_grid1 import make_axes_locatable\n",
    "from matplotlib import ticker\n",
    "import awkward as ak\n",
    "import uproot \n",
    "import mplhep as hep\n",
    "import hist\n",
    "import os\n",
    "import time\n",
    "from numba import njit\n",
    "from matplotlib.colors import LogNorm\n",
    "import tqdm\n",
    "import pickle \n",
    "from numba import jit\n",
    "\n",
    "\n",
    "\n",
    "from UtilityAndConst import *\n",
    "from Functions import *\n",
    "\n",
    "dir = \"/Users/francescolarovere/Documents/Tesi-Triennale/Dati\"\n",
    "os.chdir(dir)\n",
    "\n",
    "hep.style.use(\"CMS\")\n",
    "np.set_printoptions(threshold=np.inf)"
   ]
  },
  {
   "cell_type": "code",
   "execution_count": 2,
   "metadata": {},
   "outputs": [],
   "source": [
    "files = [\n",
    "    \"./ntupleStubsBmtfGmt_LS133.root\",\n",
    "    \"./ntupleStubsBmtfGmt_LS263.root\",\n",
    "    \"./ntupleStubsBmtfGmt_LS264.root\",\n",
    "    \"./ntupleStubsBmtfGmt_LS306.root\",\n",
    "]\n",
    "\n",
    "stub_bmtf_gmt_features = [\n",
    "    'orbit', 'bx', 'nStubs', 'stubHwPhi', 'stubHwPhiB', 'stubHwQual', 'stubHwEta', 'stubHwQEta', 'stubStation', 'stubWheel', 'stubSector', 'stubTag',\n",
    "    'nBmtfMuons', 'bmtfHwPt', 'bmtfHwPtu', 'bmtfHwPhi', 'bmtfHwEta', 'bmtfPt', 'bmtfPtu', 'bmtfPhi', 'bmtfEta', 'bmtfHwSign', 'bmtfHwSignValid', \n",
    "    'bmtfHwDXY', 'bmtfHwQual', 'bmtfProcessor', \n",
    "    'nGmtMuons', 'gmtHwPt', 'gmtHwPtu', 'gmtHwPhi', 'gmtHwEta', 'gmtHwPhiAtVtx', 'gmtHwEtaAtVtx', 'gmtPt', 'gmtPtu', 'gmtPhi', 'gmtEta', \n",
    "    'gmtPhiAtVtx', 'gmtEtaAtVtx', 'gmtCharge', 'gmtDxy', 'gmtQual', 'gmtTfIndex']\n",
    "\n",
    "stub_bmtf_gmt_list = []\n",
    "for file in files:\n",
    "    with uproot.open(file) as f:\n",
    "        evs = f[\"bmtfNtuplizer/Events\"]\n",
    "        temp_awk = evs.arrays(stub_bmtf_gmt_features, library=\"ak\")\n",
    "        stub_bmtf_gmt_list.append(temp_awk)\n",
    "        \n",
    "bmtf_gmt = ak.concatenate(stub_bmtf_gmt_list, axis=0)"
   ]
  },
  {
   "cell_type": "code",
   "execution_count": 3,
   "metadata": {},
   "outputs": [],
   "source": [
    "nStubs = bmtf_gmt.nStubs\n",
    "stubsStation = bmtf_gmt.stubStation\n",
    "stubsSector = bmtf_gmt.stubSector\n",
    "stubsWheel = bmtf_gmt.stubWheel\n",
    "stubsPhiB = bmtf_gmt.stubHwPhiB\n",
    "stubsHwQual = bmtf_gmt.stubHwQual"
   ]
  },
  {
   "cell_type": "code",
   "execution_count": 44,
   "metadata": {},
   "outputs": [
    {
     "data": {
      "text/plain": [
       "'for i in range(100):\\n   print(nStubs[i], stubsStation[i], stubsSector[i], stubsWheel[i])'"
      ]
     },
     "execution_count": 44,
     "metadata": {},
     "output_type": "execute_result"
    }
   ],
   "source": [
    "'''for i in range(100):\n",
    "   print(nStubs[i], stubsStation[i], stubsSector[i], stubsWheel[i])'''"
   ]
  },
  {
   "cell_type": "code",
   "execution_count": 6,
   "metadata": {},
   "outputs": [
    {
     "data": {
      "text/plain": [
       "1"
      ]
     },
     "execution_count": 6,
     "metadata": {},
     "output_type": "execute_result"
    }
   ],
   "source": [
    "Features = [nStubs, stubsStation, stubsSector, stubsWheel, stubsPhiB, stubsHwQual]"
   ]
  },
  {
   "cell_type": "code",
   "execution_count": 26,
   "metadata": {},
   "outputs": [
    {
     "data": {
      "text/plain": [
       "array([], dtype=int64)"
      ]
     },
     "execution_count": 26,
     "metadata": {},
     "output_type": "execute_result"
    }
   ],
   "source": [
    "one = 1\n",
    "vec = np.array([1, 2, 2, 4])\n",
    "np.where((one - vec) == 1)[0]\n",
    "\n",
    "diff = np.mod()"
   ]
  },
  {
   "cell_type": "code",
   "execution_count": 46,
   "metadata": {},
   "outputs": [],
   "source": [
    "#Controlla che la stub successiva si trovi nella stazione dopo\n",
    "def CheckStation(Station, StationP1):\n",
    "\n",
    "   Diff = Station - StationP1\n",
    "   Index = np.where(Diff == -1)[0]\n",
    "\n",
    "   return Index\n",
    "\n",
    "#Controlla che la Wheel successiva sia +- 1 della wheel corrente, tranne per le wheel estremali\n",
    "def CheckWheel(Wheel, WheelP1):\n",
    "   \n",
    "   IndexList = []\n",
    "\n",
    "   if (Wheel == -2):\n",
    "      Index = list(np.where((WheelP1 == -1) | (WheelP1 == -2))[0])\n",
    "      IndexList.extend(Index)\n",
    "\n",
    "   elif (Wheel == 2):\n",
    "      Index = list(np.where((WheelP1 == 1) | (WheelP1 == 2))[0])\n",
    "      IndexList.extend(Index)\n",
    "\n",
    "   else:\n",
    "      Diff = Wheel - WheelP1\n",
    "      Index = list(np.where((Diff == -1) | (Diff == 0) | (Diff == 1))[0])\n",
    "      IndexList.extend(Index)\n",
    "\n",
    "   return IndexList\n",
    "\n",
    "#Controlla che il settore successivo sia adiacente al settore corrente. Applica operazione ciclica per settori 11 e 0\n",
    "def CheckSector(Sector, SectorP1):\n",
    "   \n",
    "   IndexList = []\n",
    "\n",
    "   if (Sector == 11):\n",
    "      Index = list(np.where((SectorP1 == 10) | (SectorP1 == 11) | (SectorP1 == 0))[0])\n",
    "      IndexList.extend(Index)\n",
    "\n",
    "   elif (Sector == 0):\n",
    "      Index = list(np.where((SectorP1 == 11) | (SectorP1 == 0)| (SectorP1 == 1))[0])\n",
    "      IndexList.extend(Index)\n",
    "\n",
    "   else:\n",
    "      Diff = Sector - SectorP1\n",
    "      Index = list(np.where((Diff == -1) | (Diff == 0) | (Diff == 1))[0])\n",
    "      IndexList.extend(Index)\n",
    "\n",
    "   return IndexList"
   ]
  },
  {
   "cell_type": "code",
   "execution_count": null,
   "metadata": {},
   "outputs": [],
   "source": [
    "def SearchHSCP(Features, Number):\n",
    "   \n",
    "   HSCPs = []\n",
    "\n",
    "\n",
    "   for i in tqdm.tqdm(range(Number - 1)):\n",
    "\n",
    "      nStubs = np.array(Features[0][i])\n",
    "      nStubsP1 = np.array(Features[0][i + 1])\n",
    "      SStation, SSector, SSector = np.array(Features[1][i]), np.array(Features[2][i]), np.array(Features[3][i])\n",
    "      SStationP1, SSectorP1, SSectorP1 = np.array(Features[1][i + 1]), np.array(Features[2][i + 1]), np.array(Features[3][i + 1])\n",
    "      SPhiB = np.array(Features[4][i])\n",
    "      SHwQual = np.array(Features[5][i])\n",
    "\n",
    "      matched = []\n",
    "\n",
    "\n",
    "   if nStubs == nStubsP1:\n",
    "      for j in range(nStubs):\n",
    "\n",
    "\n",
    "   else:\n",
    "      pass \n",
    "            \n",
    "\n",
    "\n"
   ]
  }
 ],
 "metadata": {
  "kernelspec": {
   "display_name": "base",
   "language": "python",
   "name": "python3"
  },
  "language_info": {
   "codemirror_mode": {
    "name": "ipython",
    "version": 3
   },
   "file_extension": ".py",
   "mimetype": "text/x-python",
   "name": "python",
   "nbconvert_exporter": "python",
   "pygments_lexer": "ipython3",
   "version": "3.12.2"
  }
 },
 "nbformat": 4,
 "nbformat_minor": 2
}
