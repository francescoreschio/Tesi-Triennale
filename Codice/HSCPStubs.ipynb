{
 "cells": [
  {
   "cell_type": "code",
   "execution_count": 1,
   "metadata": {},
   "outputs": [],
   "source": [
    "import numpy as np\n",
    "import matplotlib.pyplot as plt\n",
    "from mpl_toolkits.axes_grid1 import make_axes_locatable\n",
    "from matplotlib import ticker\n",
    "import awkward as ak\n",
    "import uproot \n",
    "import mplhep as hep\n",
    "import hist\n",
    "import os\n",
    "import time\n",
    "from numba import njit\n",
    "from matplotlib.colors import LogNorm\n",
    "import tqdm\n",
    "import pickle \n",
    "from numba import jit\n",
    "\n",
    "\n",
    "\n",
    "from UtilityAndConst import *\n",
    "from Functions import *\n",
    "\n",
    "dir = \"/Users/francescolarovere/Documents/Tesi-Triennale/Dati\"\n",
    "os.chdir(dir)\n",
    "\n",
    "hep.style.use(\"CMS\")\n",
    "np.set_printoptions(threshold=np.inf)"
   ]
  },
  {
   "cell_type": "code",
   "execution_count": 2,
   "metadata": {},
   "outputs": [],
   "source": [
    "files = [\n",
    "    \"./ntupleStubsBmtfGmt_LS133.root\",\n",
    "    \"./ntupleStubsBmtfGmt_LS263.root\",\n",
    "    \"./ntupleStubsBmtfGmt_LS264.root\",\n",
    "    \"./ntupleStubsBmtfGmt_LS306.root\",\n",
    "]\n",
    "\n",
    "stub_bmtf_gmt_features = [\n",
    "    'orbit', 'bx', 'nStubs', 'stubHwPhi', 'stubHwPhiB', 'stubHwQual', 'stubHwEta', 'stubHwQEta', 'stubStation', 'stubWheel', 'stubSector', 'stubTag',\n",
    "    'nBmtfMuons', 'bmtfHwPt', 'bmtfHwPtu', 'bmtfHwPhi', 'bmtfHwEta', 'bmtfPt', 'bmtfPtu', 'bmtfPhi', 'bmtfEta', 'bmtfHwSign', 'bmtfHwSignValid', \n",
    "    'bmtfHwDXY', 'bmtfHwQual', 'bmtfProcessor', \n",
    "    'nGmtMuons', 'gmtHwPt', 'gmtHwPtu', 'gmtHwPhi', 'gmtHwEta', 'gmtHwPhiAtVtx', 'gmtHwEtaAtVtx', 'gmtPt', 'gmtPtu', 'gmtPhi', 'gmtEta', \n",
    "    'gmtPhiAtVtx', 'gmtEtaAtVtx', 'gmtCharge', 'gmtDxy', 'gmtQual', 'gmtTfIndex']\n",
    "\n",
    "stub_bmtf_gmt_list = []\n",
    "for file in files:\n",
    "    with uproot.open(file) as f:\n",
    "        evs = f[\"bmtfNtuplizer/Events\"]\n",
    "        temp_awk = evs.arrays(stub_bmtf_gmt_features, library=\"ak\")\n",
    "        stub_bmtf_gmt_list.append(temp_awk)\n",
    "        \n",
    "bmtf_gmt = ak.concatenate(stub_bmtf_gmt_list, axis=0)\n",
    "\n"
   ]
  },
  {
   "cell_type": "code",
   "execution_count": 3,
   "metadata": {},
   "outputs": [],
   "source": [
    "bx = bmtf_gmt.bx\n",
    "nStubs = bmtf_gmt.nStubs\n",
    "stubsStation = bmtf_gmt.stubStation\n",
    "stubsSector = bmtf_gmt.stubSector\n",
    "stubsWheel = bmtf_gmt.stubWheel\n",
    "stubsPhiB = bmtf_gmt.stubHwPhiB\n",
    "stubsHwQual = bmtf_gmt.stubHwQual"
   ]
  },
  {
   "cell_type": "code",
   "execution_count": 4,
   "metadata": {},
   "outputs": [
    {
     "data": {
      "text/plain": [
       "'i, j = 123,124\\nprint(i, nStubs[i], stubsStation[i], stubsSector[i], stubsWheel[i])\\nprint(j, nStubs[j], stubsStation[j], stubsSector[j], stubsWheel[j])'"
      ]
     },
     "execution_count": 4,
     "metadata": {},
     "output_type": "execute_result"
    }
   ],
   "source": [
    "#123, 258, 287, \n",
    "'''for i in range(50):\n",
    "   print(i, nStubs[i], stubsStation[i], stubsSector[i], stubsWheel[i], stubsHwQual[i])'''\n",
    "\n",
    "'''i, j = 123,124\n",
    "print(i, nStubs[i], stubsStation[i], stubsSector[i], stubsWheel[i])\n",
    "print(j, nStubs[j], stubsStation[j], stubsSector[j], stubsWheel[j])'''"
   ]
  },
  {
   "cell_type": "code",
   "execution_count": 5,
   "metadata": {},
   "outputs": [],
   "source": [
    "Features = [nStubs, stubsStation, stubsSector, stubsWheel, stubsPhiB, stubsHwQual]"
   ]
  },
  {
   "cell_type": "code",
   "execution_count": 6,
   "metadata": {},
   "outputs": [],
   "source": [
    "#Controlla che la stub successiva si trovi nella stazione dopo\n",
    "def CheckStation(Station, StationP1):\n",
    "\n",
    "   Diff = Station - StationP1\n",
    "   Index = ak.where(Diff == -1)[0]\n",
    "\n",
    "   return Index\n",
    "\n",
    "#Controlla che la Wheel successiva sia +- 1 della wheel corrente, tranne per le wheel estremali\n",
    "def CheckWheel(Wheel, WheelP1):\n",
    "   \n",
    "   IndexList = []\n",
    "\n",
    "   if (Wheel == -2):\n",
    "      Index = list(ak.where((WheelP1 == -1) | (WheelP1 == -2))[0])\n",
    "      IndexList.extend(Index)\n",
    "\n",
    "   elif (Wheel == 2):\n",
    "      Index = list(ak.where((WheelP1 == 1) | (WheelP1 == 2))[0])\n",
    "      IndexList.extend(Index)\n",
    "\n",
    "   else:\n",
    "      Diff = Wheel - WheelP1\n",
    "      Index = list(ak.where((Diff == -1) | (Diff == 0) | (Diff == 1))[0])\n",
    "      IndexList.extend(Index)\n",
    "\n",
    "   return ak.Array(IndexList)\n",
    "\n",
    "#Controlla che il settore successivo sia adiacente al settore corrente. Applica operazione ciclica per settori 11 e 0\n",
    "def CheckSector(Sector, SectorP1):\n",
    "   \n",
    "   IndexList = []\n",
    "\n",
    "   if (Sector == 11):\n",
    "      Index = list(ak.where((SectorP1 == 10) | (SectorP1 == 11) | (SectorP1 == 0))[0])\n",
    "      IndexList.extend(Index)\n",
    "\n",
    "   elif (Sector == 0):\n",
    "      Index = list(ak.where((SectorP1 == 11) | (SectorP1 == 0)| (SectorP1 == 1))[0])\n",
    "      IndexList.extend(Index)\n",
    "\n",
    "   else:\n",
    "      Diff = Sector - SectorP1\n",
    "      Index = list(ak.where((Diff == -1) | (Diff == 0) | (Diff == 1))[0])\n",
    "      IndexList.extend(Index)\n",
    "\n",
    "   return ak.Array(IndexList)"
   ]
  },
  {
   "cell_type": "code",
   "execution_count": 102,
   "metadata": {},
   "outputs": [],
   "source": [
    "def SearchHSCP_StationLevel(Features, Number):\n",
    "   \n",
    "   Property = []\n",
    "\n",
    "   #Feature: 0 == Stubs, 1 == Station, 2 == Sector, 3 == Wheel, 4 == PhiB, 5 == Quality\n",
    "\n",
    "   for i in tqdm.tqdm(range(Number - 1)):\n",
    "\n",
    "      Station, Sector, Wheel, PhiB, Quality  = [], [], [], [], []\n",
    "      StationP1, SectorP1, WheelP1, PhiBP1, QualityP1 = [], [], [], [], []\n",
    "      BoolChkStation = []\n",
    "      \n",
    "      #number of elements\n",
    "      NoE = []\n",
    "      \n",
    "\n",
    "      Dic = {}\n",
    "      DicP1 = {}\n",
    "\n",
    "      #Inizializzo dizionari\n",
    "      for feature in ['Station', 'Sector', 'Wheel', 'PhiB', 'Quality']:\n",
    "         Dic[feature] = []\n",
    "        \n",
    "      for features in ['Station', 'Sector', 'Wheel', 'PhiB', 'Quality', 'NoE']:\n",
    "         DicP1[features] = []\n",
    "\n",
    "      \n",
    "      if ((Features[0][i] == 1 and Features[0][i+1] == 1) and Features[1][i+1] != Features[1][i]+1):\n",
    "         continue\n",
    "      \n",
    "      #Caso in cui ci sia solo 1 elemento nell'iesimo BX e 1 elemento nel BX successivo\n",
    "      elif ((Features[0][i] == 1 and Features[0][i+1] == 1) and Features[1][i+1] == Features[1][i]+1):\n",
    "         nStubs = [Features[0][i], Features[0][i+1]]    \n",
    "\n",
    "         Dic['Station'].extend(Features[1][i])\n",
    "         Dic['Sector'].extend(Features[2][i])\n",
    "         Dic['Wheel'].extend(Features[3][i])\n",
    "         Dic['PhiB'].extend(Features[4][i])\n",
    "         Dic['Quality'].extend(Features[5][i])\n",
    "\n",
    "         DicP1['Station'].extend(Features[1][i+1])\n",
    "         DicP1['Sector'].extend(Features[2][i+1])\n",
    "         DicP1['Wheel'].extend(Features[3][i+1])\n",
    "         DicP1['PhiB'].extend(Features[4][i+1])\n",
    "         DicP1['Quality'].extend(Features[5][i+1])\n",
    "         DicP1['NoE'].append(1)\n",
    "\n",
    "         Dictionary = {\n",
    "            'i': i,\n",
    "            'nStubs': nStubs,\n",
    "            'property': Dic,\n",
    "            'propertyP1': DicP1\n",
    "         }\n",
    "\n",
    "         Property.append(Dictionary)\n",
    "\n",
    "      \n",
    "      #Controllo duplicati viene fatto più avanti per ridurre i missmatch\n",
    "      else:\n",
    "\n",
    "         if (Features[0][i] > Features[0][i+1]):\n",
    "            for j in range(Features[0][i]):\n",
    "               ChkStation = CheckStation(Features[1][i][j], Features[1][i+1])\n",
    "               \n",
    "               if (len(ChkStation) != 0):\n",
    "                  nStubs = [Features[0][i], Features[0][i+1]]\n",
    "                  Station.append(Features[1][i][j])\n",
    "                  Sector.append(Features[2][i][j])\n",
    "                  Wheel.append(Features[3][i][j])\n",
    "                  PhiB.append(Features[4][i][j])\n",
    "                  Quality.append(Features[5][i][j])\n",
    "\n",
    "                  StationP1.extend([Features[1][i+1][k] for k in ChkStation])\n",
    "                  SectorP1.extend([Features[2][i+1][k] for k in ChkStation])\n",
    "                  WheelP1.extend([Features[3][i+1][k] for k in ChkStation])\n",
    "                  PhiBP1.extend([Features[4][i+1][k] for k in ChkStation])\n",
    "                  QualityP1.extend([Features[5][i+1][k] for k in ChkStation])\n",
    "                  NoE.append(len(ChkStation))\n",
    "\n",
    "                  Dic['Station'].extend(Station)\n",
    "                  Dic['Sector'].extend(Sector)\n",
    "                  Dic['Wheel'].extend(Wheel)\n",
    "                  Dic['PhiB'].extend(PhiB)\n",
    "                  Dic['Quality'].extend(Quality)\n",
    "\n",
    "                  DicP1['Station'].extend(StationP1)\n",
    "                  DicP1['Sector'].extend(SectorP1)\n",
    "                  DicP1['Wheel'].extend(WheelP1)   \n",
    "                  DicP1['PhiB'].extend(PhiBP1)\n",
    "                  DicP1['Quality'].extend(QualityP1)\n",
    "                  DicP1['NoE'].extend([55555])\n",
    "\n",
    "\n",
    "\n",
    "                  Dictionary = {\n",
    "                     'i': i,\n",
    "                     'nStubs': nStubs,\n",
    "                     'property': Dic,\n",
    "                     'propertyP1': DicP1\n",
    "                  }\n",
    "\n",
    "\n",
    "                  Property.append(Dictionary)\n",
    "\n",
    "\n",
    "         else:\n",
    "            #Tutti gli altri casi\n",
    "            for j in range(Features[0][i]):\n",
    "               ChkStation = CheckStation(Features[1][i][j], Features[1][i+1])\n",
    "               nStubs = [Features[0][i], Features[0][i+1]]\n",
    "\n",
    "\n",
    "               Station.append(Features[1][i][j])\n",
    "               Sector.append(Features[2][i][j])\n",
    "               Wheel.append(Features[3][i][j])\n",
    "               PhiB.append(Features[4][i][j])\n",
    "               Quality.append(Features[5][i][j])\n",
    "\n",
    "               \n",
    "               StationP1.extend([Features[1][i+1][k] for k in ChkStation])\n",
    "               SectorP1.extend([Features[2][i+1][k] for k in ChkStation])\n",
    "               WheelP1.extend([Features[3][i+1][k] for k in ChkStation])\n",
    "               PhiBP1.extend([Features[4][i+1][k] for k in ChkStation])\n",
    "               QualityP1.extend([Features[5][i+1][k] for k in ChkStation])\n",
    "               NoE.append(len(ChkStation))\n",
    "\n",
    "\n",
    "               if (len(ChkStation) == 0):\n",
    "                  BoolChkStation.append(False)\n",
    "               else:\n",
    "                  BoolChkStation.append(True)\n",
    "\n",
    "            if (np.any(np.array(BoolChkStation))):\n",
    "               Dic['Station'].extend(Station)\n",
    "               Dic['Sector'].extend(Sector)\n",
    "               Dic['Wheel'].extend(Wheel)\n",
    "               Dic['PhiB'].extend(PhiB)\n",
    "               Dic['Quality'].extend(Quality)\n",
    "\n",
    "               DicP1['Station'].extend(StationP1)\n",
    "               DicP1['Sector'].extend(SectorP1)\n",
    "               DicP1['Wheel'].extend(WheelP1)   \n",
    "               DicP1['PhiB'].extend(PhiBP1)\n",
    "               DicP1['Quality'].extend(QualityP1)\n",
    "               DicP1['NoE'].extend(NoE)\n",
    "\n",
    "\n",
    "\n",
    "               Dictionary = {\n",
    "                  'i': i,\n",
    "                  'nStubs': nStubs,\n",
    "                  'property': Dic,\n",
    "                  'propertyP1': DicP1\n",
    "               }\n",
    "\n",
    "\n",
    "               Property.append(Dictionary)\n",
    "\n",
    "\n",
    "   return ak.Array(Property)\n",
    "   "
   ]
  },
  {
   "cell_type": "code",
   "execution_count": 103,
   "metadata": {},
   "outputs": [
    {
     "name": "stderr",
     "output_type": "stream",
     "text": [
      "100%|██████████| 999/999 [00:00<00:00, 1055.12it/s]\n"
     ]
    }
   ],
   "source": [
    "StationFiltered = SearchHSCP_StationLevel(Features, 1_000)#len(Features[0]))"
   ]
  },
  {
   "cell_type": "code",
   "execution_count": 105,
   "metadata": {},
   "outputs": [
    {
     "data": {
      "text/html": [
       "<pre>{i: 29,\n",
       " nStubs: [2, 1],\n",
       " property: {Station: [1, 1, 1], Sector: [3, 3, 3], Wheel: [0, ...], ...},\n",
       " propertyP1: {Station: [2, 2, 2], Sector: [2, 2, 2], Wheel: [...], ...}}\n",
       "-------------------------------------------------------------------------\n",
       "type: {\n",
       "    i: int64,\n",
       "    nStubs: var * int64,\n",
       "    property: {\n",
       "        Station: var * int64,\n",
       "        Sector: var * int64,\n",
       "        Wheel: var * int64,\n",
       "        PhiB: var * int64,\n",
       "        Quality: var * int64\n",
       "    },\n",
       "    propertyP1: {\n",
       "        Station: var * int64,\n",
       "        Sector: var * int64,\n",
       "        Wheel: var * int64,\n",
       "        PhiB: var * int64,\n",
       "        Quality: var * int64,\n",
       "        NoE: var * int64\n",
       "    }\n",
       "}</pre>"
      ],
      "text/plain": [
       "<Record {i: 29, nStubs: [2, ...], ...} type='{i: int64, nStubs: var * int64...'>"
      ]
     },
     "execution_count": 105,
     "metadata": {},
     "output_type": "execute_result"
    }
   ],
   "source": [
    "StationFiltered[3]\n",
    "#StationFiltered[4]['propertyP1'].NoE"
   ]
  },
  {
   "cell_type": "code",
   "execution_count": 9,
   "metadata": {},
   "outputs": [],
   "source": [
    "# with open('StationFiltered.pkl', 'wb') as f:\n",
    "#    pickle.dump(StationFiltered, f)\n",
    "\n",
    "# with open('StationFiltered.pkl', 'rb') as f:\n",
    "#     StationFiltered = pickle.load(f)"
   ]
  },
  {
   "cell_type": "code",
   "execution_count": 96,
   "metadata": {},
   "outputs": [
    {
     "data": {
      "text/plain": [
       "1"
      ]
     },
     "execution_count": 96,
     "metadata": {},
     "output_type": "execute_result"
    }
   ],
   "source": [
    "i = 29\n",
    "j = 0\n",
    "Features[1][i][j]"
   ]
  },
  {
   "cell_type": "code",
   "execution_count": 82,
   "metadata": {},
   "outputs": [],
   "source": [
    "#68, \n",
    "Number = np.where(StationFiltered['i'] == 25)[0]\n",
    "#print(Number)\n",
    "StationFiltered[Number[0]]\n",
    "\n",
    "#print(StationFiltered[Number[0]]['property']['Station'][0])\n",
    "#print(StationFiltered[Number[0]]['propertyP1']['Station'])\n",
    "\n",
    "Station, Sector, Wheel, PhiB, Quality  = [], [], [], [], []\n",
    "StationP1, SectorP1, WheelP1, PhiBP1, QualityP1 = [], [], [], [], []\n",
    "BoolChkStation = []\n",
    "\n",
    "Dic, DicP1 = {}, {}\n",
    "\n",
    "\n",
    "for feature in ['Station', 'Sector', 'Wheel', 'PhiB', 'Quality']:\n",
    "   Dic[feature] = []\n",
    "   DicP1[feature] = []\n",
    "\n",
    "\n",
    "i = 29\n",
    "for j in range(2):\n",
    "   ChkStation = CheckStation(StationFiltered[Number[0]]['property']['Station'][j], StationFiltered[Number[0]]['propertyP1']['Station'])\n",
    "   if (len(ChkStation) != 0):\n",
    "      Station.append(Features[1][i][j])\n",
    "      Sector.append(Features[2][i][j])\n",
    "      Wheel.append(Features[3][i][j])\n",
    "      PhiB.append(Features[4][i][j])\n",
    "      Quality.append(Features[5][i][j])\n",
    "\n",
    "      StationP1.extend([Features[1][i+1][k] for k in ChkStation])\n",
    "      SectorP1.extend([Features[2][i+1][k] for k in ChkStation])\n",
    "      WheelP1.extend([Features[3][i+1][k] for k in ChkStation])\n",
    "      PhiBP1.extend([Features[4][i+1][k] for k in ChkStation])\n",
    "      QualityP1.extend([Features[5][i+1][k] for k in ChkStation])\n",
    "\n",
    "      Dic['Station'].extend(Station)\n",
    "      Dic['Sector'].extend(Sector)\n",
    "      Dic['Wheel'].extend(Wheel)\n",
    "      Dic['PhiB'].extend(PhiB)\n",
    "      Dic['Quality'].extend(Quality)\n",
    "\n",
    "      DicP1['Station'].extend(StationP1)\n",
    "      DicP1['Sector'].extend(SectorP1)\n",
    "      DicP1['Wheel'].extend(WheelP1)   \n",
    "      DicP1['PhiB'].extend(PhiBP1)\n",
    "      DicP1['Quality'].extend(QualityP1)\n",
    "\n",
    "      Dictionary = {\n",
    "      'i': i,\n",
    "      'property': Dic,\n",
    "      'propertyP1': DicP1\n",
    "   }\n"
   ]
  },
  {
   "cell_type": "code",
   "execution_count": 83,
   "metadata": {},
   "outputs": [
    {
     "data": {
      "text/plain": [
       "{'i': 29,\n",
       " 'property': {'Station': [1],\n",
       "  'Sector': [3],\n",
       "  'Wheel': [0],\n",
       "  'PhiB': [206],\n",
       "  'Quality': [4]},\n",
       " 'propertyP1': {'Station': [2],\n",
       "  'Sector': [2],\n",
       "  'Wheel': [2],\n",
       "  'PhiB': [-84],\n",
       "  'Quality': [3]}}"
      ]
     },
     "execution_count": 83,
     "metadata": {},
     "output_type": "execute_result"
    }
   ],
   "source": [
    "Dictionary"
   ]
  },
  {
   "cell_type": "code",
   "execution_count": 11,
   "metadata": {},
   "outputs": [],
   "source": [
    "# for i in range(1000):\n",
    "#    if ak.all(StationFiltered[i]['nStubs'] == 2):\n",
    "#       print(StationFiltered[i]['i'])"
   ]
  },
  {
   "cell_type": "code",
   "execution_count": 12,
   "metadata": {},
   "outputs": [
    {
     "data": {
      "text/html": [
       "<pre>[0]\n",
       "---------------\n",
       "type: 1 * int64</pre>"
      ],
      "text/plain": [
       "<Array [0] type='1 * int64'>"
      ]
     },
     "execution_count": 12,
     "metadata": {},
     "output_type": "execute_result"
    }
   ],
   "source": [
    "i = 2\n",
    "\n",
    "Sector, SectorP1  = StationFiltered[i]['property'].Sector, StationFiltered[i]['propertyP1'].Sector\n",
    "Wheel, WheelP1 = StationFiltered[i]['property'].Wheel, StationFiltered[i]['propertyP1'].Wheel\n",
    "\n",
    "j = 0\n",
    "IndexSector = CheckSector(Sector[j], SectorP1)\n",
    "\n",
    "IndexWheel = CheckWheel(Wheel[j], WheelP1)\n",
    "\n",
    "IndexSector"
   ]
  },
  {
   "cell_type": "code",
   "execution_count": null,
   "metadata": {},
   "outputs": [],
   "source": [
    "#Creare una maschera che nasconda gli elementi che non sono conformi alla ricerca di HSCP o Muoni cosmici\n",
    "def CosmicMuons(StationFiltered, Number):\n",
    "\n",
    "   Mask = []\n",
    "\n",
    "   for i in tqdm.tqdm(range(Number)):\n",
    "\n",
    "      Station, StationP1  = StationFiltered[i]['property'].Station, StationFiltered[i]['propertyP1'].Station\n",
    "      Sector, SectorP1  = StationFiltered[i]['property'].Sector, StationFiltered[i]['propertyP1'].Sector\n",
    "      Wheel, WheelP1 = StationFiltered[i]['property'].Wheel, StationFiltered[i]['propertyP1'].Wheel\n",
    "      \n",
    "      if (StationFiltered[i]['nStubs'][0] == 1 and StationFiltered[i]['nStubs'][1] >= 1):\n",
    "\n",
    "         IndexSector = CheckSector(Sector, SectorP1)\n",
    "         IndexWheel = CheckWheel(Wheel, WheelP1)\n",
    "        \n",
    "         if (len(IndexSector) != 0 and len(IndexWheel) != 0):\n",
    "            Mask.append(i)\n",
    "\n",
    "      elif (StationFiltered[i]['nStubs'][0] > StationFiltered[i]['nStubs'][1]):\n",
    "         for j in range(StationFiltered[i]['nStubs'][0]):\n",
    "            ChkStation = CheckStation(Station[j], StationP1)\n",
    "\n",
    "            if (len(ChkStation != 0)):\n",
    "               IndexSector = CheckSector(Sector[j], SectorP1)\n",
    "               IndexWheel = CheckWheel(Wheel[j], WheelP1)\n",
    "\n",
    "               if (len(IndexSector) != 0 and len(IndexWheel) != 0):\n",
    "                  Mask.append(i)\n",
    "\n",
    "\n",
    "      else:\n",
    "         for j in range(StationFiltered[i]['nStubs'][0]):\n",
    "            IndexSector = CheckSector(Sector[j], SectorP1)\n",
    "            IndexWheel = CheckWheel(Wheel[j], WheelP1)\n",
    "\n",
    "            if (len(IndexSector) != 0 and len(IndexWheel) != 0):\n",
    "               Mask.append(i)\n",
    "\n",
    "         \n",
    "   return StationFiltered[Mask]"
   ]
  },
  {
   "cell_type": "code",
   "execution_count": 14,
   "metadata": {},
   "outputs": [
    {
     "name": "stderr",
     "output_type": "stream",
     "text": [
      "100%|██████████| 2000/2000 [00:09<00:00, 217.75it/s]\n"
     ]
    }
   ],
   "source": [
    "test = CosmicMuons(StationFiltered, 2000)"
   ]
  },
  {
   "cell_type": "code",
   "execution_count": 17,
   "metadata": {},
   "outputs": [
    {
     "data": {
      "text/html": [
       "<pre>{i: 25,\n",
       " nStubs: [2, 1],\n",
       " property: {Station: [1, 2], Sector: [11, 11], Wheel: [1, ...], PhiB: ..., ...},\n",
       " propertyP1: {Station: [3], Sector: [11], Wheel: [1], PhiB: [-3], ...}}\n",
       "--------------------------------------------------------------------------------\n",
       "type: {\n",
       "    i: int64,\n",
       "    nStubs: var * int64,\n",
       "    property: {\n",
       "        Station: var * int64,\n",
       "        Sector: var * int64,\n",
       "        Wheel: var * int64,\n",
       "        PhiB: var * int64,\n",
       "        Quality: var * int64\n",
       "    },\n",
       "    propertyP1: {\n",
       "        Station: var * int64,\n",
       "        Sector: var * int64,\n",
       "        Wheel: var * int64,\n",
       "        PhiB: var * int64,\n",
       "        Quality: var * int64,\n",
       "        NoE: var * int64\n",
       "    }\n",
       "}</pre>"
      ],
      "text/plain": [
       "<Record {i: 25, nStubs: [2, ...], ...} type='{i: int64, nStubs: var * int64...'>"
      ]
     },
     "execution_count": 17,
     "metadata": {},
     "output_type": "execute_result"
    }
   ],
   "source": [
    "test[0]"
   ]
  },
  {
   "cell_type": "code",
   "execution_count": null,
   "metadata": {},
   "outputs": [],
   "source": []
  }
 ],
 "metadata": {
  "kernelspec": {
   "display_name": "base",
   "language": "python",
   "name": "python3"
  },
  "language_info": {
   "codemirror_mode": {
    "name": "ipython",
    "version": 3
   },
   "file_extension": ".py",
   "mimetype": "text/x-python",
   "name": "python",
   "nbconvert_exporter": "python",
   "pygments_lexer": "ipython3",
   "version": "3.12.2"
  }
 },
 "nbformat": 4,
 "nbformat_minor": 2
}
