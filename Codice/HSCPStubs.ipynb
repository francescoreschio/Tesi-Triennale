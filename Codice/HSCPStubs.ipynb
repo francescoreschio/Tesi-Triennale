{
 "cells": [
  {
   "cell_type": "code",
   "execution_count": 1,
   "metadata": {},
   "outputs": [],
   "source": [
    "import numpy as np\n",
    "import matplotlib.pyplot as plt\n",
    "from mpl_toolkits.axes_grid1 import make_axes_locatable\n",
    "from matplotlib import ticker\n",
    "import awkward as ak\n",
    "import uproot \n",
    "import mplhep as hep\n",
    "import hist\n",
    "import os\n",
    "import time\n",
    "from numba import njit\n",
    "from matplotlib.colors import LogNorm\n",
    "import tqdm\n",
    "import pickle \n",
    "from numba import jit\n",
    "\n",
    "\n",
    "\n",
    "from UtilityAndConst import *\n",
    "from Functions import *\n",
    "\n",
    "dir = \"/Users/francescolarovere/Documents/Tesi-Triennale/Dati\"\n",
    "os.chdir(dir)\n",
    "\n",
    "hep.style.use(\"CMS\")\n",
    "np.set_printoptions(threshold=np.inf)"
   ]
  },
  {
   "cell_type": "code",
   "execution_count": 2,
   "metadata": {},
   "outputs": [],
   "source": [
    "files = [\n",
    "    \"./ntupleStubsBmtfGmt_LS133.root\",\n",
    "    \"./ntupleStubsBmtfGmt_LS263.root\",\n",
    "    \"./ntupleStubsBmtfGmt_LS264.root\",\n",
    "    \"./ntupleStubsBmtfGmt_LS306.root\",\n",
    "]\n",
    "\n",
    "stub_bmtf_gmt_features = [\n",
    "    'orbit', 'bx', 'nStubs', 'stubHwPhi', 'stubHwPhiB', 'stubHwQual', 'stubHwEta', 'stubHwQEta', 'stubStation', 'stubWheel', 'stubSector', 'stubTag',\n",
    "    'nBmtfMuons', 'bmtfHwPt', 'bmtfHwPtu', 'bmtfHwPhi', 'bmtfHwEta', 'bmtfPt', 'bmtfPtu', 'bmtfPhi', 'bmtfEta', 'bmtfHwSign', 'bmtfHwSignValid', \n",
    "    'bmtfHwDXY', 'bmtfHwQual', 'bmtfProcessor', \n",
    "    'nGmtMuons', 'gmtHwPt', 'gmtHwPtu', 'gmtHwPhi', 'gmtHwEta', 'gmtHwPhiAtVtx', 'gmtHwEtaAtVtx', 'gmtPt', 'gmtPtu', 'gmtPhi', 'gmtEta', \n",
    "    'gmtPhiAtVtx', 'gmtEtaAtVtx', 'gmtCharge', 'gmtDxy', 'gmtQual', 'gmtTfIndex']\n",
    "\n",
    "stub_bmtf_gmt_list = []\n",
    "for file in files:\n",
    "    with uproot.open(file) as f:\n",
    "        evs = f[\"bmtfNtuplizer/Events\"]\n",
    "        temp_awk = evs.arrays(stub_bmtf_gmt_features, library=\"ak\")\n",
    "        stub_bmtf_gmt_list.append(temp_awk)\n",
    "        \n",
    "bmtf_gmt = ak.concatenate(stub_bmtf_gmt_list, axis=0)\n",
    "\n"
   ]
  },
  {
   "cell_type": "code",
   "execution_count": 3,
   "metadata": {},
   "outputs": [],
   "source": [
    "bx = bmtf_gmt.bx\n",
    "nStubs = bmtf_gmt.nStubs\n",
    "stubsStation = bmtf_gmt.stubStation\n",
    "stubsSector = bmtf_gmt.stubSector\n",
    "stubsWheel = bmtf_gmt.stubWheel\n",
    "stubsPhiB = bmtf_gmt.stubHwPhiB\n",
    "stubsHwQual = bmtf_gmt.stubHwQual"
   ]
  },
  {
   "cell_type": "code",
   "execution_count": 4,
   "metadata": {},
   "outputs": [],
   "source": [
    "Features = [nStubs, stubsStation, stubsSector, stubsWheel, stubsPhiB, stubsHwQual]"
   ]
  },
  {
   "cell_type": "code",
   "execution_count": 5,
   "metadata": {},
   "outputs": [],
   "source": [
    "#Controlla che la stub successiva si trovi nella stazione dopo\n",
    "def CheckStation(Station, StationP1, Direction):\n",
    "\n",
    "   Diff = StationP1 - Station\n",
    "   Index = ak.where(Diff == Direction)[0]\n",
    "\n",
    "   return Index\n",
    "\n",
    "#Controlla che la Wheel successiva sia +- 1 della wheel corrente, tranne per le wheel estremali\n",
    "def CheckWheel(Wheel, WheelP1):\n",
    "   \n",
    "   IndexList = []\n",
    "\n",
    "   if (Wheel == -2):\n",
    "      Index = list(ak.where((WheelP1 == -1) | (WheelP1 == -2))[0])\n",
    "      IndexList.extend(Index)\n",
    "\n",
    "   elif (Wheel == 2):\n",
    "      Index = list(ak.where((WheelP1 == 1) | (WheelP1 == 2))[0])\n",
    "      IndexList.extend(Index)\n",
    "\n",
    "   else:\n",
    "      Diff = Wheel - WheelP1\n",
    "      Index = list(ak.where((Diff == -1) | (Diff == 0) | (Diff == 1))[0])\n",
    "      IndexList.extend(Index)\n",
    "\n",
    "   return ak.Array(IndexList)\n",
    "\n",
    "#Controlla che il settore successivo sia adiacente al settore corrente. Applica operazione ciclica per settori 11 e 0\n",
    "def CheckSector(Sector, SectorP1):\n",
    "   \n",
    "   IndexList = []\n",
    "\n",
    "   if (Sector == 11):\n",
    "      Index = list(ak.where((SectorP1 == 10) | (SectorP1 == 11) | (SectorP1 == 0))[0])\n",
    "      IndexList.extend(Index)\n",
    "\n",
    "   elif (Sector == 0):\n",
    "      Index = list(ak.where((SectorP1 == 11) | (SectorP1 == 0)| (SectorP1 == 1))[0])\n",
    "      IndexList.extend(Index)\n",
    "\n",
    "   else:\n",
    "      Diff = Sector - SectorP1\n",
    "      Index = list(ak.where((Diff == -1) | (Diff == 0) | (Diff == 1))[0])\n",
    "      IndexList.extend(Index)\n",
    "\n",
    "   return ak.Array(IndexList)"
   ]
  },
  {
   "cell_type": "code",
   "execution_count": 6,
   "metadata": {},
   "outputs": [],
   "source": [
    "def SearchHSCP_StationLevel(Features, bx, Number, Direction):\n",
    "\n",
    "   #If direction == 1 looks forward, if == -1 looks backward\n",
    "   \n",
    "   Property = []\n",
    "\n",
    "   #Feature: 0 == Stubs, 1 == Station, 2 == Sector, 3 == Wheel, 4 == PhiB, 5 == Quality\n",
    "\n",
    "   for i in tqdm.tqdm(range(Number - 1)):\n",
    "\n",
    "      BoolChkStation = []      \n",
    "\n",
    "      Dic = {}\n",
    "      DicP1 = {}\n",
    "\n",
    "      #Inizializzo dizionari\n",
    "      for feature in ['Station', 'Sector', 'Wheel', 'PhiB', 'Quality']:\n",
    "         Dic[feature] = []\n",
    "         DicP1[feature] = []\n",
    "\n",
    "      \n",
    "      if ((Features[0][i] == 1 and Features[0][i+1] == 1) and Features[1][i+1] != Features[1][i] + Direction):\n",
    "         continue\n",
    "\n",
    "      elif (Direction == -1 and (Features[0][i] == 1 and Features[0][i+1] == 1) and Features[1][i] == 1):\n",
    "         continue\n",
    "      \n",
    "      #Caso in cui ci sia solo 1 elemento nell'iesimo BX e 1 elemento nel BX successivo\n",
    "      elif ((Features[0][i] == 1 and Features[0][i+1] == 1) and Features[1][i+1] == Features[1][i] + Direction and Features[1][i] != 4):\n",
    "         nStubs = [Features[0][i], Features[0][i+1]]    \n",
    "\n",
    "         Dic['Station'].extend(Features[1][i])\n",
    "         Dic['Sector'].extend(Features[2][i])\n",
    "         Dic['Wheel'].extend(Features[3][i])\n",
    "         Dic['PhiB'].extend(Features[4][i])\n",
    "         Dic['Quality'].extend(Features[5][i])\n",
    "\n",
    "         DicP1['Station'].extend(Features[1][i+1])\n",
    "         DicP1['Sector'].extend(Features[2][i+1])\n",
    "         DicP1['Wheel'].extend(Features[3][i+1])\n",
    "         DicP1['PhiB'].extend(Features[4][i+1])\n",
    "         DicP1['Quality'].extend(Features[5][i+1])\n",
    "\n",
    "      \n",
    "      #Controllo duplicati viene fatto più avanti per ridurre i missmatch\n",
    "\n",
    "      elif (Features[0][i] > Features[0][i+1]):\n",
    "         for j in range(Features[0][i]):\n",
    "            ChkStation = CheckStation(Features[1][i][j], Features[1][i+1], Direction)\n",
    "            \n",
    "            if (len(ChkStation) != 0):\n",
    "               nStubs = [Features[0][i], Features[0][i+1]]\n",
    "               \n",
    "               keys = ['Station', 'Sector', 'Wheel', 'PhiB', 'Quality']\n",
    "               for idx, key in enumerate(keys, start=1):\n",
    "                  Dic[key].append(Features[idx][i][j])\n",
    "                  \n",
    "               # Assegnazioni per l'elemento successivo (P1)\n",
    "               for idx, key in enumerate(keys, start=1):\n",
    "                  DicP1[key].extend([Features[idx][i+1][k] for k in ChkStation])\n",
    "\n",
    "\n",
    "      else:\n",
    "         #Tutti gli altri casi\n",
    "         for j in range(Features[0][i]):\n",
    "            ChkStation = CheckStation(Features[1][i][j], Features[1][i+1], Direction)\n",
    "            nStubs = [Features[0][i], Features[0][i+1]]\n",
    "\n",
    "            if (len(ChkStation) == 0):\n",
    "               BoolChkStation.append(False)\n",
    "            else:\n",
    "               BoolChkStation.append(True)\n",
    "\n",
    "         if (np.any(np.array(BoolChkStation))):\n",
    "            keys = ['Station', 'Sector', 'Wheel', 'PhiB', 'Quality']\n",
    "            for idx, key in enumerate(keys, start=1):\n",
    "               Dic[key].append(Features[idx][i][j])\n",
    "               \n",
    "            for idx, key in enumerate(keys, start=1):\n",
    "               DicP1[key].extend([Features[idx][i+1][k] for k in ChkStation])\n",
    "\n",
    "      if (len(Dic['Station']) != 0):\n",
    "\n",
    "         Dictionary = {\n",
    "            'i': i,\n",
    "            'bx': bx[i],\n",
    "            'nStubs': nStubs,\n",
    "            'property': Dic,\n",
    "            'propertyP1': DicP1\n",
    "         }\n",
    "\n",
    "\n",
    "         Property.append(Dictionary)\n",
    "\n",
    "\n",
    "   return ak.Array(Property)\n",
    "   "
   ]
  },
  {
   "cell_type": "code",
   "execution_count": null,
   "metadata": {},
   "outputs": [
    {
     "name": "stderr",
     "output_type": "stream",
     "text": [
      "100%|██████████| 999999/999999 [08:43<00:00, 1910.51it/s]\n"
     ]
    }
   ],
   "source": [
    "StationFilteredForward = SearchHSCP_StationLevel(Features, bx, 1_000_000, 1) # len(Features[0])\n",
    "\n",
    "with open('StationFilteredForward.pkl', 'wb') as f:\n",
    "   pickle.dump(StationFilteredForward, f)\n",
    "\n",
    "# with open('StationFilteredForword.pkl', 'rb') as f:\n",
    "#     StationFilteredForword = pickle.load(f)"
   ]
  },
  {
   "cell_type": "code",
   "execution_count": 9,
   "metadata": {},
   "outputs": [],
   "source": [
    "# with open('StationFiltered.pkl', 'rb') as f:\n",
    "#     StationFiltered = pickle.load(f)"
   ]
  },
  {
   "cell_type": "code",
   "execution_count": null,
   "metadata": {},
   "outputs": [
    {
     "name": "stderr",
     "output_type": "stream",
     "text": [
      "100%|██████████| 999999/999999 [09:05<00:00, 1834.25it/s]\n"
     ]
    }
   ],
   "source": [
    "StationFilteredBackward = SearchHSCP_StationLevel(Features, bx, 1_000_000, -1)\n",
    "\n",
    "with open('StationFilteredBackward.pkl', 'wb') as f:\n",
    "   pickle.dump(StationFilteredBackward, f)\n",
    "\n",
    "# with open('StationFilteredBackward.pkl', 'rb') as f:\n",
    "#     StationFilteredBackward = pickle.load(f)"
   ]
  },
  {
   "cell_type": "code",
   "execution_count": 11,
   "metadata": {},
   "outputs": [
    {
     "data": {
      "text/html": [
       "<pre>[{Station: [2], Sector: [1], Wheel: [-2], PhiB: [8], Quality: [5]},\n",
       " {Station: [2], Sector: [11], Wheel: [1], PhiB: [-182], Quality: [2]},\n",
       " {Station: [4], Sector: [3], Wheel: [0], PhiB: [492], Quality: [3]},\n",
       " {Station: [3], Sector: [8], Wheel: [0], PhiB: [18], Quality: [5]},\n",
       " {Station: [2], Sector: [4], Wheel: [2], PhiB: [72], Quality: [6]},\n",
       " {Station: [2], Sector: [11], Wheel: [2], PhiB: [479], Quality: [3]},\n",
       " {Station: [2], Sector: [8], Wheel: [-2], PhiB: [244], Quality: [3]},\n",
       " {Station: [2], Sector: [2], Wheel: [2], PhiB: [-84], Quality: [3]},\n",
       " {Station: [3], Sector: [0], Wheel: [1], PhiB: [309], Quality: [2]},\n",
       " {Station: [2], Sector: [9], Wheel: [0], PhiB: [68], Quality: [6]},\n",
       " ...,\n",
       " {Station: [2], Sector: [11], Wheel: [-2], PhiB: [-53], Quality: [4]},\n",
       " {Station: [2], Sector: [3], Wheel: [2], PhiB: [12], Quality: [6]},\n",
       " {Station: [1], Sector: [0], Wheel: [1], PhiB: [-308], Quality: [4]},\n",
       " {Station: [2, 2], Sector: [10, 10], Wheel: [0, 0], PhiB: [...], ...},\n",
       " {Station: [3], Sector: [3], Wheel: [-2], PhiB: [51], Quality: [5]},\n",
       " {Station: [2], Sector: [10], Wheel: [1], PhiB: [-150], Quality: [3]},\n",
       " {Station: [2], Sector: [10], Wheel: [0], PhiB: [297], Quality: [4]},\n",
       " {Station: [2], Sector: [8], Wheel: [1], PhiB: [144], Quality: [2]},\n",
       " {Station: [2], Sector: [10], Wheel: [1], PhiB: [25], Quality: [2]}]\n",
       "----------------------------------------------------------------------\n",
       "type: 336862 * {\n",
       "    Station: var * int64,\n",
       "    Sector: var * int64,\n",
       "    Wheel: var * int64,\n",
       "    PhiB: var * int64,\n",
       "    Quality: var * int64\n",
       "}</pre>"
      ],
      "text/plain": [
       "<Array [{Station: [2], Sector: [1], ...}, ...] type='336862 * {Station: var...'>"
      ]
     },
     "execution_count": 11,
     "metadata": {},
     "output_type": "execute_result"
    }
   ],
   "source": [
    "StationFilteredBackward.property"
   ]
  },
  {
   "cell_type": "code",
   "execution_count": 13,
   "metadata": {},
   "outputs": [],
   "source": [
    "#Creare una maschera che nasconda gli elementi che non sono conformi alla ricerca di HSCP o Muoni cosmici\n",
    "def CosmicMuons(StationFiltered):\n",
    "\n",
    "   Mask = []\n",
    "\n",
    "   for i in tqdm.tqdm(range(len(StationFiltered))):\n",
    "\n",
    "      Sector, SectorP1 = StationFiltered[i]['property'].Sector, StationFiltered[i]['propertyP1'].Sector\n",
    "      Wheel, WheelP1 = StationFiltered[i]['property'].Wheel, StationFiltered[i]['propertyP1'].Wheel\n",
    "\n",
    "      property = StationFiltered[i]['property']\n",
    "      propertyP1 = StationFiltered[i]['propertyP1']\n",
    "      \n",
    "      if (len(property.Station) == 1 and len(propertyP1.Station) >= 1):\n",
    "\n",
    "         IndexSector = CheckSector(Sector, SectorP1)\n",
    "         IndexWheel = CheckWheel(Wheel, WheelP1)\n",
    "        \n",
    "         if (len(IndexSector) != 0 and len(IndexWheel) != 0):\n",
    "            Mask.append(i)\n",
    "\n",
    "      else:\n",
    "         for j in range(len(property.Station)):\n",
    "            IndexSector = CheckSector(Sector[j], SectorP1)\n",
    "            IndexWheel = CheckWheel(Wheel[j], WheelP1)\n",
    "\n",
    "            if (len(IndexSector) != 0 and len(IndexWheel) != 0):\n",
    "               Mask.append(i)\n",
    "\n",
    "         \n",
    "   return StationFiltered[Mask]"
   ]
  },
  {
   "cell_type": "code",
   "execution_count": null,
   "metadata": {},
   "outputs": [],
   "source": [
    "CosmicMuonsPropertyForward = CosmicMuons(StationFilteredForward)\n",
    "\n",
    "with open('CosmicMuonsPropertyForward.pkl', 'wb') as f:\n",
    "   pickle.dump(CosmicMuonsPropertyForward, f)\n",
    "\n",
    "# with open('CosmicMuonsPropertyForward.pkl', 'rb') as f:\n",
    "#     CosmicMuonsPropertyForward = pickle.load(f)"
   ]
  },
  {
   "cell_type": "code",
   "execution_count": 16,
   "metadata": {},
   "outputs": [
    {
     "name": "stderr",
     "output_type": "stream",
     "text": [
      "100%|██████████| 336862/336862 [10:52<00:00, 516.34it/s]\n"
     ]
    }
   ],
   "source": [
    "CosmicMuonsPropertyBackward = CosmicMuons(StationFilteredBackward)\n",
    "\n",
    "with open('CosmicMuonsPropertyBackward.pkl', 'wb') as f:\n",
    "   pickle.dump(CosmicMuonsPropertyBackward, f)\n",
    "\n",
    "# with open('CosmicMuonsPropertyBackward.pkl', 'rb') as f:\n",
    "#     CosmicMuonsPropertyBackward = pickle.load(f)"
   ]
  },
  {
   "cell_type": "code",
   "execution_count": null,
   "metadata": {},
   "outputs": [],
   "source": [
    "# with open('CosmicMuonsProperty.pkl', 'wb') as f:\n",
    "#    pickle.dump(CosmicMuonsProperty, f)\n",
    "\n",
    "# with open('CosmicMuonsProperty.pkl', 'rb') as f:\n",
    "#     CosmicMuonsProperty = pickle.load(f)"
   ]
  },
  {
   "cell_type": "code",
   "execution_count": 29,
   "metadata": {},
   "outputs": [
    {
     "data": {
      "text/html": [
       "<pre>[{Station: [3], Sector: [0], Wheel: [1], PhiB: [309], Quality: [2]},\n",
       " {Station: [2], Sector: [3], Wheel: [-1], PhiB: [117], Quality: [6]},\n",
       " {Station: [2], Sector: [0], Wheel: [-2], PhiB: [183], Quality: [2]},\n",
       " {Station: [2, 2], Sector: [1, 7], Wheel: [-1, -2], PhiB: [...], ...},\n",
       " {Station: [2], Sector: [0], Wheel: [2], PhiB: [74], Quality: [3]},\n",
       " {Station: [2], Sector: [1], Wheel: [2], PhiB: [-44], Quality: [2]},\n",
       " {Station: [2, 3], Sector: [1, 1], Wheel: [2, 2], PhiB: [...], ...},\n",
       " {Station: [2, 3], Sector: [1, 1], Wheel: [2, 2], PhiB: [...], ...},\n",
       " {Station: [2], Sector: [10], Wheel: [-1], PhiB: [-152], Quality: [5]},\n",
       " {Station: [3], Sector: [6], Wheel: [1], PhiB: [-1], Quality: [6]},\n",
       " ...,\n",
       " {Station: [2], Sector: [10], Wheel: [2], PhiB: [2], Quality: [5]},\n",
       " {Station: [2], Sector: [7], Wheel: [-2], PhiB: [122], Quality: [2]},\n",
       " {Station: [3], Sector: [6], Wheel: [-1], PhiB: [-88], Quality: [6]},\n",
       " {Station: [2], Sector: [3], Wheel: [-2], PhiB: [-85], Quality: [3]},\n",
       " {Station: [2, 2], Sector: [10, 10], Wheel: [0, 0], PhiB: [...], ...},\n",
       " {Station: [2, 2], Sector: [10, 10], Wheel: [0, 0], PhiB: [...], ...},\n",
       " {Station: [2], Sector: [10], Wheel: [1], PhiB: [-150], Quality: [3]},\n",
       " {Station: [2], Sector: [8], Wheel: [1], PhiB: [144], Quality: [2]},\n",
       " {Station: [2], Sector: [10], Wheel: [1], PhiB: [25], Quality: [2]}]\n",
       "-----------------------------------------------------------------------\n",
       "type: 71075 * {\n",
       "    Station: var * int64,\n",
       "    Sector: var * int64,\n",
       "    Wheel: var * int64,\n",
       "    PhiB: var * int64,\n",
       "    Quality: var * int64\n",
       "}</pre>"
      ],
      "text/plain": [
       "<Array [{Station: [3], Sector: [0], ...}, ...] type='71075 * {Station: var ...'>"
      ]
     },
     "execution_count": 29,
     "metadata": {},
     "output_type": "execute_result"
    }
   ],
   "source": [
    "CosmicMuonsPropertyBackward.property"
   ]
  },
  {
   "cell_type": "code",
   "execution_count": null,
   "metadata": {},
   "outputs": [],
   "source": [
    "def PhiCosmicMuons(CosmicMuonsProperty, bx, Sector):\n",
    "   Neg, Pos = [], []\n",
    "\n",
    "   for i in tqdm.tqdm(range(len(CosmicMuonsProperty))):\n",
    "      Dic, DicP1 = {}, {}\n",
    "\n",
    "      for feature in ['Station', 'Sector', 'Wheel', 'PhiB', 'Quality']:\n",
    "         Dic[feature] = []\n",
    "         DicP1[feature] = []\n",
    "\n",
    "      for j in range(len(CosmicMuonsProperty[i]['property'].Station)):\n",
    "\n",
    "         IndexSector = CheckSector(CosmicMuonsProperty[i]['property'].Sector[j], CosmicMuonsProperty[i]['propertyP1'].Sector)\n",
    "         IndexWheel = CheckWheel(CosmicMuonsProperty[i]['property'].Wheel[j], CosmicMuonsProperty[i]['propertyP1'].Wheel)\n",
    "\n",
    "         if len(IndexSector) > 0:\n",
    "            IndexSector = IndexSector[0]\n",
    "         else:\n",
    "            IndexSector = None\n",
    "\n",
    "         if len(IndexWheel) > 0:\n",
    "            IndexWheel = IndexWheel[0]\n",
    "         else:\n",
    "            IndexWheel = None\n",
    "\n",
    "         if IndexSector is not None and IndexWheel is not None:\n",
    "            Dic['Station'].append(CosmicMuonsProperty[i]['property'].Station[j])\n",
    "            DicP1['Station'].append(CosmicMuonsProperty[i]['propertyP1'].Station[j])\n",
    "\n",
    "            Dic['Sector'].append(CosmicMuonsProperty[i]['property'].Sector[j])\n",
    "            DicP1['Sector'].append(CosmicMuonsProperty[i]['propertyP1'].Sector[IndexSector])\n",
    "\n",
    "            Dic['Wheel'].append(CosmicMuonsProperty[i]['property'].Wheel[j])\n",
    "            DicP1['Wheel'].append(CosmicMuonsProperty[i]['propertyP1'].Wheel[IndexWheel])\n",
    "\n",
    "            Dic['PhiB'].append(CosmicMuonsProperty[i]['property'].PhiB[j])\n",
    "            DicP1['PhiB'].append(CosmicMuonsProperty[i]['propertyP1'].PhiB[j])\n",
    "\n",
    "            Dic['Quality'].append(CosmicMuonsProperty[i]['property'].Quality[j])\n",
    "            DicP1['Quality'].append(CosmicMuonsProperty[i]['propertyP1'].Quality[j])\n",
    "\n",
    "            if (CosmicMuonsProperty[i]['property'].Sector[j] in Sector):\n",
    "               NegativeDictionary = {\n",
    "                  'i': CosmicMuonsProperty[i]['i'],\n",
    "                  'bx': bx[CosmicMuonsProperty[i]['i']],\n",
    "                  'property': Dic,\n",
    "                  'propertyP1': DicP1\n",
    "               }\n",
    "               Neg.append(NegativeDictionary)\n",
    "\n",
    "\n",
    "   return ak.Array(Neg)"
   ]
  },
  {
   "cell_type": "code",
   "execution_count": null,
   "metadata": {},
   "outputs": [],
   "source": [
    "Foreward = PhiCosmicMuons(CosmicMuonsPropertyForeward, bx, [0, 11, 10, 9, 8, 7])\n",
    "\n",
    "# with open('Foreward.pkl', 'wb') as f:\n",
    "#    pickle.dump(Foreward, f)\n",
    "\n",
    "with open('Foreward.pkl', 'rb') as f:\n",
    "   Foreward = pickle.load(f)"
   ]
  },
  {
   "cell_type": "code",
   "execution_count": null,
   "metadata": {},
   "outputs": [],
   "source": [
    "Backward = PhiCosmicMuons(CosmicMuonsPropertyBackward, bx, [1, 2, 3, 4, 5, 6])\n",
    "\n",
    "# with open('Backward.pkl', 'wb') as f:\n",
    "#    pickle.dump(Backward, f)\n",
    "\n",
    "with open('Backward.pkl', 'rb') as f:\n",
    "   Backward = pickle.load(f)"
   ]
  },
  {
   "cell_type": "code",
   "execution_count": null,
   "metadata": {},
   "outputs": [],
   "source": [
    "# with open('Neg.pkl', 'wb') as f:\n",
    "#    pickle.dump(Neg, f)\n",
    "\n",
    "# with open('Pos.pkl', 'wb') as f:\n",
    "#    pickle.dump(Pos, f)\n",
    "\n",
    "# with open('Neg.pkl', 'rb') as f:\n",
    "#     Neg = pickle.load(f)\n",
    "\n",
    "# with open('Pos.pkl', 'rb') as f:\n",
    "#    Pos = pickle.load(f)"
   ]
  },
  {
   "cell_type": "code",
   "execution_count": null,
   "metadata": {},
   "outputs": [],
   "source": [
    "Neg"
   ]
  },
  {
   "cell_type": "code",
   "execution_count": null,
   "metadata": {},
   "outputs": [],
   "source": [
    "BunchCrossing = bx[CosmicMuonsProperty['i']]\n",
    "BunchCrossingNeg = bx[Neg['i']]\n",
    "BunchCrossingPos = bx[Pos['i']]"
   ]
  },
  {
   "cell_type": "code",
   "execution_count": null,
   "metadata": {},
   "outputs": [],
   "source": [
    "bx_range = np.arange(ONE_ORBIT_IN_BX + 2)\n",
    "\n",
    "BinCountNeg = np.bincount(BunchCrossingNeg)\n",
    "BinCountPos = np.bincount(BunchCrossingPos)\n",
    "\n",
    "fig, ax = plt.subplots(figsize= FIGSIZE, constrained_layout=True)\n",
    "\n",
    "set_label_font(ax, FONTSIZE)\n",
    "set_tick_font(ax, FONTSIZE - 2)\n",
    "draw_cms_label(ax, fontsize= FONTSIZE)\n",
    "\n",
    "ax.hist(bx_range[:-1], bins=bx_range, weights=ConvertToHz(BinCountPos), histtype='step', label=r'Positive $\\phi$')\n",
    "#ax.hist(bx_range[:-1], bins=bx_range, weights=ConvertToHz(BinCountNeg), histtype='step', label=r'Negative $\\phi$')\n",
    "\n",
    "ax.set_xlabel('BX number')\n",
    "ax.set_ylabel('Stub')\n",
    "ax.set_xlim(0, ONE_ORBIT_IN_BX)\n",
    "#ax.set_ylim(0.1, 15)\n",
    "ax.set_xlim(1840, 2260)\n",
    "ax.legend()\n",
    "\n",
    "ax.set_yscale('log')"
   ]
  },
  {
   "cell_type": "code",
   "execution_count": null,
   "metadata": {},
   "outputs": [],
   "source": [
    "nBmtf = bmtf_gmt.nBmtfMuons\n",
    "BmtfPt = bmtf_gmt.bmtfPt\n",
    "BmtfPhi = bmtf_gmt.bmtfPhi\n",
    "BmtfEta = bmtf_gmt.bmtfEta\n",
    "BmtfSign = bmtf_gmt.bmtfHwSign\n",
    "BmtfSignValid = bmtf_gmt.bmtfHwSignValid\n",
    "\n",
    "\n",
    "FeaturesBMTF = [nBmtf, BmtfPt, BmtfPhi, BmtfEta, BmtfSign, BmtfSignValid]"
   ]
  },
  {
   "cell_type": "code",
   "execution_count": null,
   "metadata": {},
   "outputs": [],
   "source": [
    "i = 0\n",
    "Neg[i]['i']\n",
    "#Features[0][Neg[i]['i']]"
   ]
  },
  {
   "cell_type": "code",
   "execution_count": null,
   "metadata": {},
   "outputs": [],
   "source": [
    "def MatchBMTF(Stubs, bx, Features):\n",
    "\n",
    "   #Feature: 0 == nBmtf, 1 == Pt, 2 == Phi, 3 == Eta, 4 == Sign, 5 == SignValid\n",
    "\n",
    "   BMTFArray = []\n",
    "\n",
    "   for i in tqdm.tqdm(range(len(Stubs))):\n",
    "\n",
    "      Dic = {}\n",
    "      DicP1 = {}\n",
    "\n",
    "      for feature in ['nBmtf', 'Pt', 'Phi', 'Eta', 'Sign', 'SignValid']:\n",
    "         Dic[feature] = []\n",
    "         DicP1[feature] = []\n",
    "\n",
    "      if Features[0][Stubs[i]['i']] > 0 and Features[0][Stubs[i]['i'] + 1] > 0:\n",
    "         keys = ['nBmtf', 'Pt', 'Phi', 'Eta', 'Sign', 'SignValid']\n",
    "         for idx, key in enumerate(keys):\n",
    "            Dic[key].append(Features[idx][Stubs[i]['i']])\n",
    "            DicP1[key].append(Features[idx][Stubs[i]['i'] + 1])\n",
    "\n",
    "      \n",
    "         Dictionary = {\n",
    "            'i': Stubs[i]['i'],\n",
    "            'bx': bx[Stubs[i]['i']],\n",
    "            'property': Dic,\n",
    "            'propertyP1': DicP1,\n",
    "            'Stubs': Stubs[i]\n",
    "         }\n",
    "\n",
    "\n",
    "         BMTFArray.append(Dictionary)\n",
    "\n",
    "   return ak.Array(BMTFArray)"
   ]
  },
  {
   "cell_type": "code",
   "execution_count": null,
   "metadata": {},
   "outputs": [],
   "source": [
    "NegBMTFMatch = MatchBMTF(Neg, bx, FeaturesBMTF)\n",
    "PosBMTFMatch = MatchBMTF(Pos, bx, FeaturesBMTF)"
   ]
  },
  {
   "cell_type": "code",
   "execution_count": null,
   "metadata": {},
   "outputs": [],
   "source": [
    "# with open('NegBMTFMatch.pkl', 'wb') as f:\n",
    "#    pickle.dump(NegBMTFMatch, f)\n",
    "\n",
    "# with open('PosBMTFMatch.pkl', 'wb') as f:\n",
    "#    pickle.dump(PosBMTFMatch, f)\n",
    "\n",
    "\n",
    "with open('NegBMTFMatch.pkl', 'rb') as f:\n",
    "    NegBMTFMatch = pickle.load(f)\n",
    "\n",
    "with open('PosBMTFMatch.pkl', 'rb') as f:\n",
    "   PosBMTFMatch = pickle.load(f)"
   ]
  },
  {
   "cell_type": "code",
   "execution_count": null,
   "metadata": {},
   "outputs": [],
   "source": [
    "NegBMTFMatch.property"
   ]
  },
  {
   "cell_type": "code",
   "execution_count": null,
   "metadata": {},
   "outputs": [],
   "source": [
    "np.min(ak.ravel(PosBMTFMatch['propertyP1'].SignValid))"
   ]
  },
  {
   "cell_type": "code",
   "execution_count": null,
   "metadata": {},
   "outputs": [],
   "source": [
    "fig, ax = plt.subplots(figsize= FIGSIZE, constrained_layout=True)\n",
    "\n",
    "set_label_font(ax, FONTSIZE)\n",
    "set_tick_font(ax, FONTSIZE - 2)\n",
    "draw_cms_label(ax, fontsize= FONTSIZE)\n",
    "\n",
    "ax.hist(ak.ravel(NegBMTFMatch['property'].Pt), bins = 250, label='Vertex-constrained $p_T$', histtype='step', linewidth = 1.5)\n",
    "\n",
    "ax.set_xlabel(r'$p_T$ [GeV/c]')\n",
    "ax.set_ylabel(r'BMTF events / 1 GeV')\n",
    "ax.set_axisbelow(True)\n",
    "\n",
    "ax.legend()\n",
    "\n",
    "ax.grid(visible=True, axis='y')\n",
    "ax.set_yscale('log')\n",
    "\n",
    "#plt.savefig(\"../Immagini/BMTF_PtPtu.pdf\")"
   ]
  },
  {
   "cell_type": "code",
   "execution_count": null,
   "metadata": {},
   "outputs": [],
   "source": [
    "binsPhi = np.array(np.arange(-np.pi, np.pi + 0.1, 0.52))\n",
    "binsEta = np.array(np.arange(-1, 1.1, 0.2))\n",
    "\n",
    "\n",
    "hist2d = hist.Hist(\n",
    "    hist.axis.Variable(binsEta, name='Eta', label=\"Eta\"),\n",
    "    hist.axis.Variable(binsPhi, name='Phi', label=\"Phi\"),\n",
    ")\n",
    "hist2d.fill(Phi=ak.ravel(NegBMTFMatch['property'].Phi), Eta=ak.ravel(NegBMTFMatch['property'].Eta))\n",
    "\n",
    "fig, ax = plt.subplots(figsize=(12, 8), constrained_layout=True)\n",
    "set_label_font(ax, FONTSIZE)\n",
    "set_tick_font(ax, FONTSIZE-2)\n",
    "draw_grid(ax, axis=\"y\")\n",
    "draw_cms_label(ax, fontsize=FONTSIZE, label=\"Work in Progress\", rlabel=\"L1 Trigger Scouting 2024 (13.6 TeV)\")\n",
    "\n",
    "from matplotlib.colors import LogNorm\n",
    "\n",
    "\n",
    "hep.hist2dplot(hist2d, cbar=True, cmap='Blues', ax=ax,)\n",
    "\n",
    "cbar = ax.collections[0].colorbar\n",
    "cbar.set_label('BMTF Events', fontsize=FONTSIZE)\n",
    "\n",
    "#Notazione scientifica\n",
    "cbar.formatter = ticker.ScalarFormatter(useMathText=True)\n",
    "cbar.formatter.set_scientific(True)  \n",
    "cbar.formatter.set_powerlimits((-2, 2))  \n",
    "cbar.update_ticks() \n",
    "\n",
    "ax.set_xlabel(r'$\\eta$')\n",
    "ax.set_ylabel(r'$\\phi$ [rad]')\n",
    "\n",
    "ax.tick_params(axis='both', which='both', length=0, labelsize = FONTSIZE - 5)\n",
    "\n",
    "# plt.savefig(\"../Immagini/BMTFPhiEta.pdf\")\n",
    "# plt.savefig(\"../Immagini/ImmaginiPNG/BMTFPhiEta.png\")\n",
    "\n",
    "plt.show()\n"
   ]
  },
  {
   "cell_type": "code",
   "execution_count": null,
   "metadata": {},
   "outputs": [],
   "source": []
  }
 ],
 "metadata": {
  "kernelspec": {
   "display_name": "base",
   "language": "python",
   "name": "python3"
  },
  "language_info": {
   "codemirror_mode": {
    "name": "ipython",
    "version": 3
   },
   "file_extension": ".py",
   "mimetype": "text/x-python",
   "name": "python",
   "nbconvert_exporter": "python",
   "pygments_lexer": "ipython3",
   "version": "3.12.2"
  }
 },
 "nbformat": 4,
 "nbformat_minor": 2
}
