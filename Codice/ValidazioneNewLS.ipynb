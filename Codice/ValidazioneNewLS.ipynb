{
 "cells": [
  {
   "cell_type": "code",
   "execution_count": 1,
   "metadata": {},
   "outputs": [],
   "source": [
    "import numpy as np\n",
    "import matplotlib.pyplot as plt\n",
    "from mpl_toolkits.axes_grid1 import make_axes_locatable\n",
    "from matplotlib import ticker\n",
    "import awkward as ak\n",
    "import uproot \n",
    "import mplhep as hep\n",
    "import hist\n",
    "import os\n",
    "import time\n",
    "from matplotlib.colors import LogNorm\n",
    "import tqdm\n",
    "import pickle \n",
    "\n",
    "\n",
    "\n",
    "from UtilityAndConst import *\n",
    "from Functions import *\n",
    "\n",
    "dir = \"/Users/francescolarovere/Documents/Tesi-Triennale/Dati\"\n",
    "os.chdir(dir)\n",
    "\n",
    "hep.style.use(\"CMS\")\n",
    "np.set_printoptions(threshold=np.inf)"
   ]
  },
  {
   "cell_type": "code",
   "execution_count": 2,
   "metadata": {},
   "outputs": [],
   "source": [
    "files = [\n",
    "    \"./ntupleStubsBmtfGmt_LS122.root\",\n",
    "    \"./ntupleStubsBmtfGmt_LS133.root\",\n",
    "    \"./ntupleStubsBmtfGmt_LS159.root\",\n",
    "    \"./ntupleStubsBmtfGmt_LS170.root\",\n",
    "    \"./ntupleStubsBmtfGmt_LS214.root\",\n",
    "    \"./ntupleStubsBmtfGmt_LS237.root\",\n",
    "    \"./ntupleStubsBmtfGmt_LS251.root\",\n",
    "    \"./ntupleStubsBmtfGmt_LS258.root\",\n",
    "    \"./ntupleStubsBmtfGmt_LS263.root\",\n",
    "    \"./ntupleStubsBmtfGmt_LS264.root\",\n",
    "    \"./ntupleStubsBmtfGmt_LS277.root\",\n",
    "    \"./ntupleStubsBmtfGmt_LS290.root\",\n",
    "    \"./ntupleStubsBmtfGmt_LS299.root\",\n",
    "    \"./ntupleStubsBmtfGmt_LS306.root\",\n",
    "]\n",
    "\n",
    "stub_bmtf_gmt_features = [\n",
    "    'orbit', 'bx', 'nStubs', 'stubHwPhi', 'stubHwPhiB', 'stubHwQual', 'stubHwEta', 'stubHwQEta', 'stubStation', 'stubWheel', 'stubSector', 'stubTag',\n",
    "    'nBmtfMuons', 'bmtfHwPt', 'bmtfHwPtu', 'bmtfHwPhi', 'bmtfHwEta', 'bmtfPt', 'bmtfPtu', 'bmtfPhi', 'bmtfEta', 'bmtfHwSign', 'bmtfHwSignValid', \n",
    "    'bmtfHwDXY', 'bmtfHwQual', 'bmtfProcessor', \n",
    "    'nGmtMuons', 'gmtHwPt', 'gmtHwPtu', 'gmtHwPhi', 'gmtHwEta', 'gmtHwPhiAtVtx', 'gmtHwEtaAtVtx', 'gmtPt', 'gmtPtu', 'gmtPhi', 'gmtEta', \n",
    "    'gmtPhiAtVtx', 'gmtEtaAtVtx', 'gmtCharge', 'gmtDxy', 'gmtQual', 'gmtTfIndex']\n",
    "\n",
    "stub_bmtf_gmt_list = []\n",
    "for file in files:\n",
    "    with uproot.open(file) as f:\n",
    "        evs = f[\"bmtfNtuplizer/Events\"]\n",
    "        temp_awk = evs.arrays(stub_bmtf_gmt_features, library=\"ak\")\n",
    "        stub_bmtf_gmt_list.append(temp_awk)\n",
    "\n",
    "Array = ak.concatenate(stub_bmtf_gmt_list)"
   ]
  },
  {
   "cell_type": "code",
   "execution_count": null,
   "metadata": {},
   "outputs": [],
   "source": [
    "bx_range = np.arange(ONE_ORBIT_IN_BX + 2)\n",
    "\n",
    "bx_stub_counts1 = np.bincount(Array.bx, weights=Array.nStubs)\n",
    "\n",
    "fig, ax = plt.subplots(figsize= FIGSIZE, constrained_layout=True)\n",
    "\n",
    "set_label_font(ax, FONTSIZE)\n",
    "set_tick_font(ax, FONTSIZE - 2)\n",
    "MOREdraw_cms_label(ax, fontsize= FONTSIZE)\n",
    "\n",
    "ax.hist(bx_range[:-1], bins=bx_range, weights=ConvertToHz(bx_stub_counts1) / 14, histtype='step')\n",
    "\n",
    "ax.set_xlabel('BX number')\n",
    "ax.set_ylabel('Stub rate [Hz]')\n",
    "ax.set_xlim(0, 3564)\n",
    "ax.set_ylim(2, 150)\n",
    "\n",
    "ax.set_yscale('log')\n",
    "\n",
    "plt.savefig(\"../Immagini/StubsBXnumber.pdf\")"
   ]
  },
  {
   "cell_type": "code",
   "execution_count": null,
   "metadata": {},
   "outputs": [],
   "source": [
    "fig, ax = plt.subplots(figsize= FIGSIZE, constrained_layout=True)\n",
    "\n",
    "set_label_font(ax, FONTSIZE)\n",
    "set_tick_font(ax, FONTSIZE - 2)\n",
    "MOREdraw_cms_label(ax, fontsize= FONTSIZE)\n",
    "\n",
    "ax.hist(bx_range[:-1], bins=bx_range, weights=ConvertToHz(bx_stub_counts1) / 14, histtype='step')\n",
    "\n",
    "ax.set_xlabel('BX number')\n",
    "ax.set_ylabel('Stub rate [Hz]')\n",
    "ax.set_xlim(1840, 2260)\n",
    "ax.set_ylim(2, 150)\n",
    "\n",
    "\n",
    "ax.set_yscale('log')\n",
    "\n",
    "plt.savefig(\"../Immagini/StubsBXnumberZoom.pdf\")"
   ]
  },
  {
   "cell_type": "code",
   "execution_count": null,
   "metadata": {},
   "outputs": [],
   "source": [
    "stub_sectors = ak.ravel(Array.stubSector)\n",
    "stub_wheels  = ak.ravel(Array.stubWheel)\n",
    "\n",
    "sector_bins = np.arange(13)\n",
    "wheel_bins  = np.arange(-2, 4)\n",
    "\n",
    "hist2d = hist.Hist(\n",
    "    hist.axis.Variable(sector_bins, name='sector', label='Sector number'),\n",
    "    hist.axis.Variable(wheel_bins, name='wheel', label='Wheel number'),\n",
    ")\n",
    "hist2d.fill(sector=stub_sectors, wheel=stub_wheels)\n",
    "\n",
    "fig, ax = plt.subplots(figsize=(12, 8), constrained_layout=True)\n",
    "set_label_font(ax, FONTSIZE)\n",
    "set_tick_font(ax, FONTSIZE-2)\n",
    "draw_grid(ax, axis=\"y\")\n",
    "MOREdraw_cms_label(ax, fontsize= FONTSIZE)\n",
    "\n",
    "hep.hist2dplot(ConvertToKHz(hist2d), cbar=True, cmap='Blues', ax=ax)\n",
    "\n",
    "cbar = ax.collections[0].colorbar\n",
    "cbar.set_label('Stub rate [KHz]', fontsize=FONTSIZE)\n",
    "\n",
    "ax.set_xlabel('Sector number', fontsize = FONTSIZE)\n",
    "ax.set_ylabel('Wheel number', fontsize = FONTSIZE)\n",
    "\n",
    "ax.set_xticks(np.arange(12)+0.5)\n",
    "ax.set_xticklabels(np.arange(12))\n",
    "\n",
    "ax.set_yticks(np.arange(-2, 3)+0.5)\n",
    "ax.set_yticklabels(np.arange(-2, 3))\n",
    "\n",
    "plt.savefig(\"../Immagini/StubsSectorWheel.pdf\")\n",
    "\n",
    "plt.show()"
   ]
  },
  {
   "cell_type": "code",
   "execution_count": null,
   "metadata": {},
   "outputs": [],
   "source": [
    "stub_station = ak.ravel(Array.stubStation)\n",
    "stub_wheels  = ak.ravel(Array.stubWheel)\n",
    "\n",
    "Station_bins = np.arange(1, 6)\n",
    "wheel_bins  = np.arange(-2, 4)\n",
    "\n",
    "hist2d = hist.Hist(\n",
    "    hist.axis.Variable(wheel_bins, name='wheel', label='Wheel number'),\n",
    "    hist.axis.Variable(Station_bins, name='Station', label='Station number'),\n",
    ")\n",
    "hist2d.fill(wheel=stub_wheels, Station=stub_station)\n",
    "\n",
    "fig, ax = plt.subplots(figsize=(12, 8), constrained_layout=True)\n",
    "set_label_font(ax, FONTSIZE)\n",
    "set_tick_font(ax, FONTSIZE-2)\n",
    "draw_grid(ax, axis=\"y\")\n",
    "MOREdraw_cms_label(ax, fontsize= FONTSIZE)\n",
    "\n",
    "hep.hist2dplot(ConvertToKHz(hist2d), cbar=True, cmap='Blues', ax=ax)\n",
    "\n",
    "cbar = ax.collections[0].colorbar\n",
    "cbar.set_label('Stub rate [KHz]', fontsize=FONTSIZE)\n",
    "\n",
    "ax.set_ylabel('Station number', fontsize = FONTSIZE)\n",
    "ax.set_xlabel('Wheel number', fontsize = FONTSIZE)\n",
    "\n",
    "ax.set_yticks(np.arange(1, 5)+0.5)\n",
    "ax.set_yticklabels(np.arange(1, 5))\n",
    "\n",
    "ax.set_xticks(np.arange(-2, 3)+0.5)\n",
    "ax.set_xticklabels(np.arange(-2, 3))\n",
    "\n",
    "plt.savefig(\"../Immagini/StubsStationWheel.pdf\")\n",
    "\n",
    "plt.show()"
   ]
  },
  {
   "cell_type": "code",
   "execution_count": null,
   "metadata": {},
   "outputs": [],
   "source": [
    "stubsPerBX = np.bincount(Array.nStubs)\n",
    "\n",
    "print(len(stubsPerBX))"
   ]
  },
  {
   "cell_type": "code",
   "execution_count": null,
   "metadata": {},
   "outputs": [],
   "source": [
    "fig, ax = plt.subplots(figsize= FIGSIZE, constrained_layout=True)\n",
    "\n",
    "set_label_font(ax, FONTSIZE)\n",
    "set_tick_font(ax, FONTSIZE - 2)\n",
    "MOREdraw_cms_label(ax, fontsize= FONTSIZE)\n",
    "\n",
    "ax.bar(np.arange(20), ConvertToHz(stubsPerBX))\n",
    "\n",
    "ax.set_xticks(ticks=np.arange(20), labels=np.arange(0, 20, 1))\n",
    "ax.tick_params(axis='x', which='minor', length=0)\n",
    "ax.set_xlabel('Stubs per BX')\n",
    "ax.set_ylabel('Stub rate [Hz]')\n",
    "ax.set_xlim(0, 14)\n",
    "ax.grid(visible=True, axis='y')\n",
    "ax.set_yscale('log')\n",
    "ax.set_axisbelow(True)\n",
    "\n",
    "plt.savefig(\"../Immagini/StubsMolteplicity.pdf\")"
   ]
  },
  {
   "cell_type": "code",
   "execution_count": null,
   "metadata": {},
   "outputs": [],
   "source": [
    "#AllStubsPerOrbit = StubsPerOrbit(Array.bx, Array.nStubs)"
   ]
  },
  {
   "cell_type": "code",
   "execution_count": null,
   "metadata": {},
   "outputs": [],
   "source": [
    "#ak.to_parquet(ak.Array(AllStubsPerOrbit), \"AllStubsPerOrbit.parquet\")\n",
    "\n",
    "AllStubsPerOrbit = ak.from_parquet(\"AllStubsPerOrbit.parquet\")"
   ]
  },
  {
   "cell_type": "code",
   "execution_count": null,
   "metadata": {},
   "outputs": [],
   "source": [
    "\n",
    "fig, ax = plt.subplots(figsize= FIGSIZE, constrained_layout=True)\n",
    "\n",
    "set_label_font(ax, FONTSIZE)\n",
    "set_tick_font(ax, FONTSIZE - 2)\n",
    "MOREdraw_cms_label(ax, fontsize= FONTSIZE)\n",
    "\n",
    "bins = np.arange(1, len(AllStubsPerOrbit) + 1)\n",
    "\n",
    "StubsPerOrbit_Hist = hist.Hist(hist.axis.Variable(bins, name=\"Stubs\", ))\n",
    "\n",
    "#StubsPerOrbit_Hist.fill(Stubs=AllStubsPerOrbit)\n",
    "#hep.histplot(StubsPerOrbit_Hist, label = \"Stubs per Orbit\", ax=ax, yerr = False, lw = 2)\n",
    "\n",
    "\n",
    "ax.bar(np.arange(1, len(AllStubsPerOrbit) + 1), AllStubsPerOrbit, width=1)\n",
    "\n",
    "\n",
    "#ax.set_xticks(ticks=np.arange(20), labels=np.arange(0, 20, 1))\n",
    "ax.tick_params(axis='x', which='minor')\n",
    "ax.set_xlabel('Stubs per orbit')\n",
    "ax.set_ylabel('Stub rate [Hz]')\n",
    "ax.set_xlim(120, 370)\n",
    "\n",
    "ax.grid(visible=True, axis='y')\n",
    "ax.set_yscale('log')\n",
    "ax.set_axisbelow(True)\n",
    "\n",
    "\n",
    "plt.savefig(\"../Immagini/StubsPerOrbit.pdf\")"
   ]
  },
  {
   "cell_type": "markdown",
   "metadata": {},
   "source": [
    "# BMTF"
   ]
  },
  {
   "cell_type": "code",
   "execution_count": null,
   "metadata": {},
   "outputs": [],
   "source": []
  },
  {
   "cell_type": "code",
   "execution_count": null,
   "metadata": {},
   "outputs": [],
   "source": [
    "bx_range = np.arange(ONE_ORBIT_IN_BX + 2)\n",
    "\n",
    "bx_BMTF_counts1 = np.bincount(Array.bx, weights=Array.nBmtfMuons)\n",
    "\n",
    "fig, ax = plt.subplots(figsize= FIGSIZE, constrained_layout=True)\n",
    "\n",
    "set_label_font(ax, FONTSIZE)\n",
    "set_tick_font(ax, FONTSIZE - 2)\n",
    "MOREdraw_cms_label(ax, fontsize= FONTSIZE)\n",
    "\n",
    "ax.hist(bx_range[:-1], bins=bx_range, weights=ConvertToHz(bx_BMTF_counts1) / 14, histtype='step')\n",
    "\n",
    "ax.set_xlabel('BX number')\n",
    "ax.set_ylabel('BMTF Muon rate [Hz]')\n",
    "ax.set_xlim(0, ONE_ORBIT_IN_BX)\n",
    "ax.set_ylim(0.8e-2, 32)\n",
    "ax.set_yscale('log')\n",
    "\n",
    "plt.savefig(\"../Immagini/BMTF.pdf\")"
   ]
  },
  {
   "cell_type": "code",
   "execution_count": null,
   "metadata": {},
   "outputs": [],
   "source": [
    "fig, ax = plt.subplots(figsize= FIGSIZE, constrained_layout=True)\n",
    "\n",
    "set_label_font(ax, FONTSIZE)\n",
    "set_tick_font(ax, FONTSIZE - 2)\n",
    "MOREdraw_cms_label(ax, fontsize= FONTSIZE)\n",
    "\n",
    "ax.hist(bx_range[:-1], bins=bx_range, weights=ConvertToHz(bx_BMTF_counts1) / 14, histtype='step')\n",
    "\n",
    "ax.set_xlabel('BX number')\n",
    "ax.set_ylabel('BMTF Muon rate [Hz]')\n",
    "ax.set_xlim(0, ONE_ORBIT_IN_BX)\n",
    "ax.set_ylim(0.8e-2, 32)\n",
    "ax.set_xlim(1840, 2260)\n",
    "ax.set_yscale('log')\n",
    "\n",
    "plt.savefig(\"../Immagini/BMTF_zoom.pdf\")"
   ]
  },
  {
   "cell_type": "code",
   "execution_count": null,
   "metadata": {},
   "outputs": [],
   "source": [
    "fig, ax = plt.subplots(figsize= FIGSIZE, constrained_layout=True)\n",
    "\n",
    "set_label_font(ax, FONTSIZE)\n",
    "set_tick_font(ax, FONTSIZE - 2)\n",
    "MOREdraw_cms_label(ax, fontsize= FONTSIZE)\n",
    "\n",
    "ax.bar(np.arange(7), ConvertToHz(np.bincount(Array.nBmtfMuons)))\n",
    "\n",
    "ax.tick_params(axis='x', which='minor', length=0)\n",
    "ax.set_xlabel('BMTF muons per BX')\n",
    "ax.set_ylabel('BMTF Muon rate [Hz]')\n",
    "ax.set_xlim(-0.8, 7)\n",
    "ax.grid(visible=True, axis='y')\n",
    "ax.set_axisbelow(True)\n",
    "ax.set_yscale('log')\n",
    "\n",
    "plt.savefig(\"../Immagini/BMTF_Molteplicity.pdf\")"
   ]
  },
  {
   "cell_type": "code",
   "execution_count": null,
   "metadata": {},
   "outputs": [],
   "source": [
    "#AllBMTperOrbit = StubsPerOrbit(Array.bx, Array.nBmtfMuons)"
   ]
  },
  {
   "cell_type": "code",
   "execution_count": null,
   "metadata": {},
   "outputs": [],
   "source": [
    "#ak.to_parquet(ak.Array(AllBMTperOrbit), \"AllBMTperOrbit.parquet\")\n",
    "\n",
    "AllBMTperOrbit = ak.from_parquet(\"AllBMTperOrbit.parquet\")"
   ]
  },
  {
   "cell_type": "code",
   "execution_count": null,
   "metadata": {},
   "outputs": [],
   "source": [
    "\n",
    "fig, ax = plt.subplots(figsize= FIGSIZE, constrained_layout=True)\n",
    "\n",
    "set_label_font(ax, FONTSIZE)\n",
    "set_tick_font(ax, FONTSIZE - 2)\n",
    "MOREdraw_cms_label(ax, fontsize= FONTSIZE)\n",
    "\n",
    "ax.bar(np.arange(1, len(AllBMTperOrbit) + 1), AllBMTperOrbit, width=1)\n",
    "\n",
    "\n",
    "#ax.set_xticks(ticks=np.arange(20), labels=np.arange(0, 20, 1))\n",
    "ax.tick_params(axis='x', which='minor', length=0)\n",
    "ax.set_xlabel('BMTF Muons per Orbit')\n",
    "ax.set_ylabel('BMTF Muon rate [Hz]')\n",
    "ax.set_xlim(5, 70)\n",
    "ax.grid(visible=True, axis='y')\n",
    "ax.set_axisbelow(True)\n",
    "ax.set_yscale('log')\n",
    "\n",
    "plt.savefig(\"../Immagini/BMTF_orbit.pdf\")"
   ]
  },
  {
   "cell_type": "code",
   "execution_count": null,
   "metadata": {},
   "outputs": [],
   "source": []
  },
  {
   "cell_type": "code",
   "execution_count": null,
   "metadata": {},
   "outputs": [],
   "source": [
    "#Plot di Pt e Ptu uniti\n",
    "\n",
    "\n",
    "fig, ax = plt.subplots(figsize= FIGSIZE, constrained_layout=True)\n",
    "\n",
    "set_label_font(ax, FONTSIZE)\n",
    "set_tick_font(ax, FONTSIZE - 2)\n",
    "MOREdraw_cms_label(ax, fontsize= FONTSIZE)\n",
    "\n",
    "ax.hist(ak.ravel(Array.bmtfPtu), bins = 250,  label='Unconstrained $p_T$', histtype='step', linewidth = 1.5)\n",
    "ax.hist(ak.ravel(Array.bmtfPt), bins = 250, label='Vertex-constrained $p_T$', histtype='step', linewidth = 1.5)\n",
    "\n",
    "ax.set_xlabel(r'$p_T$ [GeV/c]')\n",
    "ax.set_ylabel(r'BMTF events / 1 GeV')\n",
    "ax.set_axisbelow(True)\n",
    "\n",
    "ax.legend()\n",
    "\n",
    "ax.grid(visible=True, axis='y')\n",
    "ax.set_yscale('log')\n",
    "\n",
    "plt.savefig(\"../Immagini/BMTF_PtPtu.pdf\")"
   ]
  },
  {
   "cell_type": "code",
   "execution_count": 4,
   "metadata": {},
   "outputs": [
    {
     "data": {
      "image/png": "[encoded data removed]",
      "text/plain": [
       "<Figure size 1070x800 with 2 Axes>"
      ]
     },
     "metadata": {},
     "output_type": "display_data"
    }
   ],
   "source": [
    "from matplotlib import ticker\n",
    "\n",
    "binsPhi = np.array(np.arange(-np.pi, np.pi + 0.1, 0.52))\n",
    "binsEta = np.array(np.arange(-1, 1.1, 0.2))\n",
    "\n",
    "\n",
    "hist2d = hist.Hist(\n",
    "    hist.axis.Variable(binsEta, name='Eta', ),\n",
    "    hist.axis.Variable(binsPhi, name='Phi'),\n",
    ")\n",
    "hist2d.fill(Phi=ak.ravel(Array.bmtfPhi), Eta=ak.ravel(Array.bmtfEta))\n",
    "\n",
    "fig, ax = plt.subplots(figsize=FIGSIZE, constrained_layout=True)\n",
    "set_label_font(ax, FONTSIZE)\n",
    "set_tick_font(ax, FONTSIZE-2)\n",
    "draw_grid(ax, axis=\"y\")\n",
    "MOREdraw_cms_label(ax, fontsize=FONTSIZE)\n",
    "\n",
    "hep.hist2dplot(hist2d, cbar=True, cmap='Blues', ax=ax)\n",
    "\n",
    "cbar = ax.collections[0].colorbar\n",
    "cbar.set_label('BMTF Events', fontsize=FONTSIZE)\n",
    "\n",
    "#Notazione scientifica\n",
    "cbar.formatter = ticker.ScalarFormatter(useMathText=True)\n",
    "cbar.formatter.set_scientific(True)  \n",
    "cbar.formatter.set_powerlimits((-2, 2))  \n",
    "cbar.update_ticks() \n",
    "\n",
    "ax.set_xlabel(r'$\\eta$ station 2')\n",
    "ax.set_ylabel(r'$\\phi$ station 2[rad]')\n",
    "\n",
    "ax.tick_params(axis='both', which='both', length=0, labelsize = FONTSIZE - 5)\n",
    "\n",
    "plt.savefig(\"../Immagini/BMTFPhiEta.pdf\")\n",
    "\n",
    "\n",
    "plt.show()"
   ]
  },
  {
   "cell_type": "code",
   "execution_count": null,
   "metadata": {},
   "outputs": [],
   "source": []
  },
  {
   "cell_type": "code",
   "execution_count": null,
   "metadata": {},
   "outputs": [],
   "source": [
    "#BX da collisione:\n",
    "bx_BMTF_counts = np.bincount(Array.bx, weights=Array.nBmtfMuons)\n"
   ]
  },
  {
   "cell_type": "code",
   "execution_count": null,
   "metadata": {},
   "outputs": [],
   "source": [
    "CollisionBX = []\n",
    "\n",
    "for i in range(len(bx_BMTF_counts)):\n",
    "  if ConvertToHz(bx_BMTF_counts[i]) > 70:\n",
    "    CollisionBX.append(i)"
   ]
  },
  {
   "cell_type": "code",
   "execution_count": null,
   "metadata": {},
   "outputs": [],
   "source": [
    "ak.to_parquet(ak.Array(CollisionBX), \"CollisionBX.parquet\")"
   ]
  },
  {
   "cell_type": "code",
   "execution_count": null,
   "metadata": {},
   "outputs": [],
   "source": []
  }
 ],
 "metadata": {
  "kernelspec": {
   "display_name": "base",
   "language": "python",
   "name": "python3"
  },
  "language_info": {
   "codemirror_mode": {
    "name": "ipython",
    "version": 3
   },
   "file_extension": ".py",
   "mimetype": "text/x-python",
   "name": "python",
   "nbconvert_exporter": "python",
   "pygments_lexer": "ipython3",
   "version": "3.12.2"
  }
 },
 "nbformat": 4,
 "nbformat_minor": 2
}
