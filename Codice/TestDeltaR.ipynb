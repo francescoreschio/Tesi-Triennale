{
 "cells": [
  {
   "cell_type": "code",
   "execution_count": 2,
   "metadata": {},
   "outputs": [],
   "source": [
    "import numpy as np\n",
    "import matplotlib.pyplot as plt\n",
    "from mpl_toolkits.axes_grid1 import make_axes_locatable\n",
    "from matplotlib import ticker\n",
    "import awkward as ak\n",
    "import uproot \n",
    "import mplhep as hep\n",
    "import hist\n",
    "import os\n",
    "import time\n",
    "from numba import njit\n",
    "from scipy.optimize import curve_fit\n",
    "\n",
    "from UtilityAndConst import *\n",
    "from Functions import *\n",
    "\n",
    "dir = \"/Users/francescolarovere/Documents/Tesi-Triennale/Dati\"\n",
    "os.chdir(dir)\n",
    "\n",
    "hep.style.use(\"CMS\")\n",
    "np.set_printoptions(threshold=np.inf)"
   ]
  },
  {
   "cell_type": "code",
   "execution_count": 3,
   "metadata": {},
   "outputs": [],
   "source": [
    "LS133 = \"./ntupleStubsBmtfGmt_LS133.root\"\n",
    "LS263 = \"./ntupleStubsBmtfGmt_LS263.root\"\n",
    "LS264 = \"./ntupleStubsBmtfGmt_LS264.root\"\n",
    "LS306 = \"./ntupleStubsBmtfGmt_LS306.root\"\n",
    "\n",
    "#Open file\n",
    "stubs_awk_LS133 = OpenRootFile(LS133, stub_features)\n",
    "stubs_awk_LS263 = OpenRootFile(LS263, stub_features)\n",
    "stubs_awk_LS264 = OpenRootFile(LS264, stub_features)\n",
    "stubs_awk_LS306 = OpenRootFile(LS306, stub_features)\n",
    "\n",
    "gmt_awk_LS133 = OpenRootFile(LS133, gmt_features)\n",
    "gmt_awk_LS263 = OpenRootFile(LS263, gmt_features)\n",
    "gmt_awk_LS264 = OpenRootFile(LS264, gmt_features)\n",
    "gmt_awk_LS306 = OpenRootFile(LS306, gmt_features)\n",
    "\n",
    "bmtf_awk_LS133 = OpenRootFile(LS133, bmtf_features)\n",
    "bmtf_awk_LS263 = OpenRootFile(LS263, bmtf_features)\n",
    "bmtf_awk_LS264 = OpenRootFile(LS264, bmtf_features)\n",
    "bmtf_awk_LS306 = OpenRootFile(LS306, bmtf_features)"
   ]
  },
  {
   "cell_type": "code",
   "execution_count": 4,
   "metadata": {},
   "outputs": [],
   "source": [
    "#Caricamenot BX delle stubs\n",
    "BX_LS133 = stubs_awk_LS133.bx\n",
    "BX_LS263 = stubs_awk_LS263.bx\n",
    "BX_LS264 = stubs_awk_LS264.bx\n",
    "BX_LS306 = stubs_awk_LS306.bx\n",
    "\n",
    "#Caricamento muoni di GMT\n",
    "nGmtMuons_LS133 = gmt_awk_LS133.nGmtMuons\n",
    "nGmtMuons_LS263 = gmt_awk_LS263.nGmtMuons\n",
    "nGmtMuons_LS264 = gmt_awk_LS264.nGmtMuons\n",
    "nGmtMuons_LS306 = gmt_awk_LS306.nGmtMuons\n",
    "\n",
    "nBmtfMuons_LS133 = bmtf_awk_LS133.nBmtfMuons\n",
    "nBmtfMuons_LS263 = bmtf_awk_LS263.nBmtfMuons\n",
    "nBmtfMuons_LS264 = bmtf_awk_LS264.nBmtfMuons\n",
    "nBmtfMuons_LS306 = bmtf_awk_LS306.nBmtfMuons"
   ]
  },
  {
   "cell_type": "code",
   "execution_count": 6,
   "metadata": {},
   "outputs": [],
   "source": [
    "def BX_OPT(Gmt_Muons, Bmtf_Muons):\n",
    "\n",
    "    BX_Matrix = [[] for _ in range(ONE_ORBIT_IN_BX)]\n",
    "    \n",
    "    for j in range(len(BX)):\n",
    "\n",
    "      if nMuons[j] > 0:\n",
    "        BX_Matrix[BX[j]].append([j, nMuons[j]])\n",
    "    \n",
    "    BX_Matrix = ak.Array(BX_Matrix)\n",
    "\n",
    "    return BX_Matrix"
   ]
  },
  {
   "cell_type": "code",
   "execution_count": 7,
   "metadata": {},
   "outputs": [],
   "source": [
    "'''BX_BMTF_LS133 = BX_OPT(BX_LS133, nBmtfMuons_LS133)\n",
    "BX_GMT_LS133 = BX_OPT(BX_LS133, nGmtMuons_LS133)\n",
    "\n",
    "BX_BMTF_LS263 = BX_OPT(BX_LS263, nBmtfMuons_LS263)\n",
    "BX_GMT_LS263 = BX_OPT(BX_LS263, nGmtMuons_LS263)\n",
    "\n",
    "BX_BMTF_LS264 = BX_OPT(BX_LS264, nBmtfMuons_LS264)\n",
    "BX_GMT_LS264 = BX_OPT(BX_LS264, nGmtMuons_LS264)\n",
    "\n",
    "BX_BMTF_LS306 = BX_OPT(BX_LS306, nBmtfMuons_LS306)\n",
    "BX_GMT_LS306 = BX_OPT(BX_LS306, nGmtMuons_LS306)'''"
   ]
  },
  {
   "cell_type": "code",
   "execution_count": 8,
   "metadata": {},
   "outputs": [
    {
     "data": {
      "text/plain": [
       "<pyarrow._parquet.FileMetaData object at 0x1561731a0>\n",
       "  created_by: parquet-cpp-arrow version 14.0.2\n",
       "  num_columns: 1\n",
       "  num_rows: 3564\n",
       "  num_row_groups: 1\n",
       "  format_version: 2.6\n",
       "  serialized_size: 0"
      ]
     },
     "execution_count": 8,
     "metadata": {},
     "output_type": "execute_result"
    }
   ],
   "source": [
    "#Salvataggio in file .parquet\n",
    "\n",
    "'''ak.to_parquet(BX_BMTF_LS133, 'BX_BMTF_LS133.parquet')\n",
    "ak.to_parquet(BX_GMT_LS133, 'BX_GMT_LS133.parquet')\n",
    "\n",
    "ak.to_parquet(BX_BMTF_LS263, 'BX_BMTF_LS263.parquet')\n",
    "ak.to_parquet(BX_GMT_LS263, 'BX_GMT_LS263.parquet')\n",
    "\n",
    "ak.to_parquet(BX_BMTF_LS264, 'BX_BMTF_LS264.parquet')\n",
    "ak.to_parquet(BX_GMT_LS264, 'BX_GMT_LS264.parquet')\n",
    "\n",
    "ak.to_parquet(BX_BMTF_LS306, 'BX_BMTF_LS306.parquet')\n",
    "ak.to_parquet(BX_GMT_LS306, 'BX_GMT_LS306.parquet')'''"
   ]
  },
  {
   "cell_type": "code",
   "execution_count": 9,
   "metadata": {},
   "outputs": [],
   "source": [
    "#----------------------------------------GMT_PHI--------------------------------------------------\n",
    "\n",
    "GmtPhi_LS133 = gmt_awk_LS133.gmtPhi\n",
    "GmtPhi_LS263 = gmt_awk_LS263.gmtPhi\n",
    "GmtPhi_LS264 = gmt_awk_LS264.gmtPhi\n",
    "GmtPhi_LS306 = gmt_awk_LS306.gmtPhi\n",
    "\n",
    "GmtPhi_LS133 = ak.where(ak.num(GmtPhi_LS133) == 0, ak.Array([[0]]), GmtPhi_LS133)\n",
    "GmtPhi_LS263 = ak.where(ak.num(GmtPhi_LS263) == 0, ak.Array([[0]]), GmtPhi_LS263)\n",
    "GmtPhi_LS264 = ak.where(ak.num(GmtPhi_LS264) == 0, ak.Array([[0]]), GmtPhi_LS264)\n",
    "GmtPhi_LS306 = ak.where(ak.num(GmtPhi_LS306) == 0, ak.Array([[0]]), GmtPhi_LS306)\n",
    "\n",
    "\n",
    "\n",
    "#----------------------------------------GMT_ETA--------------------------------------------------\n",
    "\n",
    "GmtEta_LS133 = gmt_awk_LS133.gmtEta\n",
    "GmtEta_LS263 = gmt_awk_LS263.gmtEta\n",
    "GmtEta_LS264 = gmt_awk_LS264.gmtEta\n",
    "GmtEta_LS306 = gmt_awk_LS306.gmtEta\n",
    "\n",
    "GmtEta_LS133 = ak.where(ak.num(GmtEta_LS133) == 0, ak.Array([[0]]), GmtEta_LS133)\n",
    "GmtEta_LS263 = ak.where(ak.num(GmtEta_LS263) == 0, ak.Array([[0]]), GmtEta_LS263)\n",
    "GmtEta_LS264 = ak.where(ak.num(GmtEta_LS264) == 0, ak.Array([[0]]), GmtEta_LS264)\n",
    "GmtEta_LS306 = ak.where(ak.num(GmtEta_LS306) == 0, ak.Array([[0]]), GmtEta_LS306)\n",
    "\n",
    "\n",
    "\n",
    "#----------------------------------------BMTF_ETA--------------------------------------------------\n",
    "\n",
    "BmtfEta_LS133 = bmtf_awk_LS133.bmtfEta\n",
    "BmtfEta_LS263 = bmtf_awk_LS263.bmtfEta\n",
    "BmtfEta_LS264 = bmtf_awk_LS264.bmtfEta\n",
    "BmtfEta_LS306 = bmtf_awk_LS306.bmtfEta\n",
    "\n",
    "BmtfEta_LS133 = ak.where(ak.num(BmtfEta_LS133) == 0, ak.Array([[0]]), BmtfEta_LS133)\n",
    "BmtfEta_LS263 = ak.where(ak.num(BmtfEta_LS263) == 0, ak.Array([[0]]), BmtfEta_LS263)\n",
    "BmtfEta_LS264 = ak.where(ak.num(BmtfEta_LS264) == 0, ak.Array([[0]]), BmtfEta_LS264)\n",
    "BmtfEta_LS306 = ak.where(ak.num(BmtfEta_LS306) == 0, ak.Array([[0]]), BmtfEta_LS306)\n",
    "\n",
    "\n",
    "\n",
    "#----------------------------------------BMTF_PHI--------------------------------------------------\n",
    "\n",
    "BmtfPhi_LS133 = bmtf_awk_LS133.bmtfPhi\n",
    "BmtfPhi_LS263 = bmtf_awk_LS263.bmtfPhi\n",
    "BmtfPhi_LS264 = bmtf_awk_LS264.bmtfPhi\n",
    "BmtfPhi_LS306 = bmtf_awk_LS306.bmtfPhi\n",
    "\n",
    "BmtfPhi_LS133 = ak.where(ak.num(BmtfPhi_LS133) == 0, ak.Array([[0]]), BmtfPhi_LS133)\n",
    "BmtfPhi_LS263 = ak.where(ak.num(BmtfPhi_LS263) == 0, ak.Array([[0]]), BmtfPhi_LS263)\n",
    "BmtfPhi_LS264 = ak.where(ak.num(BmtfPhi_LS264) == 0, ak.Array([[0]]), BmtfPhi_LS264)\n",
    "BmtfPhi_LS306 = ak.where(ak.num(BmtfPhi_LS306) == 0, ak.Array([[0]]), BmtfPhi_LS306)\n"
   ]
  },
  {
   "cell_type": "code",
   "execution_count": 10,
   "metadata": {},
   "outputs": [],
   "source": [
    "def DeltaR(BmtfPhi, GmtPhi, BmtfEta, GmtEta):\n",
    "  return np.sqrt((BmtfPhi - GmtPhi)**2 + (BmtfEta - GmtEta)**2)\n",
    "\n",
    "def DeltaRDist(BX_BMTF, BX_GMT, BmtfPhi, GmtPhi, BmtfEta, GmtEta, use_Bmtf = True):\n",
    "\n",
    "  DeltaDist = [[] for _ in range(ONE_ORBIT_IN_BX)]\n",
    "  IndexMin = [[] for _ in range(ONE_ORBIT_IN_BX)]\n",
    "\n",
    "  if use_Bmtf: \n",
    "    for i in range(ONE_ORBIT_IN_BX):\n",
    "\n",
    "      NestedArrayDeltaR = []\n",
    "      NestedArrayIndex = []\n",
    "\n",
    "      BmtfPhiF, BmtfEtaF = ak.flatten(BmtfPhi[BX_BMTF[i, :, 0]]), ak.flatten(BmtfEta[BX_BMTF[i, :, 0]])\n",
    "      GmtPhiF, GmtEtaF = ak.flatten(GmtPhi[BX_GMT[i, :, 0]]), ak.flatten(GmtEta[BX_GMT[i, :, 0]])\n",
    "\n",
    "      for j in range(len(BmtfPhiF)):\n",
    "\n",
    "        DeltaRTemp = DeltaR(BmtfPhiF[j], GmtPhiF[:], BmtfEtaF[j], GmtEtaF[:])\n",
    "\n",
    "        minDeltaR = np.min(DeltaRTemp)\n",
    "        indexTemp = np.argmin(DeltaRTemp)\n",
    "\n",
    "        NestedArrayDeltaR.append(minDeltaR)\n",
    "        NestedArrayIndex.append(indexTemp)\n",
    "\n",
    "      DeltaDist[i].extend(NestedArrayDeltaR)\n",
    "      IndexMin[i].extend(NestedArrayIndex)\n",
    "\n",
    "\n",
    "  else:\n",
    "    for i in range(ONE_ORBIT_IN_BX):\n",
    "\n",
    "      NestedArrayDeltaR = []\n",
    "      NestedArrayIndex = []\n",
    "\n",
    "      BmtfPhiF, BmtfEtaF = ak.flatten(BmtfPhi[BX_BMTF[i, :, 0]]), ak.flatten(BmtfEta[BX_BMTF[i, :, 0]])\n",
    "      GmtPhiF, GmtEtaF = ak.flatten(GmtPhi[BX_GMT[i, :, 0]]), ak.flatten(GmtEta[BX_GMT[i, :, 0]])\n",
    "\n",
    "      for j in range(len(GmtPhiF)):\n",
    "        DeltaRTemp = DeltaR(BmtfPhiF[:], GmtPhiF[j], BmtfEtaF[:], GmtEtaF[j])     \n",
    "\n",
    "        minDeltaR = np.min(DeltaRTemp)\n",
    "        indexTemp = np.argmin(DeltaRTemp)\n",
    "\n",
    "        NestedArrayDeltaR.append(minDeltaR)\n",
    "        NestedArrayIndex.append(indexTemp)\n",
    "\n",
    "      DeltaDist[i].extend(NestedArrayDeltaR)\n",
    "      IndexMin[i].extend(NestedArrayIndex)\n",
    "\n",
    "  return ak.fill_none(ak.Array(DeltaDist), 0), ak.fill_none(ak.Array(IndexMin), 0)\n"
   ]
  },
  {
   "cell_type": "code",
   "execution_count": 11,
   "metadata": {},
   "outputs": [],
   "source": [
    "#Primo metodo (use_Bmtf = True)\n",
    "\n",
    "'''DeltaR_BMTF_LS133, IndexDist_BMTF_LS133 = DeltaRDist(BX_BMTF_LS133, BX_GMT_LS133, BmtfPhi_LS133, GmtPhi_LS133, BmtfEta_LS133, GmtEta_LS133, use_Bmtf = True)\n",
    "DeltaR_BMTF_LS263, IndexDist_BMTF_LS263 = DeltaRDist(BX_BMTF_LS263, BX_GMT_LS263, BmtfPhi_LS263, GmtPhi_LS263, BmtfEta_LS263, GmtEta_LS263, use_Bmtf = True)\n",
    "DeltaR_BMTF_LS264, IndexDist_BMTF_LS264 = DeltaRDist(BX_BMTF_LS264, BX_GMT_LS264, BmtfPhi_LS264, GmtPhi_LS264, BmtfEta_LS264, GmtEta_LS264, use_Bmtf = True)\n",
    "DeltaR_BMTF_LS306, IndexDist_BMTF_LS306 = DeltaRDist(BX_BMTF_LS306, BX_GMT_LS306, BmtfPhi_LS306, GmtPhi_LS306, BmtfEta_LS306, GmtEta_LS306, use_Bmtf = True)'''"
   ]
  },
  {
   "cell_type": "code",
   "execution_count": 12,
   "metadata": {},
   "outputs": [
    {
     "data": {
      "text/plain": [
       "<pyarrow._parquet.FileMetaData object at 0x148878e50>\n",
       "  created_by: parquet-cpp-arrow version 14.0.2\n",
       "  num_columns: 1\n",
       "  num_rows: 3564\n",
       "  num_row_groups: 1\n",
       "  format_version: 2.6\n",
       "  serialized_size: 0"
      ]
     },
     "execution_count": 12,
     "metadata": {},
     "output_type": "execute_result"
    }
   ],
   "source": [
    "#Salvataggio primo metodo\n",
    "\n",
    "'''ak.to_parquet(DeltaR_BMTF_LS133, 'DeltaR_BMTF_LS133.parquet')\n",
    "ak.to_parquet(IndexDist_BMTF_LS133, 'IndexDist_BMTF_LS133.parquet')\n",
    "\n",
    "ak.to_parquet(DeltaR_BMTF_LS263, 'DeltaR_BMTF_LS263.parquet')\n",
    "ak.to_parquet(IndexDist_BMTF_LS263, 'IndexDist_BMTF_LS263.parquet')\n",
    "\n",
    "\n",
    "ak.to_parquet(DeltaR_BMTF_LS264, 'DeltaR_BMTF_LS264.parquet')\n",
    "ak.to_parquet(IndexDist_BMTF_LS264, 'IndexDist_BMTF_LS264.parquet')\n",
    "\n",
    "ak.to_parquet(DeltaR_BMTF_LS306, 'DeltaR_BMTF_LS306.parquet')\n",
    "ak.to_parquet(IndexDist_BMTF_LS306, 'IndexDist_BMTF_LS306.parquet')'''"
   ]
  },
  {
   "cell_type": "code",
   "execution_count": null,
   "metadata": {},
   "outputs": [],
   "source": [
    "#Secondo metodo (use_Bmtf = False)\n",
    "\n",
    "DeltaR_GMT_LS133, IndexDist_GMT_LS133 = DeltaRDist(BX_BMTF_LS133, BX_GMT_LS133, BmtfPhi_LS133, GmtPhi_LS133, BmtfEta_LS133, GmtEta_LS133, use_Bmtf = False)\n",
    "DeltaR_GMT_LS263, IndexDist_GMT_LS263 = DeltaRDist(BX_BMTF_LS263, BX_GMT_LS263, BmtfPhi_LS263, GmtPhi_LS263, BmtfEta_LS263, GmtEta_LS263, use_Bmtf = False)\n",
    "DeltaR_GMT_LS264, IndexDist_GMT_LS264 = DeltaRDist(BX_BMTF_LS264, BX_GMT_LS264, BmtfPhi_LS264, GmtPhi_LS264, BmtfEta_LS264, GmtEta_LS264, use_Bmtf = False)\n",
    "DeltaR_GMT_LS306, IndexDist_GMT_LS306 = DeltaRDist(BX_BMTF_LS306, BX_GMT_LS306, BmtfPhi_LS306, GmtPhi_LS306, BmtfEta_LS306, GmtEta_LS306, use_Bmtf = False)"
   ]
  },
  {
   "cell_type": "code",
   "execution_count": null,
   "metadata": {},
   "outputs": [],
   "source": [
    "#Salvataggio secondo metodo\n",
    "\n",
    "ak.to_parquet(DeltaR_GMT_LS133, 'DeltaR_GMT_LS133.parquet')\n",
    "ak.to_parquet(IndexDist_GMT_LS133, 'IndexDist_GMT_LS133.parquet')\n",
    "\n",
    "ak.to_parquet(DeltaR_GMT_LS263, 'DeltaR_GMT_LS263.parquet')\n",
    "ak.to_parquet(IndexDist_GMT_LS263, 'IndexDist_GMT_LS263.parquet')\n",
    "\n",
    "\n",
    "ak.to_parquet(DeltaR_GMT_LS264, 'DeltaR_GMT_LS264.parquet')\n",
    "ak.to_parquet(IndexDist_GMT_LS264, 'IndexDist_GMT_LS264.parquet')\n",
    "\n",
    "ak.to_parquet(DeltaR_GMT_LS306, 'DeltaR_GMT_LS306.parquet')\n",
    "ak.to_parquet(IndexDist_GMT_LS306, 'IndexDist_GMT_LS306.parquet')"
   ]
  },
  {
   "cell_type": "code",
   "execution_count": 13,
   "metadata": {},
   "outputs": [],
   "source": [
    "def Delta(BMTF, GMT):\n",
    "  return BMTF - GMT\n",
    "\n",
    "def Distribution(Index, BX_BMTF, BX_GMT, BmtfPhi, GmtPhi, BmtfEta, GmtEta, use_Bmtf = True):\n",
    "  DistPhi = []\n",
    "  DistEta = []\n",
    "\n",
    "  if use_Bmtf:\n",
    "    for i in range(ONE_ORBIT_IN_BX):\n",
    "\n",
    "      BmtfPhiF, BmtfEtaF = ak.flatten(BmtfPhi[BX_BMTF[i, :, 0]]), ak.flatten(BmtfEta[BX_BMTF[i, :, 0]])\n",
    "      GmtPhiF, GmtEtaF = ak.flatten(GmtPhi[BX_GMT[i, :, 0]]), ak.flatten(GmtEta[BX_GMT[i, :, 0]])\n",
    "\n",
    "      for j in range(len(BmtfPhiF)):\n",
    "\n",
    "        DeltaPhi = Delta(BmtfPhiF[j], GmtPhiF[Index[i, j]])\n",
    "        DeltaEta = Delta(BmtfEtaF[j], GmtEtaF[Index[i, j]])\n",
    "\n",
    "\n",
    "        DistPhi.append(DeltaPhi)\n",
    "        DistEta.append(DeltaEta)\n",
    "\n",
    "  else:\n",
    "    for i in range(30, ONE_ORBIT_IN_BX):\n",
    "\n",
    "      BmtfPhiF, BmtfEtaF = ak.flatten(BmtfPhi[BX_BMTF[i, :, 0]]), ak.flatten(BmtfEta[BX_BMTF[i, :, 0]])\n",
    "      GmtPhiF, GmtEtaF = ak.flatten(GmtPhi[BX_GMT[i, :, 0]]), ak.flatten(GmtEta[BX_GMT[i, :, 0]])\n",
    "\n",
    "      for j in range(len(GmtPhiF)):\n",
    "\n",
    "        DeltaPhi = Delta(BmtfPhiF[Index[i, j]], GmtPhiF[j])\n",
    "        DeltaEta = Delta(BmtfEtaF[Index[i, j]], GmtEtaF[j])\n",
    "\n",
    "\n",
    "        DistPhi.append(DeltaPhi)\n",
    "        DistEta.append(DeltaEta)\n",
    "  \n",
    "  return np.array(DistPhi), np.array(DistEta)"
   ]
  },
  {
   "cell_type": "code",
   "execution_count": 14,
   "metadata": {},
   "outputs": [],
   "source": [
    "#Distribuzione Eta e Phi usando il primo metodo\n",
    "'''DeltaPhi_BMTF_LS133, DeltaEta_BMTF_LS133 = Distribution(IndexDist_BMTF_LS133, BX_BMTF_LS133, BX_GMT_LS133, BmtfPhi_LS133, GmtPhi_LS133, BmtfEta_LS133, GmtEta_LS133, use_Bmtf = True)\n",
    "DeltaPhi_BMTF_LS263, DeltaEta_BMTF_LS263 = Distribution(IndexDist_BMTF_LS263, BX_BMTF_LS263, BX_GMT_LS263, BmtfPhi_LS263, GmtPhi_LS263, BmtfEta_LS263, GmtEta_LS263, use_Bmtf = True)\n",
    "DeltaPhi_BMTF_LS264, DeltaEta_BMTF_LS264 = Distribution(IndexDist_BMTF_LS264, BX_BMTF_LS264, BX_GMT_LS264, BmtfPhi_LS264, GmtPhi_LS264, BmtfEta_LS264, GmtEta_LS264, use_Bmtf = True)\n",
    "DeltaPhi_BMTF_LS306, DeltaEta_BMTF_LS306 = Distribution(IndexDist_BMTF_LS306, BX_BMTF_LS306, BX_GMT_LS306, BmtfPhi_LS306, GmtPhi_LS306, BmtfEta_LS306, GmtEta_LS306, use_Bmtf = True)'''"
   ]
  },
  {
   "cell_type": "code",
   "execution_count": 16,
   "metadata": {},
   "outputs": [
    {
     "data": {
      "text/plain": [
       "<pyarrow._parquet.FileMetaData object at 0x15631dda0>\n",
       "  created_by: parquet-cpp-arrow version 14.0.2\n",
       "  num_columns: 1\n",
       "  num_rows: 560018\n",
       "  num_row_groups: 1\n",
       "  format_version: 2.6\n",
       "  serialized_size: 0"
      ]
     },
     "execution_count": 16,
     "metadata": {},
     "output_type": "execute_result"
    }
   ],
   "source": [
    "#Salvataggio Distribuzione Eta e Phi usando il primo metodo\n",
    "'''ak.to_parquet(DeltaPhi_BMTF_LS133, 'DeltaPhi_BMTF_LS133.parquet')\n",
    "ak.to_parquet(DeltaEta_BMTF_LS133, 'DeltaEta_BMTF_LS133.parquet')\n",
    "\n",
    "ak.to_parquet(DeltaPhi_BMTF_LS263, 'DeltaPhi_BMTF_LS263.parquet')\n",
    "ak.to_parquet(DeltaEta_BMTF_LS263, 'DeltaEta_BMTF_LS263.parquet')\n",
    "\n",
    "\n",
    "ak.to_parquet(DeltaPhi_BMTF_LS264, 'DeltaPhi_BMTF_LS264.parquet')\n",
    "ak.to_parquet(DeltaEta_BMTF_LS264, 'DeltaEta_BMTF_LS264.parquet')\n",
    "\n",
    "ak.to_parquet(DeltaPhi_BMTF_LS306, 'DeltaPhi_BMTF_LS306.parquet')\n",
    "ak.to_parquet(DeltaEta_BMTF_LS306, 'DeltaEta_BMTF_LS306.parquet')'''"
   ]
  },
  {
   "cell_type": "code",
   "execution_count": null,
   "metadata": {},
   "outputs": [],
   "source": [
    "#Distribuzione Eta e Phi usando il secondo metodo\n",
    "\n",
    "DeltaPhi_GMT_LS133, DeltaEta_GMT_LS133 = Distribution(IndexDist_GMT_LS133, BX_BMTF_LS133, BX_GMT_LS133, BmtfPhi_LS133, GmtPhi_LS133, BmtfEta_LS133, GmtEta_LS133, use_Bmtf = False)\n",
    "DeltaPhi_GMT_LS263, DeltaEta_GMT_LS263 = Distribution(IndexDist_GMT_LS263, BX_BMTF_LS263, BX_GMT_LS263, BmtfPhi_LS263, GmtPhi_LS263, BmtfEta_LS263, GmtEta_LS263, use_Bmtf = False)\n",
    "DeltaPhi_GMT_LS264, DeltaEta_GMT_LS264 = Distribution(IndexDist_GMT_LS264, BX_BMTF_LS264, BX_GMT_LS264, BmtfPhi_LS264, GmtPhi_LS264, BmtfEta_LS264, GmtEta_LS264, use_Bmtf = False)\n",
    "DeltaPhi_GMT_LS306, DeltaEta_GMT_LS306 = Distribution(IndexDist_GMT_LS306, BX_BMTF_LS306, BX_GMT_LS306, BmtfPhi_LS306, GmtPhi_LS306, BmtfEta_LS306, GmtEta_LS306, use_Bmtf = False)\n"
   ]
  },
  {
   "cell_type": "code",
   "execution_count": null,
   "metadata": {},
   "outputs": [],
   "source": [
    "#Salvataggio Distribuzione Eta e Phi usando il secondo metodo\n",
    "\n",
    "ak.to_parquet(DeltaPhi_GMT_LS133, 'DeltaPhi_GMT_LS133.parquet')\n",
    "ak.to_parquet(DeltaEta_GMT_LS133, 'DeltaEta_GMT_LS133.parquet')\n",
    "\n",
    "ak.to_parquet(DeltaPhi_GMT_LS263, 'DeltaPhi_GMT_LS263.parquet')\n",
    "ak.to_parquet(DeltaEta_GMT_LS263, 'DeltaEta_GMT_LS263.parquet')\n",
    "\n",
    "\n",
    "ak.to_parquet(DeltaPhi_GMT_LS264, 'DeltaPhi_GMT_LS264.parquet')\n",
    "ak.to_parquet(DeltaEta_GMT_LS264, 'DeltaEta_GMT_LS264.parquet')\n",
    "\n",
    "ak.to_parquet(DeltaPhi_GMT_LS306, 'DeltaPhi_GMT_LS306.parquet')\n",
    "ak.to_parquet(DeltaEta_GMT_LS306, 'DeltaEta_GMT_LS306.parquet')\n"
   ]
  },
  {
   "cell_type": "code",
   "execution_count": 20,
   "metadata": {},
   "outputs": [
    {
     "data": {
      "image/png": "[encoded data removed]",
      "text/plain": [
       "<Figure size 1284x800 with 2 Axes>"
      ]
     },
     "metadata": {},
     "output_type": "display_data"
    }
   ],
   "source": [
    "a = 0.5\n",
    "DeltaPhiRange = np.arange(-a, a, 0.05)\n",
    "DeltaEtaRange = np.arange(-a, a, 0.05)\n",
    "\n",
    "hist2d = hist.Hist(\n",
    "    hist.axis.Variable(DeltaPhiRange, name='Phi'),\n",
    "    hist.axis.Variable(DeltaEtaRange, name='Eta')\n",
    "\n",
    ")\n",
    "hist2d.fill(Phi=DeltaPhi_BMTF_LS306, Eta=DeltaEta_BMTF_LS306)\n",
    "\n",
    "from matplotlib.colors import LogNorm\n",
    "\n",
    "fig, ax = plt.subplots(figsize=(12, 8), constrained_layout=True)\n",
    "set_label_font(ax, FONTSIZE)\n",
    "set_tick_font(ax, FONTSIZE-2)\n",
    "draw_grid(ax, axis=\"y\")\n",
    "draw_cms_label(ax, fontsize=FONTSIZE, label=\"Work in Progress\", rlabel=\"L1 Trigger Scouting 2024 (13.6 TeV)\")\n",
    "\n",
    "hep.hist2dplot(hist2d, cbar=True, cmap='Blues', ax=ax,  norm = LogNorm())\n",
    "\n",
    "cbar = ax.collections[0].colorbar\n",
    "cbar.set_label('Counts', fontsize=FONTSIZE)\n",
    "\n",
    "ax.set_xlabel(r'$\\Delta \\phi$ [rad]')\n",
    "ax.set_ylabel(r'$\\Delta \\eta$')\n",
    "ax.grid(False)\n",
    "\n",
    "ax.tick_params(axis='both', which='both', length=0, labelsize = FONTSIZE - 5)\n",
    "\n",
    "\n",
    "plt.savefig(\"../Immagini/BMTFPhiEta.pdf\")\n",
    "plt.savefig(\"../Immagini/ImmaginiPNG/BMTFPhiEta.png\")\n",
    "\n",
    "plt.show()"
   ]
  },
  {
   "cell_type": "code",
   "execution_count": null,
   "metadata": {},
   "outputs": [],
   "source": []
  }
 ],
 "metadata": {
  "kernelspec": {
   "display_name": "base",
   "language": "python",
   "name": "python3"
  },
  "language_info": {
   "codemirror_mode": {
    "name": "ipython",
    "version": 3
   },
   "file_extension": ".py",
   "mimetype": "text/x-python",
   "name": "python",
   "nbconvert_exporter": "python",
   "pygments_lexer": "ipython3",
   "version": "3.12.2"
  }
 },
 "nbformat": 4,
 "nbformat_minor": 2
}
