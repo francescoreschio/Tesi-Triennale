{
 "cells": [
  {
   "cell_type": "code",
   "execution_count": 1,
   "metadata": {},
   "outputs": [],
   "source": [
    "import numpy as np\n",
    "import matplotlib.pyplot as plt\n",
    "from mpl_toolkits.axes_grid1 import make_axes_locatable\n",
    "from matplotlib import ticker\n",
    "import awkward as ak\n",
    "import uproot \n",
    "import mplhep as hep\n",
    "import hist\n",
    "import os\n",
    "import time\n",
    "from numba import njit\n",
    "from scipy.optimize import curve_fit\n",
    "\n",
    "from UtilityAndConst import *\n",
    "from Functions import *\n",
    "\n",
    "dir = \"/Users/francescolarovere/Documents/Tesi-Triennale/Dati\"\n",
    "os.chdir(dir)\n",
    "\n",
    "hep.style.use(\"CMS\")\n",
    "np.set_printoptions(threshold=np.inf)"
   ]
  },
  {
   "cell_type": "code",
   "execution_count": 2,
   "metadata": {},
   "outputs": [],
   "source": [
    "LS133 = \"./ntupleStubsBmtfGmt_LS133.root\"\n",
    "LS263 = \"./ntupleStubsBmtfGmt_LS263.root\"\n",
    "LS264 = \"./ntupleStubsBmtfGmt_LS264.root\"\n",
    "LS306 = \"./ntupleStubsBmtfGmt_LS306.root\"\n",
    "\n",
    "#Open file\n",
    "stubs_awk_LS133 = OpenRootFile(LS133, stub_features)\n",
    "stubs_awk_LS263 = OpenRootFile(LS263, stub_features)\n",
    "stubs_awk_LS264 = OpenRootFile(LS264, stub_features)\n",
    "stubs_awk_LS306 = OpenRootFile(LS306, stub_features)\n",
    "\n",
    "gmt_awk_LS133 = OpenRootFile(LS133, gmt_features)\n",
    "gmt_awk_LS263 = OpenRootFile(LS263, gmt_features)\n",
    "gmt_awk_LS264 = OpenRootFile(LS264, gmt_features)\n",
    "gmt_awk_LS306 = OpenRootFile(LS306, gmt_features)\n",
    "\n",
    "bmtf_awk_LS133 = OpenRootFile(LS133, bmtf_features)\n",
    "bmtf_awk_LS263 = OpenRootFile(LS263, bmtf_features)\n",
    "bmtf_awk_LS264 = OpenRootFile(LS264, bmtf_features)\n",
    "bmtf_awk_LS306 = OpenRootFile(LS306, bmtf_features)"
   ]
  },
  {
   "cell_type": "code",
   "execution_count": 3,
   "metadata": {},
   "outputs": [],
   "source": [
    "#Caricamenot BX delle stubs\n",
    "BX_LS133 = stubs_awk_LS133.bx\n",
    "BX_LS263 = stubs_awk_LS263.bx\n",
    "BX_LS264 = stubs_awk_LS264.bx\n",
    "BX_LS306 = stubs_awk_LS306.bx\n",
    "\n",
    "#Caricamento muoni di GMT\n",
    "nGmtMuons_LS133 = gmt_awk_LS133.nGmtMuons\n",
    "nGmtMuons_LS263 = gmt_awk_LS263.nGmtMuons\n",
    "nGmtMuons_LS264 = gmt_awk_LS264.nGmtMuons\n",
    "nGmtMuons_LS306 = gmt_awk_LS306.nGmtMuons\n",
    "\n",
    "nBmtfMuons_LS133 = bmtf_awk_LS133.nBmtfMuons\n",
    "nBmtfMuons_LS263 = bmtf_awk_LS263.nBmtfMuons\n",
    "nBmtfMuons_LS264 = bmtf_awk_LS264.nBmtfMuons\n",
    "nBmtfMuons_LS306 = bmtf_awk_LS306.nBmtfMuons"
   ]
  },
  {
   "cell_type": "code",
   "execution_count": 38,
   "metadata": {},
   "outputs": [
    {
     "name": "stdout",
     "output_type": "stream",
     "text": [
      "193.0\n",
      "204.0\n",
      "195.0\n"
     ]
    }
   ],
   "source": [
    "#GMT\n",
    "\n",
    "weightsNGmt = ak.where(nBmtfMuons_LS133 <= 1, nBmtfMuons_LS133, 1)\n",
    "\n",
    "bx_gmt_counts_LS133 = np.bincount(BX_LS133, weights=weightsNGmt)\n",
    "bx_gmt_counts_LS263 = np.bincount(BX_LS263, weights=nGmtMuons_LS263)\n",
    "bx_gmt_counts_LS264 = np.bincount(BX_LS264, weights=nGmtMuons_LS264)\n",
    "bx_gmt_counts_LS306 = np.bincount(BX_LS306, weights=nGmtMuons_LS306)\n",
    "\n",
    "#bx_gmt_counts = (bx_gmt_counts_LS133 + bx_gmt_counts_LS263 + bx_gmt_counts_LS264 + bx_gmt_counts_LS306)/4\n",
    "\n",
    "\n",
    "#BMTF\n",
    "weightsN = ak.where(nBmtfMuons_LS133 <= 1, nBmtfMuons_LS133, 1)\n",
    "\n",
    "\n",
    "bx_bmtf_counts_LS133N = np.bincount(BX_LS133, weights=weightsN)\n",
    "bx_bmtf_counts_LS133 = np.bincount(BX_LS133, weights=nBmtfMuons_LS133)\n",
    "\n",
    "bx_bmtf_counts_LS263 = np.bincount(BX_LS263, weights=nBmtfMuons_LS263)\n",
    "bx_bmtf_counts_LS264 = np.bincount(BX_LS264, weights=nBmtfMuons_LS264)\n",
    "bx_bmtf_counts_LS306 = np.bincount(BX_LS306, weights=nBmtfMuons_LS306)\n",
    "\n",
    "#bx_bmtf_counts = (bx_bmtf_counts_LS133 + bx_bmtf_counts_LS263 + bx_bmtf_counts_LS264 + bx_bmtf_counts_LS306)/4\n",
    "\n",
    "print(bx_bmtf_counts_LS133N[100])\n",
    "print(bx_bmtf_counts_LS133[100])\n",
    "print(bx_gmt_counts_LS133[100])\n"
   ]
  },
  {
   "cell_type": "code",
   "execution_count": 5,
   "metadata": {},
   "outputs": [],
   "source": [
    "def BX_OPT(BX, nMuons):\n",
    "\n",
    "    BX_Matrix = [[] for _ in range(ONE_ORBIT_IN_BX)]\n",
    "    \n",
    "    for j in range(len(BX)):\n",
    "\n",
    "      if nMuons[j] > 0:\n",
    "        BX_Matrix[BX[j]].append([j, nMuons[j]])\n",
    "    \n",
    "    BX_Matrix = ak.Array(BX_Matrix)\n",
    "\n",
    "    return BX_Matrix"
   ]
  },
  {
   "cell_type": "code",
   "execution_count": 6,
   "metadata": {},
   "outputs": [],
   "source": [
    "BX_BMTF_LS133 = BX_OPT(BX_LS133, nBmtfMuons_LS133)\n",
    "BX_GMT_LS133 = BX_OPT(BX_LS133, nGmtMuons_LS133)"
   ]
  },
  {
   "cell_type": "code",
   "execution_count": null,
   "metadata": {},
   "outputs": [],
   "source": []
  },
  {
   "cell_type": "code",
   "execution_count": 7,
   "metadata": {},
   "outputs": [
    {
     "data": {
      "text/plain": [
       "'for i in range(100):\\n  print(i, \" \", BX_BMTF_LS133[i])'"
      ]
     },
     "execution_count": 7,
     "metadata": {},
     "output_type": "execute_result"
    }
   ],
   "source": [
    "'''for i in range(100):\n",
    "  print(i, \" \", BX_BMTF_LS133[i])'''"
   ]
  },
  {
   "cell_type": "code",
   "execution_count": 8,
   "metadata": {},
   "outputs": [],
   "source": [
    "GmtPhi_LS133 = gmt_awk_LS133.gmtPhi\n",
    "GmtEta_LS133 = gmt_awk_LS133.gmtEta\n",
    "\n",
    "BmtfEta_LS133 = bmtf_awk_LS133.bmtfEta\n",
    "BmtfPhi_LS133 = bmtf_awk_LS133.bmtfPhi\n",
    "\n",
    "GmtEta_LS133 = ak.where(ak.num(GmtEta_LS133) == 0, ak.Array([[0]]), GmtEta_LS133)\n",
    "GmtPhi_LS133 = ak.where(ak.num(GmtPhi_LS133) == 0, ak.Array([[0]]), GmtPhi_LS133)\n",
    "BmtfEta_LS133 = ak.where(ak.num(BmtfEta_LS133) == 0, ak.Array([[0]]), BmtfEta_LS133)\n",
    "BmtfPhi_LS133 = ak.where(ak.num(BmtfPhi_LS133) == 0, ak.Array([[0]]), BmtfPhi_LS133)\n"
   ]
  },
  {
   "cell_type": "code",
   "execution_count": 9,
   "metadata": {},
   "outputs": [
    {
     "name": "stdout",
     "output_type": "stream",
     "text": [
      "[2854073, 2]\n"
     ]
    }
   ],
   "source": [
    "print(BX_BMTF_LS133[100, -3])"
   ]
  },
  {
   "cell_type": "code",
   "execution_count": 10,
   "metadata": {},
   "outputs": [
    {
     "name": "stdout",
     "output_type": "stream",
     "text": [
      "193\n"
     ]
    }
   ],
   "source": [
    "print(len(BX_GMT_LS133[100]))"
   ]
  },
  {
   "cell_type": "code",
   "execution_count": 17,
   "metadata": {},
   "outputs": [],
   "source": [
    "def DeltaR(BmtfPhi, GmtPhi, BmtfEta, GmtEta):\n",
    "  return np.sqrt((BmtfPhi - GmtPhi)**2 + (BmtfEta - GmtEta)**2)\n",
    "\n",
    "def DeltaRDistribution(BX_BMTF, BX_GMT, BmtfPhi, GmtPhi, BmtfEta, GmtEta, use_Bmtf = True):\n",
    "\n",
    "  DeltaDist = [[] for _ in range(ONE_ORBIT_IN_BX)]\n",
    "  IndexMin = [[] for _ in range(ONE_ORBIT_IN_BX)]\n",
    "\n",
    "  if use_Bmtf: \n",
    "    for i in range(ONE_ORBIT_IN_BX):\n",
    "\n",
    "      NestedArrayDeltaR = []\n",
    "      NestedArrayIndex = []\n",
    "\n",
    "      BmtfPhiF, BmtfEtaF = ak.flatten(BmtfPhi[BX_BMTF[i, :, 0]]), ak.flatten(BmtfEta[BX_BMTF[i, :, 0]])\n",
    "      GmtPhiF, GmtEtaF = ak.flatten(GmtPhi[BX_GMT[i, :, 0]]), ak.flatten(GmtEta[BX_GMT[i, :, 0]])\n",
    "\n",
    "      #Crea un array con il numero di eventi all'interno di ogni sottoarry, serve per ricostruitre la struttura iniziale\n",
    "      Bmtf_counts = ak.num(BmtfPhi[BX_BMTF[i, :, 0]])\n",
    "      Gmt_counts = ak.num(GmtPhi[BX_GMT[i, :, 0]])\n",
    "\n",
    "      for j in range(len(BmtfPhiF)):\n",
    "\n",
    "        DeltaRTemp = DeltaR(BmtfPhiF[j], GmtPhiF[:], BmtfEtaF[j], GmtEtaF[:])\n",
    "\n",
    "        minDeltaR = np.min(DeltaRTemp)\n",
    "        #indexTemp = np.argmin(DeltaRTemp)\n",
    "\n",
    "        NestedArrayDeltaR.append(minDeltaR)\n",
    "        #NestedArrayIndex.append(indexTemp)\n",
    "\n",
    "      DeltaDist[i].extend(NestedArrayDeltaR)\n",
    "      #IndexMin[i].extend(NestedArrayIndex)\n",
    "\n",
    "  return ak.Array(DeltaDist)#, ak.Array(IndexMin)"
   ]
  },
  {
   "cell_type": "code",
   "execution_count": 18,
   "metadata": {},
   "outputs": [],
   "source": [
    "RDistribution = DeltaRDistribution(BX_BMTF_LS133, BX_GMT_LS133, BmtfPhi_LS133, GmtPhi_LS133, BmtfEta_LS133, GmtEta_LS133, use_Bmtf = True)"
   ]
  },
  {
   "cell_type": "code",
   "execution_count": 34,
   "metadata": {},
   "outputs": [
    {
     "data": {
      "text/plain": [
       "[22283, 24626, 29636, 83509, 184019, 248916, 492124]"
      ]
     },
     "execution_count": 34,
     "metadata": {},
     "output_type": "execute_result"
    }
   ],
   "source": [
    "RDistributionF = ak.flatten(RDistribution)\n",
    "[x for x in range(len(RDistributionF)) if RDistributionF[x] > 0.3]"
   ]
  },
  {
   "cell_type": "code",
   "execution_count": 56,
   "metadata": {},
   "outputs": [
    {
     "name": "stdout",
     "output_type": "stream",
     "text": [
      "0   0.0   0.0\n",
      "1   0.0   0.0\n",
      "2   0.0   0.0\n",
      "3   0.0   0.0\n",
      "4   0.0   0.0\n",
      "5   0.0   0.0\n",
      "6   0.0   0.0\n",
      "7   0.0   0.0\n",
      "8   0.0   0.0\n",
      "9   0.0   0.0\n",
      "10   0.0   0.0\n",
      "11   0.010875016450881958   0.010875016450881958\n",
      "12   0.0   0.0\n",
      "13   0.0   0.0\n",
      "14   0.0   0.0\n",
      "15   0.0   0.0\n",
      "16   0.0   0.0\n",
      "17   0.0   0.0\n",
      "17   0.0   0.0\n",
      "18   0.0   0.0\n",
      "19   0.0   0.0\n",
      "20   0.0   0.0\n",
      "21   0.0   0.0\n",
      "22   0.0   0.0\n",
      "23   0.0   0.0\n",
      "24   0.0   0.0\n",
      "25   0.0   0.0\n",
      "26   0.0   0.0\n",
      "26   0.0   0.0\n",
      "27   0.0   0.0\n",
      "28   0.0   0.0\n",
      "29   0.010875001549720764   0.010875001549720764\n",
      "30   0.0   0.0\n",
      "31   0.0   0.0\n",
      "32   0.0   0.0\n",
      "33   0.0   0.0\n",
      "34   0.0   0.0\n",
      "35   0.09787499904632568   0.09787499904632568\n",
      "35   0.0   0.0\n",
      "36   0.0   0.0\n",
      "37   0.0   0.0\n",
      "38   0.0   0.0\n",
      "39   0.0   0.0\n",
      "40   0.0   0.0\n",
      "41   0.010875046253204346   0.010875046253204346\n",
      "42   0.0   0.0\n",
      "43   0.0   0.0\n",
      "44   0.0   0.0\n",
      "45   0.0   0.0\n",
      "46   0.0   0.0\n",
      "46   0.0   0.0\n",
      "47   0.0   0.0\n",
      "48   0.0   0.0\n",
      "49   0.0   0.0\n",
      "50   0.0   0.0\n",
      "51   0.0   0.0\n",
      "52   0.0   0.0\n",
      "53   0.01087498664855957   0.01087498664855957\n",
      "54   0.0   0.0\n",
      "55   0.01087498664855957   0.01087498664855957\n",
      "56   0.010875001549720764   0.010875001549720764\n",
      "57   0.0   0.0\n",
      "58   0.0   0.0\n",
      "59   0.0   0.0\n",
      "59   0.02174997329711914   0.02174997329711914\n",
      "60   0.01087498664855957   0.01087498664855957\n",
      "61   0.0   0.0\n",
      "62   0.0   0.0\n",
      "63   0.0   0.0\n",
      "64   0.0   0.0\n",
      "65   0.0   0.0\n",
      "66   0.0   0.0\n",
      "67   0.0   0.0\n",
      "68   0.0   0.0\n",
      "69   0.0   0.0\n",
      "70   0.0   0.0\n",
      "71   0.0   0.0\n",
      "72   0.0   0.0\n",
      "73   0.010874994099140167   0.010874994099140167\n",
      "74   0.0   0.0\n",
      "75   0.0   0.0\n",
      "76   0.0   0.0\n",
      "77   0.0   0.0\n",
      "78   0.0   0.0\n",
      "79   0.0   0.0\n",
      "79   0.0   0.0\n",
      "80   0.0   0.0\n",
      "81   0.0   0.0\n",
      "82   0.0   0.0\n",
      "83   0.0   0.0\n",
      "84   0.0   0.0\n",
      "85   0.0   0.0\n",
      "86   0.01087498664855957   0.01087498664855957\n",
      "87   0.0   0.0\n",
      "88   0.010875001549720764   0.010875001549720764\n",
      "89   0.0   0.0\n",
      "90   0.0   0.0\n",
      "91   0.0   0.0\n",
      "92   0.0   0.0\n",
      "93   0.0   0.0\n"
     ]
    }
   ],
   "source": [
    "i = 100\n",
    "BmtfPhiF, BmtfEtaF = ak.flatten(BmtfPhi_LS133[BX_BMTF_LS133[i, :, 0]]), ak.flatten(BmtfEta_LS133[BX_BMTF_LS133[i, :, 0]])\n",
    "GmtPhiF, GmtEtaF = ak.flatten(GmtPhi_LS133[BX_GMT_LS133[i, :, 0]]), ak.flatten(GmtEta_LS133[BX_GMT_LS133[i, :, 0]])\n",
    "\n",
    "for j in range(100):\n",
    "  DeltaRTemp = DeltaR(BmtfPhiF[j], GmtPhiF[:], BmtfEtaF[j], GmtEtaF[:])\n",
    "  print(np.argmin(DeltaRTemp), \" \", np.min(DeltaRTemp), \" \", DeltaRTemp[np.argmin(DeltaRTemp)])\n",
    "\n",
    "  \n"
   ]
  },
  {
   "cell_type": "code",
   "execution_count": 29,
   "metadata": {},
   "outputs": [
    {
     "name": "stdout",
     "output_type": "stream",
     "text": [
      "193\n"
     ]
    }
   ],
   "source": [
    "i = 100\n",
    "Bmtf_counts = ak.num(BmtfPhi_LS133[BX_BMTF_LS133[i, :, 0]])\n",
    "\n",
    "print(len(Bmtf_counts))"
   ]
  },
  {
   "cell_type": "code",
   "execution_count": 13,
   "metadata": {},
   "outputs": [
    {
     "name": "stdout",
     "output_type": "stream",
     "text": [
      "[0.665, 2.57, -1.6, -1.27, 1.91, 1.13, ..., -1.46, 1.65, 2.45, -2.3, 3.09]\n"
     ]
    },
    {
     "data": {
      "text/plain": [
       "'print(len(ak.flatten(BmtfPhi_LS133[BX_BMTF_LS133[i, :, 0]])))\\n\\nprint(len(ak.flatten(GmtPhi_LS133[BX_GMT_LS133[i, :, 0]])))'"
      ]
     },
     "execution_count": 13,
     "metadata": {},
     "output_type": "execute_result"
    }
   ],
   "source": [
    "i = 100\n",
    "j = -3\n",
    "'''print(BmtfPhi_LS133[BX_BMTF_LS133[i, j]])\n",
    "print(BX_BMTF_LS133[i, j])\n",
    "print(len(GmtPhi_LS133[BX_GMT_LS133[i, :, 0]]))'''\n",
    "\n",
    "\n",
    "\n",
    "BmtfPhi_LS133M = ak.flatten(BmtfPhi_LS133[BX_BMTF_LS133[i, :, 0]])\n",
    "print(BmtfPhi_LS133M)\n",
    "'''for j in range(len(BX_GMT_LS133[i])):\n",
    "  print(GmtPhi_LS133[BX_GMT_LS133[i, j, 0]])'''\n",
    "'''print(len(ak.flatten(BmtfPhi_LS133[BX_BMTF_LS133[i, :, 0]])))\n",
    "\n",
    "print(len(ak.flatten(GmtPhi_LS133[BX_GMT_LS133[i, :, 0]])))'''"
   ]
  },
  {
   "cell_type": "code",
   "execution_count": 25,
   "metadata": {},
   "outputs": [
    {
     "name": "stdout",
     "output_type": "stream",
     "text": [
      "Il massimo si trova in posizione: ([3 4 3 4], [0 1 0 1])\n"
     ]
    }
   ],
   "source": [
    "import awkward as ak\n",
    "import numpy as np\n",
    "\n",
    "# Array originale annidato\n",
    "original = ak.Array([[1, 2, 3], [], [4, 5], [6]])\n",
    "\n",
    "print(\"Array originale:\")\n",
    "print(original)\n",
    "\n",
    "# Salva la struttura originale\n",
    "original_counts = ak.num(original)\n",
    "\n",
    "# Appiattisci l'array\n",
    "flattened = ak.flatten(original)\n",
    "\n",
    "print(\"\\nArray appiattito:\")\n",
    "print(flattened)\n",
    "\n",
    "# Ricostruisci l'array usando ak.unflatten()\n",
    "reconstructed = ak.unflatten(flattened, original_counts)\n",
    "\n",
    "print(\"\\nArray ricostruito con ak.unflatten():\")\n",
    "print(reconstructed)\n",
    "\n",
    "# Alternativa usando ak.partition()\n",
    "partitioned = ak.partition(flattened, original_counts)\n",
    "\n",
    "print(\"\\nArray ricostruito con ak.partition():\")\n",
    "print(partitioned)\n",
    "\n",
    "# Verifica che le ricostruzioni siano uguali all'originale\n",
    "print(\"\\nLa ricostruzione con unflatten è uguale all'originale?\")\n",
    "print(ak.all(reconstructed == original))\n",
    "\n",
    "print(\"\\nLa ricostruzione con partition è uguale all'originale?\")\n",
    "print(ak.all(partitioned == original))"
   ]
  },
  {
   "cell_type": "code",
   "execution_count": null,
   "metadata": {},
   "outputs": [],
   "source": []
  }
 ],
 "metadata": {
  "kernelspec": {
   "display_name": "base",
   "language": "python",
   "name": "python3"
  },
  "language_info": {
   "codemirror_mode": {
    "name": "ipython",
    "version": 3
   },
   "file_extension": ".py",
   "mimetype": "text/x-python",
   "name": "python",
   "nbconvert_exporter": "python",
   "pygments_lexer": "ipython3",
   "version": "3.12.2"
  }
 },
 "nbformat": 4,
 "nbformat_minor": 2
}
