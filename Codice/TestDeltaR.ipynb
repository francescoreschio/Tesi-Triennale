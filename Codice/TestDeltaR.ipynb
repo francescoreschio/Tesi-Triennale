{
 "cells": [
  {
   "cell_type": "code",
   "execution_count": 1,
   "metadata": {},
   "outputs": [],
   "source": [
    "import numpy as np\n",
    "import matplotlib.pyplot as plt\n",
    "from mpl_toolkits.axes_grid1 import make_axes_locatable\n",
    "from matplotlib import ticker\n",
    "import awkward as ak\n",
    "import uproot \n",
    "import mplhep as hep\n",
    "import hist\n",
    "import os\n",
    "import time\n",
    "from numba import njit\n",
    "from scipy.optimize import curve_fit\n",
    "\n",
    "from UtilityAndConst import *\n",
    "from Functions import *\n",
    "\n",
    "dir = \"/Users/francescolarovere/Documents/Tesi-Triennale/Dati\"\n",
    "os.chdir(dir)\n",
    "\n",
    "hep.style.use(\"CMS\")\n",
    "np.set_printoptions(threshold=np.inf)"
   ]
  },
  {
   "cell_type": "code",
   "execution_count": 2,
   "metadata": {},
   "outputs": [],
   "source": [
    "LS133 = \"./ntupleStubsBmtfGmt_LS133.root\"\n",
    "LS263 = \"./ntupleStubsBmtfGmt_LS263.root\"\n",
    "LS264 = \"./ntupleStubsBmtfGmt_LS264.root\"\n",
    "LS306 = \"./ntupleStubsBmtfGmt_LS306.root\"\n",
    "\n",
    "#Open file\n",
    "stubs_awk_LS133 = OpenRootFile(LS133, stub_features)\n",
    "stubs_awk_LS263 = OpenRootFile(LS263, stub_features)\n",
    "stubs_awk_LS264 = OpenRootFile(LS264, stub_features)\n",
    "stubs_awk_LS306 = OpenRootFile(LS306, stub_features)\n",
    "\n",
    "gmt_awk_LS133 = OpenRootFile(LS133, gmt_features)\n",
    "gmt_awk_LS263 = OpenRootFile(LS263, gmt_features)\n",
    "gmt_awk_LS264 = OpenRootFile(LS264, gmt_features)\n",
    "gmt_awk_LS306 = OpenRootFile(LS306, gmt_features)\n",
    "\n",
    "bmtf_awk_LS133 = OpenRootFile(LS133, bmtf_features)\n",
    "bmtf_awk_LS263 = OpenRootFile(LS263, bmtf_features)\n",
    "bmtf_awk_LS264 = OpenRootFile(LS264, bmtf_features)\n",
    "bmtf_awk_LS306 = OpenRootFile(LS306, bmtf_features)"
   ]
  },
  {
   "cell_type": "code",
   "execution_count": 16,
   "metadata": {},
   "outputs": [],
   "source": [
    "#Caricamenot BX delle stubs\n",
    "BX_LS133 = stubs_awk_LS133.bx\n",
    "BX_LS263 = stubs_awk_LS263.bx\n",
    "BX_LS264 = stubs_awk_LS264.bx\n",
    "BX_LS306 = stubs_awk_LS306.bx\n",
    "\n",
    "#Caricamento muoni di GMT\n",
    "nGmtMuons_LS133 = gmt_awk_LS133.nGmtMuons\n",
    "nGmtMuons_LS263 = gmt_awk_LS263.nGmtMuons\n",
    "nGmtMuons_LS264 = gmt_awk_LS264.nGmtMuons\n",
    "nGmtMuons_LS306 = gmt_awk_LS306.nGmtMuons\n",
    "\n",
    "nBmtfMuons_LS133 = bmtf_awk_LS133.nBmtfMuons\n",
    "nBmtfMuons_LS263 = bmtf_awk_LS263.nBmtfMuons\n",
    "nBmtfMuons_LS264 = bmtf_awk_LS264.nBmtfMuons\n",
    "nBmtfMuons_LS306 = bmtf_awk_LS306.nBmtfMuons"
   ]
  },
  {
   "cell_type": "code",
   "execution_count": 137,
   "metadata": {},
   "outputs": [
    {
     "name": "stdout",
     "output_type": "stream",
     "text": [
      "193.0\n",
      "204.0\n",
      "193.0\n"
     ]
    }
   ],
   "source": [
    "#GMT\n",
    "\n",
    "weightsNGmt = ak.where(nBmtfMuons_LS133 <= 1, nBmtfMuons_LS133, 1)\n",
    "\n",
    "bx_gmt_counts_LS133 = np.bincount(BX_LS133, weights=weightsNGmt)\n",
    "bx_gmt_counts_LS263 = np.bincount(BX_LS263, weights=nGmtMuons_LS263)\n",
    "bx_gmt_counts_LS264 = np.bincount(BX_LS264, weights=nGmtMuons_LS264)\n",
    "bx_gmt_counts_LS306 = np.bincount(BX_LS306, weights=nGmtMuons_LS306)\n",
    "\n",
    "#bx_gmt_counts = (bx_gmt_counts_LS133 + bx_gmt_counts_LS263 + bx_gmt_counts_LS264 + bx_gmt_counts_LS306)/4\n",
    "\n",
    "\n",
    "#BMTF\n",
    "weightsN = ak.where(nBmtfMuons_LS133 <= 1, nBmtfMuons_LS133, 1)\n",
    "\n",
    "\n",
    "bx_bmtf_counts_LS133N = np.bincount(BX_LS133, weights=weightsN)\n",
    "bx_bmtf_counts_LS133 = np.bincount(BX_LS133, weights=nBmtfMuons_LS133)\n",
    "\n",
    "bx_bmtf_counts_LS263 = np.bincount(BX_LS263, weights=nBmtfMuons_LS263)\n",
    "bx_bmtf_counts_LS264 = np.bincount(BX_LS264, weights=nBmtfMuons_LS264)\n",
    "bx_bmtf_counts_LS306 = np.bincount(BX_LS306, weights=nBmtfMuons_LS306)\n",
    "\n",
    "#bx_bmtf_counts = (bx_bmtf_counts_LS133 + bx_bmtf_counts_LS263 + bx_bmtf_counts_LS264 + bx_bmtf_counts_LS306)/4\n",
    "\n",
    "print(bx_bmtf_counts_LS133N[100])\n",
    "print(bx_bmtf_counts_LS133[100])\n",
    "print(bx_gmt_counts_LS133[100])\n"
   ]
  },
  {
   "cell_type": "code",
   "execution_count": 111,
   "metadata": {},
   "outputs": [],
   "source": [
    "def BX_OPT(BX, nMuons):\n",
    "\n",
    "    BX_Matrix = [[] for _ in range(ONE_ORBIT_IN_BX)]\n",
    "    \n",
    "    for j in range(len(BX)):\n",
    "      if nMuons[j] == 1:\n",
    "        BX_Matrix[BX[j]].append([j])\n",
    "      \n",
    "      if nMuons[j] > 1:\n",
    "        BX_Matrix[BX[j]].append([j, nMuons[j]])\n",
    "    \n",
    "    BX_Matrix = ak.Array(BX_Matrix)\n",
    "\n",
    "    return BX_Matrix"
   ]
  },
  {
   "cell_type": "code",
   "execution_count": 122,
   "metadata": {},
   "outputs": [],
   "source": [
    "BX_BMTF_LS133 = BX_OPT(BX_LS133, nBmtfMuons_LS133)\n",
    "BX_GMT_LS133 = BX_OPT(BX_LS133, nGmtMuons_LS133)"
   ]
  },
  {
   "cell_type": "code",
   "execution_count": 113,
   "metadata": {},
   "outputs": [
    {
     "name": "stdout",
     "output_type": "stream",
     "text": [
      "[[], [], [], [], [[1017253]], [[1648233]], [...], ..., [], [], [], [], [], []]\n"
     ]
    }
   ],
   "source": [
    "print(BX_BMTF_LS133)"
   ]
  },
  {
   "cell_type": "code",
   "execution_count": 114,
   "metadata": {},
   "outputs": [
    {
     "name": "stdout",
     "output_type": "stream",
     "text": [
      "524219\n",
      "0   []\n",
      "1   []\n",
      "2   []\n",
      "3   []\n",
      "4   [[1017253]]\n",
      "5   [[1648233]]\n",
      "6   [[273774], [1648234]]\n",
      "7   [[540931], [1648235]]\n",
      "8   [[1205576]]\n",
      "9   []\n",
      "10   [[208712]]\n",
      "11   []\n",
      "12   [[152325]]\n",
      "13   []\n",
      "14   []\n",
      "15   [[1607009]]\n",
      "16   []\n",
      "17   []\n",
      "18   []\n",
      "19   []\n",
      "20   []\n",
      "21   []\n",
      "22   []\n",
      "23   []\n",
      "24   []\n",
      "25   [[1556071]]\n",
      "26   []\n",
      "27   [[1556073]]\n",
      "28   []\n",
      "29   []\n",
      "30   []\n",
      "31   []\n",
      "32   []\n",
      "33   []\n",
      "34   []\n",
      "35   []\n",
      "36   []\n",
      "37   []\n",
      "38   []\n",
      "39   []\n",
      "40   []\n",
      "41   []\n",
      "42   []\n",
      "43   []\n",
      "44   []\n",
      "45   []\n",
      "46   [[1677690]]\n",
      "47   []\n",
      "48   []\n",
      "49   []\n",
      "50   [[2866901]]\n",
      "51   [[765072, 2]]\n",
      "52   []\n",
      "53   []\n",
      "54   []\n",
      "55   []\n",
      "56   []\n",
      "57   []\n",
      "58   []\n",
      "59   []\n",
      "60   []\n",
      "61   []\n",
      "62   []\n",
      "63   []\n",
      "64   []\n",
      "65   []\n",
      "66   []\n",
      "67   []\n",
      "68   []\n",
      "69   [[1240414]]\n",
      "70   [[833646], [1535683]]\n",
      "71   [[4531], [33402], [36051], [36242], ..., [2889793], [2893992], [2898171]]\n",
      "72   [[3708], [5639], [6127], [18509], ..., [2883042], [2890813], [2895526]]\n",
      "73   [[2893], [32363], [34912], [42532], ..., [2881228], [2886162], [2891135]]\n",
      "74   [[12412], [31415, 2], [36412], [42872], ..., [2859039], [2871295], [2887807]]\n",
      "75   [[53230], [53582], [82348], [88592], ..., [2844165], [2868674], [2896843]]\n",
      "76   [[20899], [28579], [36922], [53583], ..., [2881229], [2891810], [2895853]]\n",
      "77   [[4533], [17456], [22995], [23152], ..., [2831536], [2866902], [2891660]]\n",
      "78   [[40730], [52893], [58677], [65019], ..., [2882567], [2883524], [2896351]]\n",
      "79   [[4052], [9070], [15563], [26263], ..., [2879762], [2882880], [2895358, 2]]\n",
      "80   [[10287], [13910], [34569], [47355], ..., [2838340], [2883367], [2897474]]\n",
      "81   [[27127], [31115], [63956, 2], [73740], ..., [2880721], [2883525], [2889976]]\n",
      "82   [[26433, 2], [28899], [52391], [79153], ..., [2857204], [2859376], [2885984]]\n",
      "83   [[2897, 2], [9071], [24815], [35402], ..., [2877445], [2893154], [2893495]]\n",
      "84   [[9072], [18819], [29925], [37082], ..., [2847093], [2872609], [2888455]]\n",
      "85   [[7028, 2], [24320], [34915], [78287], ..., [2881062], [2883860], [2896194]]\n",
      "86   [[8028], [18985], [19348], [50300], ..., [2889795, 2], [2896195], [2898326]]\n",
      "87   [[45278], [114991], [139541], [143702], ..., [2854431], [2860024, 2], [2865925]]\n",
      "88   [[8695], [17288], [17630], [28250], ..., [2884744], [2890976], [2892983]]\n",
      "89   [[6848], [38899], [45456], [47995], ..., [2849122], [2878131], [2889606]]\n",
      "90   [[5499], [17631], [49217], [50841], ..., [2835054], [2858497], [2869153]]\n",
      "91   [[16228], [18323], [25638, 2], [40211], ..., [2876963], [2885282], [2890978]]\n",
      "92   [[3559], [37560], [45649], [49394], ..., [2819006, 2], [2857808], [2865597]]\n",
      "93   [[38429], [38586], [43036], [43889], ..., [2862547], [2881230], [2883862]]\n",
      "94   [[1177, 2], [2721], [7692], [39897], ..., [2872610, 2], [2880440], [2895854]]\n",
      "95   [[3062], [9074], [10816], [42691], ..., [2865776], [2881926], [2884396]]\n",
      "96   [[23315], [23497], [28416], [58525], ..., [2860025], [2861541], [2898173]]\n",
      "97   [[41046, 2], [52392], [56388], [78289], ..., [2862378], [2884920], [2887810]]\n",
      "98   [[2722], [20902], [45457], [50468], ..., [2852459], [2872930], [2890315]]\n",
      "99   [[10817], [14075], [24617], [32071], ..., [2831538], [2846620], [2848278]]\n"
     ]
    }
   ],
   "source": [
    "print(len(ak.flatten(BX_BMTF_LS133)))\n",
    "\n",
    "for i in range(100):\n",
    "  print(i, \" \", BX_BMTF_LS133[i])"
   ]
  },
  {
   "cell_type": "code",
   "execution_count": 83,
   "metadata": {},
   "outputs": [],
   "source": [
    "GmtPhi_LS133 = gmt_awk_LS133.gmtPhi\n",
    "GmtEta_LS133 = gmt_awk_LS133.gmtEta\n",
    "\n",
    "BmtfEta_LS133 = bmtf_awk_LS133.bmtfEta\n",
    "BmtfPhi_LS133 = bmtf_awk_LS133.bmtfPhi\n",
    "\n",
    "GmtEta_LS133 = ak.flatten(ak.where(ak.num(GmtEta_LS133) == 0, ak.Array([[0]]), GmtEta_LS133))\n",
    "GmtPhi_LS133 = ak.flatten(ak.where(ak.num(GmtPhi_LS133) == 0, ak.Array([[0]]), GmtPhi_LS133))\n",
    "BmtfEta_LS133 = ak.flatten(ak.where(ak.num(BmtfEta_LS133) == 0, ak.Array([[0]]), BmtfEta_LS133))\n",
    "BmtfPhi_LS133 = ak.where(ak.num(BmtfPhi_LS133) == 0, ak.Array([[0]]), BmtfPhi_LS133)\n"
   ]
  },
  {
   "cell_type": "code",
   "execution_count": 126,
   "metadata": {},
   "outputs": [
    {
     "name": "stdout",
     "output_type": "stream",
     "text": [
      "[2854073, 2]\n"
     ]
    }
   ],
   "source": [
    "print(BX_BMTF_LS133[100, -3])"
   ]
  },
  {
   "cell_type": "code",
   "execution_count": 138,
   "metadata": {},
   "outputs": [],
   "source": [
    "def DeltaR(BmtfPhi, GmtPhi, BmtfEta, GmtEta):\n",
    "  return np.sqrt((BmtfPhi - GmtPhi)**2 + (BmtfEta - GmtEta)**2)\n",
    "\n",
    "def DeltaRDistribution(BX_BMTF, BX_GMT, BmtfPhi, GmtPhi, BmtfEta, GmtEta, use_Bmtf = True):\n",
    "\n",
    "  DeltaDist = [[] for _ in range(ONE_ORBIT_IN_BX)]\n",
    "  IndexMin = [[] for _ in range(ONE_ORBIT_IN_BX)]\n",
    "\n",
    "  if use_Bmtf: \n",
    "    for i in range(ONE_ORBIT_IN_BX):\n",
    "\n",
    "      NestedArrayDeltaR = []\n",
    "      NestedArrayIndex = []\n",
    "\n",
    "      for j in range(len(BX_BMTF[i])):\n",
    "        DeltaRTemp = DeltaR(BmtfPhi[BX_BMTF[i, j, 0]], GmtPhi[BX_GMT[i, :, 0]], BmtfEta[BX_BMTF[i, j, 0]], GmtEta[BX_GMT[i, :, 0]])\n",
    "\n",
    "        minDeltaR = np.min(DeltaRTemp)\n",
    "        indexTemp = np.argmin(DeltaRTemp)\n",
    "\n",
    "        NestedArrayDeltaR.append(minDeltaR)\n",
    "        NestedArrayIndex.append(indexTemp)\n",
    "\n",
    "      DeltaDist[i].extend(NestedArrayDeltaR)\n",
    "      IndexMin[i].extend(NestedArrayIndex)\n",
    "\n",
    "  return ak.Array(DeltaDist), ak.Array(IndexMin)"
   ]
  },
  {
   "cell_type": "code",
   "execution_count": 140,
   "metadata": {},
   "outputs": [],
   "source": [
    "#RDistribution = DeltaRDistribution(BX_BMTF_LS133, BX_GMT_LS133, BmtfPhi_LS133, GmtPhi_LS133, BmtfEta_LS133, GmtEta_LS133, use_Bmtf = True)"
   ]
  },
  {
   "cell_type": "code",
   "execution_count": 136,
   "metadata": {},
   "outputs": [
    {
     "name": "stdout",
     "output_type": "stream",
     "text": [
      "[[1.65, 2.45], [0]]\n",
      "[2854073, 2]\n",
      "193\n"
     ]
    }
   ],
   "source": [
    "i = 100\n",
    "j = -3\n",
    "print(BmtfPhi_LS133[BX_BMTF_LS133[i, j]])\n",
    "print(BX_BMTF_LS133[i, j])\n",
    "print(len(GmtPhi_LS133[BX_GMT_LS133[i, :, 0]]))"
   ]
  },
  {
   "cell_type": "code",
   "execution_count": null,
   "metadata": {},
   "outputs": [],
   "source": []
  }
 ],
 "metadata": {
  "kernelspec": {
   "display_name": "base",
   "language": "python",
   "name": "python3"
  },
  "language_info": {
   "codemirror_mode": {
    "name": "ipython",
    "version": 3
   },
   "file_extension": ".py",
   "mimetype": "text/x-python",
   "name": "python",
   "nbconvert_exporter": "python",
   "pygments_lexer": "ipython3",
   "version": "3.12.2"
  }
 },
 "nbformat": 4,
 "nbformat_minor": 2
}
