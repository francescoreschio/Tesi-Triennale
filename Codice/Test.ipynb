{
 "cells": [
  {
   "cell_type": "code",
   "execution_count": 2,
   "metadata": {},
   "outputs": [],
   "source": [
    "import numpy as np\n",
    "import matplotlib.pyplot as plt\n",
    "import awkward as ak\n",
    "import uproot \n",
    "import mplhep as hep\n",
    "import hist\n",
    "import os\n",
    "\n",
    "dir = \"/Users/francescolarovere/Documents/Tesi-Triennale/Dati\"\n",
    "os.chdir(dir)"
   ]
  },
  {
   "cell_type": "code",
   "execution_count": 5,
   "metadata": {},
   "outputs": [
    {
     "data": {
      "text/html": [
       "<pre>[{orbit: 34693131, bx: 101, nStubs: 1, stubHwPhi: [-1064], ...},\n",
       " {orbit: 34693131, bx: 106, nStubs: 1, stubHwPhi: [-255], stubHwPhiB: ..., ...},\n",
       " {orbit: 34693131, bx: 107, nStubs: 1, stubHwPhi: [-252], stubHwPhiB: ..., ...},\n",
       " {orbit: 34693131, bx: 126, nStubs: 1, stubHwPhi: [78], stubHwPhiB: [8], ...},\n",
       " {orbit: 34693131, bx: 189, nStubs: 1, stubHwPhi: [586], stubHwPhiB: ..., ...},\n",
       " {orbit: 34693131, bx: 190, nStubs: 1, stubHwPhi: [588], stubHwPhiB: ..., ...},\n",
       " {orbit: 34693131, bx: 205, nStubs: 1, stubHwPhi: [693], stubHwPhiB: ..., ...},\n",
       " {orbit: 34693131, bx: 211, nStubs: 1, stubHwPhi: [624], stubHwPhiB: ..., ...},\n",
       " {orbit: 34693131, bx: 227, nStubs: 1, stubHwPhi: [850], stubHwPhiB: ..., ...},\n",
       " {orbit: 34693131, bx: 230, nStubs: 1, stubHwPhi: [-1366], ...},\n",
       " ...,\n",
       " {orbit: 34865148, bx: 3253, nStubs: 1, stubHwPhi: [217], stubHwPhiB: ..., ...},\n",
       " {orbit: 34865148, bx: 3276, nStubs: 3, stubHwPhi: [271, ...], ...},\n",
       " {orbit: 34865148, bx: 3287, nStubs: 1, stubHwPhi: [829], stubHwPhiB: ..., ...},\n",
       " {orbit: 34865148, bx: 3327, nStubs: 2, stubHwPhi: [-821, ...], ...},\n",
       " {orbit: 34865148, bx: 3392, nStubs: 1, stubHwPhi: [665], stubHwPhiB: ..., ...},\n",
       " {orbit: 34865148, bx: 3409, nStubs: 1, stubHwPhi: [-674], ...},\n",
       " {orbit: 34865148, bx: 3412, nStubs: 1, stubHwPhi: [-2], stubHwPhiB: ..., ...},\n",
       " {orbit: 34865148, bx: 3439, nStubs: 1, stubHwPhi: [74], stubHwPhiB: [17], ...},\n",
       " {orbit: 34865148, bx: 3525, nStubs: 1, stubHwPhi: [2044], ...}]\n",
       "--------------------------------------------------------------------------------\n",
       "type: 2898488 * {\n",
       "    orbit: uint32,\n",
       "    bx: uint32,\n",
       "    nStubs: int32,\n",
       "    stubHwPhi: var * int32,\n",
       "    stubHwPhiB: var * int32,\n",
       "    stubHwQual: var * int32,\n",
       "    stubHwEta: var * int32,\n",
       "    stubHwQEta: var * int32,\n",
       "    stubStation: var * int32,\n",
       "    stubWheel: var * int32,\n",
       "    stubSector: var * int32,\n",
       "    stubTag: var * int32\n",
       "}</pre>"
      ],
      "text/plain": [
       "<Array [{orbit: 34693131, bx: 101, ...}, ...] type='2898488 * {orbit: uint3...'>"
      ]
     },
     "execution_count": 5,
     "metadata": {},
     "output_type": "execute_result"
    }
   ],
   "source": [
    "file = \"./ntupleStubsBmtfGmt_LS133.root\"\n",
    "\n",
    "#Solo per le stubs\n",
    "stub_features = ['orbit', 'bx', 'nStubs', 'stubHwPhi', 'stubHwPhiB', 'stubHwQual', 'stubHwEta', 'stubHwQEta', 'stubStation', 'stubWheel', 'stubSector', 'stubTag']\n",
    "\n",
    "with uproot.open(file) as f:\n",
    "    evs = f[\"bmtfNtuplizer/Events\"]\n",
    "    stubs_awk = evs.arrays(stub_features, library=\"ak\")\n",
    "\n",
    "stubs_awk"
   ]
  },
  {
   "cell_type": "code",
   "execution_count": null,
   "metadata": {},
   "outputs": [],
   "source": []
  }
 ],
 "metadata": {
  "kernelspec": {
   "display_name": "base",
   "language": "python",
   "name": "python3"
  },
  "language_info": {
   "codemirror_mode": {
    "name": "ipython",
    "version": 3
   },
   "file_extension": ".py",
   "mimetype": "text/x-python",
   "name": "python",
   "nbconvert_exporter": "python",
   "pygments_lexer": "ipython3",
   "version": "3.12.2"
  }
 },
 "nbformat": 4,
 "nbformat_minor": 2
}
