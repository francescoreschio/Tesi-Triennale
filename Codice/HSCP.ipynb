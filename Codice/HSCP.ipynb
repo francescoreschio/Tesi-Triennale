{
 "cells": [
  {
   "cell_type": "code",
   "execution_count": 1,
   "metadata": {},
   "outputs": [],
   "source": [
    "import numpy as np\n",
    "import matplotlib.pyplot as plt\n",
    "from mpl_toolkits.axes_grid1 import make_axes_locatable\n",
    "from matplotlib import ticker\n",
    "import awkward as ak\n",
    "import uproot \n",
    "import mplhep as hep\n",
    "import hist\n",
    "import os\n",
    "import time\n",
    "from numba import njit\n",
    "from matplotlib.colors import LogNorm\n",
    "import tqdm\n",
    "import pickle \n",
    "from numba import jit\n",
    "\n",
    "\n",
    "\n",
    "from UtilityAndConst import *\n",
    "from Functions import *\n",
    "\n",
    "dir = \"/Users/francescolarovere/Documents/Tesi-Triennale/Dati\"\n",
    "os.chdir(dir)\n",
    "\n",
    "hep.style.use(\"CMS\")\n",
    "np.set_printoptions(threshold=np.inf)"
   ]
  },
  {
   "cell_type": "code",
   "execution_count": 2,
   "metadata": {},
   "outputs": [],
   "source": [
    "files = [\n",
    "    \"./ntupleStubsBmtfGmt_LS133.root\",\n",
    "    \"./ntupleStubsBmtfGmt_LS263.root\",\n",
    "    \"./ntupleStubsBmtfGmt_LS264.root\",\n",
    "    \"./ntupleStubsBmtfGmt_LS306.root\",\n",
    "]\n",
    "\n",
    "stub_bmtf_gmt_features = [\n",
    "    'orbit', 'bx', 'nStubs', 'stubHwPhi', 'stubHwPhiB', 'stubHwQual', 'stubHwEta', 'stubHwQEta', 'stubStation', 'stubWheel', 'stubSector', 'stubTag',\n",
    "    'nBmtfMuons', 'bmtfHwPt', 'bmtfHwPtu', 'bmtfHwPhi', 'bmtfHwEta', 'bmtfPt', 'bmtfPtu', 'bmtfPhi', 'bmtfEta', 'bmtfHwSign', 'bmtfHwSignValid', 'bmtfHwDXY', 'bmtfHwQual', 'bmtfProcessor', \n",
    "    'nGmtMuons', 'gmtHwPt', 'gmtHwPtu', 'gmtHwPhi', 'gmtHwEta', 'gmtHwPhiAtVtx', 'gmtHwEtaAtVtx', 'gmtPt', 'gmtPtu', 'gmtPhi', 'gmtEta', 'gmtPhiAtVtx', 'gmtEtaAtVtx', 'gmtCharge', 'gmtDxy', 'gmtQual', 'gmtTfIndex']\n",
    "\n",
    "stub_bmtf_gmt_list = []\n",
    "for file in files:\n",
    "    with uproot.open(file) as f:\n",
    "        evs = f[\"bmtfNtuplizer/Events\"]\n",
    "        temp_awk = evs.arrays(stub_bmtf_gmt_features, library=\"ak\")\n",
    "        stub_bmtf_gmt_list.append(temp_awk)\n",
    "        \n",
    "bmtf_gmt = ak.concatenate(stub_bmtf_gmt_list, axis=0)"
   ]
  },
  {
   "cell_type": "code",
   "execution_count": 3,
   "metadata": {},
   "outputs": [],
   "source": [
    "#-----------------------------------------------Stubs------------------------------------------------\n",
    "nStubs = bmtf_gmt.nStubs\n",
    "stubsStation = bmtf_gmt.stubStation\n",
    "stubsSector = bmtf_gmt.stubSector\n",
    "stubsWheel = bmtf_gmt.stubWheel\n",
    "stubsPhiB = bmtf_gmt.stubHwPhiB\n",
    "\n",
    "\n",
    "#-----------------------------------------------BMTF------------------------------------------------\n",
    "nBmtf = bmtf_gmt.nBmtfMuons\n",
    "BmtfPhi = bmtf_gmt.bmtfPhi\n",
    "BmtfEta = bmtf_gmt.bmtfEta\n",
    "BmtfPt = bmtf_gmt.bmtfPt\n",
    "BmtfQual = bmtf_gmt.bmtfHwQual\n",
    "bmtfProc = bmtf_gmt.bmtfProcessor\n",
    "\n",
    "#-----------------------------------------------GMT------------------------------------------------\n",
    "nGmt = bmtf_gmt.nGmtMuons\n",
    "GmtPhi = bmtf_gmt.gmtPhi\n",
    "GmtEta = bmtf_gmt.gmtEta\n",
    "GmtPt = bmtf_gmt.gmtPt\n",
    "GmtQual = bmtf_gmt.gmtQual\n"
   ]
  },
  {
   "cell_type": "code",
   "execution_count": 4,
   "metadata": {},
   "outputs": [
    {
     "data": {
      "text/plain": [
       "'for i in range(1000):\\n  if nStubs[i] > 4:\\n    print(i, nStubs[i], stubsStation[i], stubsSector[i], stubsWheel[i])\\n    print(i, nBmtf[i], bmtfProc[i])'"
      ]
     },
     "execution_count": 4,
     "metadata": {},
     "output_type": "execute_result"
    }
   ],
   "source": [
    "'''for i in range(1000):\n",
    "  if nStubs[i] > 4:\n",
    "    print(i, nStubs[i], stubsStation[i], stubsSector[i], stubsWheel[i])\n",
    "    print(i, nBmtf[i], bmtfProc[i])'''"
   ]
  },
  {
   "cell_type": "code",
   "execution_count": 5,
   "metadata": {},
   "outputs": [],
   "source": [
    "BmtfFeatures = [nBmtf, BmtfPhi, BmtfEta, BmtfPt, BmtfQual]\n",
    "GmtFeatures = [nGmt, GmtPhi, GmtEta, GmtPt, GmtQual]"
   ]
  },
  {
   "cell_type": "code",
   "execution_count": 18,
   "metadata": {},
   "outputs": [],
   "source": [
    "def DeltaR(Phi1, Phi2, Eta1, Eta2):\n",
    "   return np.sqrt((Phi1 - Phi2)**2 + (Eta1 - Eta2)**2)\n",
    "\n",
    "def HSCP(Features, Number):\n",
    "   MuonsEvents = []\n",
    "\n",
    "   for i in tqdm.tqdm(range(Number - 1)):\n",
    "      nMuons = Features[0][i]\n",
    "      nMuonsP1 = Features[0][i + 1]\n",
    "      ArrPhi, ArrEta = np.array(Features[1][i]), np.array(Features[2][i])\n",
    "      ArrPt = np.array(Features[3][i])\n",
    "      ArrQual = np.array(Features[4][i])\n",
    "\n",
    "      DeltaRList, Index = [], []\n",
    "\n",
    "      PtDiff, matched = [], []\n",
    "\n",
    "      if nMuons == 0:\n",
    "         matched.append(False)\n",
    "\n",
    "      else:\n",
    "         if nMuonsP1 == 0:\n",
    "            matched.append(False)\n",
    "\n",
    "        \n",
    "         elif nMuons == 2 and nMuonsP1 == 1:\n",
    "            for j in range(nMuons):\n",
    "               PtDiff.append(np.abs(ArrPt[j] - Features[3][i + 1][0]))\n",
    "\n",
    "            j = np.argmin(PtDiff)\n",
    "\n",
    "            TT = [j == idx for idx in range(nMuons)]\n",
    "            DeltaRTemp = DeltaR(ArrPhi[j], BmtfFeatures[1][i + 1][0], ArrEta[j], BmtfFeatures[2][i + 1][0])\n",
    "            DeltaRList.append(DeltaRTemp)\n",
    "            Index.append((j, 0)) \n",
    "            matched.extend(TT)\n",
    "\n",
    "         else:\n",
    "            for j in range(nMuons):\n",
    "               DeltaRTemp = DeltaR(ArrPhi[j], BmtfFeatures[1][i + 1][:], ArrEta[j], BmtfFeatures[2][i + 1][:])\n",
    "               minDeltaR = np.min(DeltaRTemp)\n",
    "               IndexP1 = np.argmin(DeltaRTemp)\n",
    "               DeltaRList.append(minDeltaR)\n",
    "               Index.append((j, IndexP1)) \n",
    "               matched.append(True)\n",
    "\n",
    "\n",
    "      MuonProperty = {}\n",
    "      MuonP1Property = {}\n",
    "      \n",
    "      for feature in ['Pt', 'Eta', 'Phi', 'Qual']:\n",
    "         MuonProperty[feature] = []\n",
    "         MuonP1Property[feature] = []\n",
    "\n",
    "      for indx, (j, IndexP1) in enumerate(Index):\n",
    "         MuonProperty['Pt'].append(ArrPt[j])\n",
    "         MuonProperty['Eta'].append(ArrEta[j])\n",
    "         MuonProperty['Phi'].append(ArrPhi[j])\n",
    "         MuonProperty['Qual'].append(ArrQual[j])\n",
    "\n",
    "         MuonP1Property['Pt'].append(BmtfFeatures[3][i + 1][IndexP1])\n",
    "         MuonP1Property['Eta'].append(BmtfFeatures[2][i + 1][IndexP1])\n",
    "         MuonP1Property['Phi'].append(BmtfFeatures[1][i + 1][IndexP1])\n",
    "         MuonP1Property['Qual'].append(BmtfFeatures[4][i + 1][IndexP1])\n",
    "         \n",
    "\n",
    "    #Salvataggio nel dizionario\n",
    "      Events = {\n",
    "         'event': i,\n",
    "         'nMuons': nMuons,\n",
    "         'nMuonsP1': nMuonsP1,\n",
    "         'matched': matched,\n",
    "         'DeltaR': DeltaRList,\n",
    "         'MuonProperty': MuonProperty,\n",
    "         'MuonP1Property': MuonP1Property\n",
    "\n",
    "      }\n",
    "\n",
    "      MuonsEvents.append(Events)\n",
    "\n",
    "   return ak.Array(MuonsEvents)\n"
   ]
  },
  {
   "cell_type": "code",
   "execution_count": 19,
   "metadata": {},
   "outputs": [
    {
     "name": "stderr",
     "output_type": "stream",
     "text": [
      "100%|██████████| 99999/99999 [00:36<00:00, 2764.85it/s]\n"
     ]
    }
   ],
   "source": [
    "MuonsEventsBMTF = HSCP(BmtfFeatures, Number = 1_000_000)#len(BmtfFeatures[0]))"
   ]
  },
  {
   "cell_type": "code",
   "execution_count": 80,
   "metadata": {},
   "outputs": [],
   "source": [
    "'''#Save Dictionary\n",
    "with open('MuonsEventsBMTF2.pkl', 'wb') as f:\n",
    "    pickle.dump(MuonsEventsBMTF, f)'''"
   ]
  },
  {
   "cell_type": "code",
   "execution_count": 81,
   "metadata": {},
   "outputs": [],
   "source": [
    "'''with open('MuonsEventsBMTF2.pkl', 'rb') as f:\n",
    "    MuonsEventsBMTF = pickle.load(f)'''"
   ]
  },
  {
   "cell_type": "code",
   "execution_count": 20,
   "metadata": {},
   "outputs": [
    {
     "data": {
      "text/html": [
       "<pre>{event: 280,\n",
       " nMuons: 2,\n",
       " nMuonsP1: 1,\n",
       " matched: [True, False],\n",
       " DeltaR: [1.11],\n",
       " MuonProperty: {Pt: [9.5], Eta: [0.631], Phi: [0.196], Qual: [12]},\n",
       " MuonP1Property: {Pt: [4], Eta: [0.696], Phi: [1.31], Qual: [12]}}\n",
       "-------------------------------------------------------------------\n",
       "type: {\n",
       "    event: int64,\n",
       "    nMuons: int64,\n",
       "    nMuonsP1: int64,\n",
       "    matched: var * bool,\n",
       "    DeltaR: var * float64,\n",
       "    MuonProperty: {\n",
       "        Pt: var * float64,\n",
       "        Eta: var * float64,\n",
       "        Phi: var * float64,\n",
       "        Qual: var * int64\n",
       "    },\n",
       "    MuonP1Property: {\n",
       "        Pt: var * float64,\n",
       "        Eta: var * float64,\n",
       "        Phi: var * float64,\n",
       "        Qual: var * int64\n",
       "    }\n",
       "}</pre>"
      ],
      "text/plain": [
       "<Record {event: 280, nMuons: 2, ...} type='{event: int64, nMuons: int64, nM...'>"
      ]
     },
     "execution_count": 20,
     "metadata": {},
     "output_type": "execute_result"
    }
   ],
   "source": [
    "MuonsEventsBMTF[280]"
   ]
  },
  {
   "cell_type": "code",
   "execution_count": null,
   "metadata": {},
   "outputs": [],
   "source": [
    "bins = np.arange(0, 7, 0.1)\n",
    "DeltaRDist_HistBMTF = hist.Hist(hist.axis.Variable(bins, name=\"DeltaR\", label=\"DeltaR\"))\n",
    "DeltaRDist_HistGMT = hist.Hist(hist.axis.Variable(bins, name=\"DeltaR\", label=\"DeltaR\"))\n",
    "\n",
    "DeltaRDist_HistBMTF.fill(DeltaR = ak.flatten(MuonsEventsBMTF.DeltaR))\n",
    "#DeltaRDist_HistGMT.fill(DeltaR = ak.flatten(MuonsEventsGMT.DeltaR))\n",
    "\n",
    "fig, ax = plt.subplots(figsize=FIGSIZE, constrained_layout=True)\n",
    "set_label_font(ax, FONTSIZE)\n",
    "set_tick_font(ax, FONTSIZE-2)\n",
    "draw_grid(ax, axis=\"y\")\n",
    "draw_cms_label(ax, fontsize= FONTSIZE)\n",
    "\n",
    "hep.histplot(DeltaRDist_HistBMTF, yerr = False)\n",
    "hep.histplot(DeltaRDist_HistGMT, yerr = False)\n",
    "\n",
    "ax.grid(True)\n",
    "ax.legend(fontsize = FONTSIZE)\n",
    "ax.set_ylabel(\"Events\")\n",
    "#ax.set_yscale('log')\n",
    "\n",
    "ax.tick_params(axis='both', which='both', labelsize = FONTSIZE - 5)\n",
    "\n",
    "plt.show()\n"
   ]
  },
  {
   "cell_type": "code",
   "execution_count": null,
   "metadata": {},
   "outputs": [],
   "source": []
  },
  {
   "cell_type": "code",
   "execution_count": 128,
   "metadata": {},
   "outputs": [],
   "source": [
    "def FilteredMuonsEvents(MuonsEvents, Threshold):\n",
    "\n",
    "   MatchedMuonsEvents = MuonsEvents[MuonsEventsBMTF.matched == True]\n",
    "\n",
    "   MuonsDeltaR = MatchedMuonsEvents['DeltaR']\n",
    "   MuonsPt = MatchedMuonsEvents['MuonProperty']['Pt']\n",
    "   MuonsPtP1 = MatchedMuonsEvents['MuonP1Property']['Pt']\n",
    "   MuonsPhi = MatchedMuonsEvents['MuonProperty']['Phi']\n",
    "   MuonPhiP1 = MatchedMuonsEvents['MuonP1Property']['Phi']\n",
    "\n",
    "   matched_copy = np.array(MatchedMuonsEvents['matched'].to_list())\n",
    "\n",
    "   matched_copy[:] = False\n",
    "\n",
    "   for i in tqdm.tqdm(range(len(MatchedMuonsEvents))):\n",
    "      for j in range(len(MatchedMuonsEvents['DeltaR'][i])):\n",
    "\n",
    "         if ((MuonsDeltaR[i][j] < Threshold[0]) and (MuonsPt[i][j] > Threshold[1] and MuonsPtP1[i][j] > Threshold[1]) and (MuonsPhi[i][j] < Threshold[2] and MuonPhiP1[i][j] < Threshold[2])):\n",
    "            matched_copy[i] = True\n",
    "   MatchedMuonsEvents['matched'] = ak.from_numpy(matched_copy)\n",
    "\n",
    "   return MatchedMuonsEvents"
   ]
  },
  {
   "cell_type": "code",
   "execution_count": null,
   "metadata": {},
   "outputs": [],
   "source": [
    "FilMuonsEvents1 = FilteredMuonsEvents(MuonsEventsBMTF, [2, 0, 0])"
   ]
  },
  {
   "cell_type": "code",
   "execution_count": null,
   "metadata": {},
   "outputs": [],
   "source": [
    "FinalMuonsEvents1 = FilMuonsEvents1[FilMuonsEvents1.matched == True]\n",
    "FinalMuonsEvents1"
   ]
  },
  {
   "cell_type": "code",
   "execution_count": 144,
   "metadata": {},
   "outputs": [],
   "source": [
    "Pt1 = FinalMuonsEvents1['MuonProperty']['Pt']\n",
    "PtP11 = FinalMuonsEvents1['MuonP1Property']['Pt']\n",
    "Eta1 = FinalMuonsEvents1['MuonProperty']['Eta']\n",
    "EtaP11 = FinalMuonsEvents1['MuonP1Property']['Eta']"
   ]
  },
  {
   "cell_type": "code",
   "execution_count": null,
   "metadata": {},
   "outputs": [],
   "source": [
    "bins = np.arange(0, 255, 1)\n",
    "PtDist_HistBMTF1 = hist.Hist(hist.axis.Variable(bins, name=\"Pt\"))\n",
    "PtP1Dist_HistBMTF1 = hist.Hist(hist.axis.Variable(bins, name=\"PtP1\"))\n",
    "\n",
    "PtDist_HistBMTF1.fill(Pt = ak.flatten(Pt1))\n",
    "PtP1Dist_HistBMTF1.fill(PtP1 = ak.flatten(PtP11))\n",
    "\n",
    "fig, ax = plt.subplots(figsize=FIGSIZE, constrained_layout=True)\n",
    "set_label_font(ax, FONTSIZE)\n",
    "set_tick_font(ax, FONTSIZE-2)\n",
    "draw_grid(ax, axis=\"y\")\n",
    "draw_cms_label(ax, fontsize= FONTSIZE)\n",
    "\n",
    "hep.histplot(PtDist_HistBMTF1, yerr = False, label=\"Pt1\")\n",
    "#hep.histplot(PtP1Dist_HistBMTF1, yerr = False, label=\"PtP1\")\n",
    "\n",
    "\n",
    "ax.grid(True)\n",
    "ax.legend(fontsize = FONTSIZE)\n",
    "ax.set_ylabel(\"Events\")\n",
    "ax.set_yscale('log')\n",
    "\n",
    "ax.legend()\n",
    "\n",
    "ax.tick_params(axis='both', which='both', labelsize = FONTSIZE - 5)\n",
    "\n",
    "plt.show()"
   ]
  },
  {
   "cell_type": "code",
   "execution_count": null,
   "metadata": {},
   "outputs": [],
   "source": []
  }
 ],
 "metadata": {
  "kernelspec": {
   "display_name": "base",
   "language": "python",
   "name": "python3"
  },
  "language_info": {
   "codemirror_mode": {
    "name": "ipython",
    "version": 3
   },
   "file_extension": ".py",
   "mimetype": "text/x-python",
   "name": "python",
   "nbconvert_exporter": "python",
   "pygments_lexer": "ipython3",
   "version": "3.12.2"
  }
 },
 "nbformat": 4,
 "nbformat_minor": 2
}
